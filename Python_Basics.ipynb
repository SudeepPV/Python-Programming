{
  "nbformat": 4,
  "nbformat_minor": 0,
  "metadata": {
    "colab": {
      "provenance": []
    },
    "kernelspec": {
      "name": "python3",
      "display_name": "Python 3"
    },
    "language_info": {
      "name": "python"
    }
  },
  "cells": [
    {
      "cell_type": "code",
      "execution_count": null,
      "metadata": {
        "colab": {
          "base_uri": "https://localhost:8080/"
        },
        "id": "ZqGjFASVhLIM",
        "outputId": "4a0e90eb-1000-4497-8e69-d00254c31f05"
      },
      "outputs": [
        {
          "output_type": "stream",
          "name": "stdout",
          "text": [
            "3.11.13 (main, Jun  4 2025, 08:57:29) [GCC 11.4.0]\n"
          ]
        }
      ],
      "source": [
        "#Determining python version\n",
        "import sys  # Module contains sys.path, sys.getsizeof(obj), sys.exit()\n",
        "print(sys.version)"
      ]
    },
    {
      "cell_type": "markdown",
      "source": [
        "*   Python is a case sensitive language.\n",
        "*   Python has 33 keywords and keywords are in lowercase.\n",
        "\n",
        "\n",
        "\n",
        "\n",
        "\n"
      ],
      "metadata": {
        "id": "NvvxQfGdiIod"
      }
    },
    {
      "cell_type": "code",
      "source": [
        "import keyword\n",
        "print(keyword.kwlist)"
      ],
      "metadata": {
        "colab": {
          "base_uri": "https://localhost:8080/"
        },
        "id": "Zfl7evK_h4cc",
        "outputId": "6c038ef0-8b2b-471b-8547-7acdeadbe50a"
      },
      "execution_count": null,
      "outputs": [
        {
          "output_type": "stream",
          "name": "stdout",
          "text": [
            "['False', 'None', 'True', 'and', 'as', 'assert', 'async', 'await', 'break', 'class', 'continue', 'def', 'del', 'elif', 'else', 'except', 'finally', 'for', 'from', 'global', 'if', 'import', 'in', 'is', 'lambda', 'nonlocal', 'not', 'or', 'pass', 'raise', 'return', 'try', 'while', 'with', 'yield']\n"
          ]
        }
      ]
    },
    {
      "cell_type": "markdown",
      "source": [
        "\n",
        "\n",
        "*   Python identifier is a name given to entities like a variable, function, class, module, or other object.\n",
        "\n",
        " **Examples:**\n",
        "\n",
        "\n",
        "*   Valid identifiers:var1 = 5, _var1 = \"Python\", var_1 = 3.\n",
        "*   Invalid identifiers:1var = 5,var@1 = \"Python\", def = 3.14\n",
        "\n",
        "\n",
        "\n",
        "\n",
        "\n"
      ],
      "metadata": {
        "id": "XCk6YvZTi8ic"
      }
    },
    {
      "cell_type": "markdown",
      "source": [
        "**Python Types:**\n",
        "\n",
        "1.   Basic types: int, float, complex, bool, string, bytes.\n",
        "2.   Container types: list, tuple,set, dict\n",
        "3.   User-defined types: class\n",
        "\n",
        "\n",
        "\n"
      ],
      "metadata": {
        "id": "uONRkJTTk_E4"
      }
    },
    {
      "cell_type": "code",
      "source": [
        "print(27)\n",
        "print('NITC')\n",
        "print(2.5)"
      ],
      "metadata": {
        "colab": {
          "base_uri": "https://localhost:8080/"
        },
        "id": "WLOq1ILUV8B9",
        "outputId": "9cc0da84-2869-4f8d-bc8d-6fc8de2b7c72"
      },
      "execution_count": null,
      "outputs": [
        {
          "output_type": "stream",
          "name": "stdout",
          "text": [
            "27\n",
            "NITC\n",
            "2.5\n"
          ]
        }
      ]
    },
    {
      "cell_type": "code",
      "source": [
        "print(type(27))\n",
        "print(type('NITC'))\n",
        "print(type(2.5))"
      ],
      "metadata": {
        "colab": {
          "base_uri": "https://localhost:8080/"
        },
        "id": "V0NCqJJwlhVb",
        "outputId": "70ac5d9c-8ab3-4940-8404-2df8458745ec"
      },
      "execution_count": null,
      "outputs": [
        {
          "output_type": "stream",
          "name": "stdout",
          "text": [
            "<class 'int'>\n",
            "<class 'str'>\n",
            "<class 'float'>\n"
          ]
        }
      ]
    },
    {
      "cell_type": "code",
      "source": [
        "var1=5\n",
        "var2=10\n",
        "print(var2)\n",
        "var1"
      ],
      "metadata": {
        "colab": {
          "base_uri": "https://localhost:8080/"
        },
        "id": "bGGoXTYFwBNn",
        "outputId": "22c2deda-b56f-49ca-dd2e-eda8143f8c4f"
      },
      "execution_count": null,
      "outputs": [
        {
          "output_type": "stream",
          "name": "stdout",
          "text": [
            "10\n"
          ]
        },
        {
          "output_type": "execute_result",
          "data": {
            "text/plain": [
              "5"
            ]
          },
          "metadata": {},
          "execution_count": 21
        }
      ]
    },
    {
      "cell_type": "code",
      "source": [
        "#Multiple variable assignment\n",
        "a=b=c=d=14\n",
        "print(a)"
      ],
      "metadata": {
        "colab": {
          "base_uri": "https://localhost:8080/"
        },
        "id": "TZzPZeWFlysP",
        "outputId": "22758ba1-1337-4500-d3e9-254c7f238585"
      },
      "execution_count": null,
      "outputs": [
        {
          "output_type": "stream",
          "name": "stdout",
          "text": [
            "14\n"
          ]
        }
      ]
    },
    {
      "cell_type": "code",
      "source": [
        "# Define two numbers\n",
        "a = 10\n",
        "b = 3\n",
        "\n",
        "# Arithmetic operations\n",
        "addition = a + b\n",
        "subtraction = a - b\n",
        "multiplication = a * b\n",
        "division = a / b            # float division\n",
        "floor_division = a // b     # integer (floor) division\n",
        "modulus = a % b             # remainder\n",
        "exponentiation = a ** b     # a raised to the power of b\n",
        "\n",
        "# Display results\n",
        "print(\"Addition:        \", addition)\n",
        "print(\"Subtraction:     \", subtraction)\n",
        "print(\"Multiplication:  \", multiplication)\n",
        "print(\"Division:        \", division)\n",
        "print(\"Floor Division:  \", floor_division)\n",
        "print(\"Modulus:         \", modulus)\n",
        "print(\"Exponentiation:  \", exponentiation)"
      ],
      "metadata": {
        "colab": {
          "base_uri": "https://localhost:8080/"
        },
        "id": "p2HwQ0QRl-Ls",
        "outputId": "dd85024e-3d3c-48e8-923b-8a5546cf06d8"
      },
      "execution_count": null,
      "outputs": [
        {
          "output_type": "stream",
          "name": "stdout",
          "text": [
            "Addition:         13 Subtraction:      7\n",
            "Multiplication:   30\n",
            "Division:         3.3333333333333335\n",
            "Floor Division:   3\n",
            "Modulus:          1\n",
            "Exponentiation:   1000\n"
          ]
        }
      ]
    },
    {
      "cell_type": "markdown",
      "source": [
        "**PEDMAS Rule**\n",
        "\n",
        "P – Parentheses\n",
        "\n",
        "E – Exponents\n",
        "\n",
        "M/D – Multiplication and Division (from left to right)\n",
        "\n",
        "A/S – Addition and Subtraction (from left to right)"
      ],
      "metadata": {
        "id": "KswMBbt0mr5b"
      }
    },
    {
      "cell_type": "code",
      "source": [
        "# PEMDAS Example\n",
        "expr1 = 5 + 2 * 3       # Multiplication before addition\n",
        "expr2 = (5 + 2) * 3     # Parentheses first\n",
        "expr3 = 2 ** 3 + 4      # Exponent before addition\n",
        "expr4 = 10 - 4 / 2      # Division before subtraction\n",
        "expr5 = 8 / 4 * 2       # Left to right (division then multiplication)\n",
        "expr6 = 16 / 2 ** 2     # Exponent before division\n",
        "\n",
        "# Displaying results\n",
        "print(\"5 + 2 * 3        =\", expr1)  # 5 + 6 = 11\n",
        "print(\"(5 + 2) * 3      =\", expr2)  # 7 * 3 = 21\n",
        "print(\"2 ** 3 + 4       =\", expr3)  # 8 + 4 = 12\n",
        "print(\"10 - 4 / 2       =\", expr4)  # 10 - 2 = 8.0\n",
        "print(\"8 / 4 * 2        =\", expr5)  # 2.0 * 2 = 4.0\n",
        "print(\"16 / 2 ** 2      =\", expr6)  # 16 / 4 = 4.0\n"
      ],
      "metadata": {
        "colab": {
          "base_uri": "https://localhost:8080/"
        },
        "id": "ARiU6AxAmfA9",
        "outputId": "41189646-659d-423f-e32c-a65de4cb9cf1"
      },
      "execution_count": null,
      "outputs": [
        {
          "output_type": "stream",
          "name": "stdout",
          "text": [
            "5 + 2 * 3        = 11\n",
            "(5 + 2) * 3      = 21\n",
            "2 ** 3 + 4       = 12\n",
            "10 - 4 / 2       = 8.0\n",
            "8 / 4 * 2        = 4.0\n",
            "16 / 2 ** 2      = 4.0\n"
          ]
        }
      ]
    },
    {
      "cell_type": "markdown",
      "source": [
        "**escape characters**\n",
        "\n",
        "| Escape Sequence | Meaning                      | Example               | Output                       |\n",
        "| --------------- | ---------------------------- | --------------------- | ---------------------------- |\n",
        "| `\\'`            | Single quote                 | `'It\\'s OK'`          | `It's OK`                    |\n",
        "| `\\\"`            | Double quote                 | `\"He said \\\"Hello\\\"\"` | `He said \"Hello\"`            |\n",
        "| `\\\\`            | Backslash                    | `\"C:\\\\Users\\\\Name\"`   | `C:\\Users\\Name`              |\n",
        "| `\\n`            | Newline                      | `\"Line1\\nLine2\"`      | Line1<br>Line2               |\n",
        "| `\\t`            | Tab                          | `\"Name:\\tSudeep\"`     | `Name:   Sudeep`             |\n",
        "| `\\r`            | Carriage return              | `\"Hello\\rWorld\"`      | `World` (overwrites \"Hello\") |\n",
        "| `\\b`            | Backspace                    | `\"Erase\\b\\b\\bAdd\"`    | `ErAdd` (simulated)          |\n",
        "| `\\f`            | Form feed                    | `\"Hello\\fWorld\"`      | Varies (not often used)      |\n",
        "| `\\a`            | Bell (alert sound)           | `\"\\a\"`                | Triggers sound (if enabled)  |\n",
        "| `\\uXXXX`        | Unicode character (4 digits) | `\"\\u03A9\"`            | `Ω`                          |\n",
        "| `\\UXXXXXXXX`    | Unicode (8 digits)           | `\"\\U0001F600\"`        | 😀                           |\n"
      ],
      "metadata": {
        "id": "9w1q-Y2aWete"
      }
    },
    {
      "cell_type": "code",
      "source": [
        "print('It\\'s a beautiful day!')\n",
        "print(\"He said \\\"Python is fun!\\\"\")\n",
        "print(\"This is line one.\\nThis is line two.\")\n",
        "print(\"Column1\\tColumn2\\tColumn3\")\n",
        "print(\"Backslash: \\\\\")\n",
        "print(\"Unicode Omega: \\u03A9\")\n",
        "print(\"Emoji: \\U0001F600\")"
      ],
      "metadata": {
        "colab": {
          "base_uri": "https://localhost:8080/"
        },
        "id": "qQoBDWLQWmjz",
        "outputId": "6588f874-6135-44a2-dbe8-18e6914da6fc"
      },
      "execution_count": null,
      "outputs": [
        {
          "output_type": "stream",
          "name": "stdout",
          "text": [
            "It's a beautiful day!\n",
            "He said \"Python is fun!\"\n",
            "This is line one.\n",
            "This is line two.\n",
            "Column1\tColumn2\tColumn3\n",
            "Backslash: \\\n",
            "Unicode Omega: Ω\n",
            "Emoji: 😀\n"
          ]
        }
      ]
    },
    {
      "cell_type": "markdown",
      "source": [
        "To ignore escape sequences, prefix the string with r (raw string)"
      ],
      "metadata": {
        "id": "YlU-gkU8WvQs"
      }
    },
    {
      "cell_type": "code",
      "source": [
        "print(r\"C:\\Users\\NITC\\Documents\")"
      ],
      "metadata": {
        "colab": {
          "base_uri": "https://localhost:8080/"
        },
        "id": "wa4IyUihWxFb",
        "outputId": "ddd24c7b-bf08-4a4f-f235-ff76fffeaa50"
      },
      "execution_count": null,
      "outputs": [
        {
          "output_type": "stream",
          "name": "stdout",
          "text": [
            "C:\\Users\\NITC\\Documents\n"
          ]
        }
      ]
    },
    {
      "cell_type": "markdown",
      "source": [
        "**input()**"
      ],
      "metadata": {
        "id": "11OpnLtTY23G"
      }
    },
    {
      "cell_type": "code",
      "source": [
        "#input() -used to take user input from the keyboard during program execution.\n",
        "name = input(\"What is your name? \")\n",
        "print(\"Hello,\", name)"
      ],
      "metadata": {
        "colab": {
          "base_uri": "https://localhost:8080/"
        },
        "id": "GCPeu1t8XLEj",
        "outputId": "8ec83151-8994-4a12-9225-2886fc7960b9"
      },
      "execution_count": null,
      "outputs": [
        {
          "output_type": "stream",
          "name": "stdout",
          "text": [
            "What is your name? Sudeep\n",
            "Hello, Sudeep\n"
          ]
        }
      ]
    },
    {
      "cell_type": "code",
      "source": [
        "#Use int() or float() to convert the input to a number.\n",
        "count = int(input(\"Enter the count before adding the last item: \"))\n",
        "print(\"After adding the item\", count + 1)\n"
      ],
      "metadata": {
        "colab": {
          "base_uri": "https://localhost:8080/"
        },
        "id": "HDBiHwDTXjDr",
        "outputId": "2cbf646a-5532-4ec8-853f-7d89d2f0f2ce"
      },
      "execution_count": null,
      "outputs": [
        {
          "output_type": "stream",
          "name": "stdout",
          "text": [
            "Enter the count before adding the last item: 50\n",
            "After adding the item 51\n"
          ]
        }
      ]
    },
    {
      "cell_type": "code",
      "source": [
        "#Error\n",
        "\n",
        "# Common Mistake: This will raise an error if the user enters non-numeric input\n",
        "num = int(input(\"Enter a number: \"))  # e.g., if user types 'abc', it crashes\n"
      ],
      "metadata": {
        "colab": {
          "base_uri": "https://localhost:8080/",
          "height": 199
        },
        "id": "-EPYE-cuX_ub",
        "outputId": "f2647f74-d479-413c-d49f-c634b118df15"
      },
      "execution_count": null,
      "outputs": [
        {
          "name": "stdout",
          "output_type": "stream",
          "text": [
            "Enter a number: six\n"
          ]
        },
        {
          "output_type": "error",
          "ename": "ValueError",
          "evalue": "invalid literal for int() with base 10: 'six'",
          "traceback": [
            "\u001b[0;31m---------------------------------------------------------------------------\u001b[0m",
            "\u001b[0;31mValueError\u001b[0m                                Traceback (most recent call last)",
            "\u001b[0;32m/tmp/ipython-input-4138040422.py\u001b[0m in \u001b[0;36m<cell line: 0>\u001b[0;34m()\u001b[0m\n\u001b[1;32m      2\u001b[0m \u001b[0;34m\u001b[0m\u001b[0m\n\u001b[1;32m      3\u001b[0m \u001b[0;31m# Common Mistake: This will raise an error if the user enters non-numeric input\u001b[0m\u001b[0;34m\u001b[0m\u001b[0;34m\u001b[0m\u001b[0m\n\u001b[0;32m----> 4\u001b[0;31m \u001b[0mnum\u001b[0m \u001b[0;34m=\u001b[0m \u001b[0mint\u001b[0m\u001b[0;34m(\u001b[0m\u001b[0minput\u001b[0m\u001b[0;34m(\u001b[0m\u001b[0;34m\"Enter a number: \"\u001b[0m\u001b[0;34m)\u001b[0m\u001b[0;34m)\u001b[0m  \u001b[0;31m# e.g., if user types 'abc', it crashes\u001b[0m\u001b[0;34m\u001b[0m\u001b[0;34m\u001b[0m\u001b[0m\n\u001b[0m",
            "\u001b[0;31mValueError\u001b[0m: invalid literal for int() with base 10: 'six'"
          ]
        }
      ]
    },
    {
      "cell_type": "code",
      "source": [
        "##Error handling\n",
        "try:\n",
        "    num = int(input(\"Enter a number: \"))\n",
        "    print(\"Double of that is\", num * 2)\n",
        "except ValueError:\n",
        "    print(\"That's not a valid number!\")\n"
      ],
      "metadata": {
        "colab": {
          "base_uri": "https://localhost:8080/"
        },
        "id": "q119fdfBYkgc",
        "outputId": "1257ab03-2fbd-4b15-9a7b-afb58d7fd93d"
      },
      "execution_count": null,
      "outputs": [
        {
          "output_type": "stream",
          "name": "stdout",
          "text": [
            "Enter a number: six\n",
            "That's not a valid number!\n"
          ]
        }
      ]
    },
    {
      "cell_type": "markdown",
      "source": [
        "**eval()**"
      ],
      "metadata": {
        "id": "3jqjPQVXY5-i"
      }
    },
    {
      "cell_type": "code",
      "source": [
        "x = 10\n",
        "result = eval(\"x + 5\")\n",
        "print(result)  # Output: 15\n",
        "\n",
        "expr = input(\"Enter an expression: \")   # e.g., 3 * (4 + 5)\n",
        "print(\"Result:\", eval(expr))"
      ],
      "metadata": {
        "colab": {
          "base_uri": "https://localhost:8080/"
        },
        "id": "Nas_DXXFZ_Tc",
        "outputId": "e78e9ac8-c812-414f-a6b4-f9ab05b31ec0"
      },
      "execution_count": null,
      "outputs": [
        {
          "output_type": "stream",
          "name": "stdout",
          "text": [
            "15\n",
            "Enter an expression: 3*(4+5)\n",
            "Result: 27\n"
          ]
        }
      ]
    },
    {
      "cell_type": "code",
      "source": [
        "val1=eval(input('Enter the value:'))\n",
        "print('val1=',val1,'type:',type(val1))"
      ],
      "metadata": {
        "colab": {
          "base_uri": "https://localhost:8080/"
        },
        "id": "Io8n8Ih9aVX6",
        "outputId": "9bd6ae48-c9ff-49ec-981f-4e73c0fdcc2d"
      },
      "execution_count": null,
      "outputs": [
        {
          "output_type": "stream",
          "name": "stdout",
          "text": [
            "Enter the value:200\n",
            "val1= 200 type: <class 'int'>\n"
          ]
        }
      ]
    },
    {
      "cell_type": "markdown",
      "source": [
        "**Type casting (type conversion)**"
      ],
      "metadata": {
        "id": "V1HwDqGUnIJH"
      }
    },
    {
      "cell_type": "code",
      "source": [
        "# Integer to float\n",
        "x = 10\n",
        "x_float = float(x)\n",
        "print(\"Integer to float:\", x_float)\n",
        "\n",
        "# Float to integer\n",
        "y = 3.75\n",
        "y_int = int(y)\n",
        "print(\"Float to integer:\", y_int)\n",
        "\n",
        "# Integer to string\n",
        "z = 100\n",
        "z_str = str(z)\n",
        "print(\"Integer to string:\", z_str)\n",
        "\n",
        "# String to integer\n",
        "s1 = \"25\"\n",
        "s1_int = int(s1)\n",
        "print(\"String to integer:\", s1_int)\n",
        "\n",
        "# String to float\n",
        "s2 = \"3.14\"\n",
        "s2_float = float(s2)\n",
        "print(\"String to float:\", s2_float)\n",
        "\n",
        "# Number to boolean\n",
        "num = 0\n",
        "bool_val = bool(num)\n",
        "print(\"Number to boolean:\", bool_val)  # False, since 0 is \"falsy\"\n",
        "\n",
        "# Boolean to integer\n",
        "b = True\n",
        "b_int = int(b)\n",
        "print(\"Boolean to integer:\", b_int)    # True becomes 1"
      ],
      "metadata": {
        "colab": {
          "base_uri": "https://localhost:8080/"
        },
        "id": "dgRdhROVnStG",
        "outputId": "c295cc34-3063-41de-cd37-5698c6c7b81a"
      },
      "execution_count": null,
      "outputs": [
        {
          "output_type": "stream",
          "name": "stdout",
          "text": [
            "Integer to float: 10.0\n",
            "Float to integer: 3\n",
            "Integer to string: 100\n",
            "String to integer: 25\n",
            "String to float: 3.14\n",
            "Number to boolean: False\n",
            "Boolean to integer: 1\n"
          ]
        }
      ]
    },
    {
      "cell_type": "markdown",
      "source": [
        "**common built-in functions:**\n",
        "\n",
        "Note: help(function) gives help about any built-in function."
      ],
      "metadata": {
        "id": "5oOuxRkvnfEt"
      }
    },
    {
      "cell_type": "code",
      "source": [
        "#Help\n",
        "help(len)\n",
        "help(print)"
      ],
      "metadata": {
        "colab": {
          "base_uri": "https://localhost:8080/"
        },
        "id": "_47H0J06n7RZ",
        "outputId": "818b1311-5d88-4065-847a-ff611560f6a1"
      },
      "execution_count": null,
      "outputs": [
        {
          "output_type": "stream",
          "name": "stdout",
          "text": [
            "Help on built-in function len in module builtins:\n",
            "\n",
            "len(obj, /)\n",
            "    Return the number of items in a container.\n",
            "\n",
            "Help on built-in function print in module builtins:\n",
            "\n",
            "print(*args, sep=' ', end='\\n', file=None, flush=False)\n",
            "    Prints the values to a stream, or to sys.stdout by default.\n",
            "    \n",
            "    sep\n",
            "      string inserted between values, default a space.\n",
            "    end\n",
            "      string appended after the last value, default a newline.\n",
            "    file\n",
            "      a file-like object (stream); defaults to the current sys.stdout.\n",
            "    flush\n",
            "      whether to forcibly flush the stream.\n",
            "\n"
          ]
        }
      ]
    },
    {
      "cell_type": "code",
      "source": [
        "# Basic data\n",
        "nums = [3, 7, 2, 8, 4]\n",
        "\n",
        "# Built-in functions\n",
        "print(\"Length of list:\", len(nums))        # Count of elements\n",
        "print(\"Maximum value:\", max(nums))         # Largest element\n",
        "print(\"Minimum value:\", min(nums))         # Smallest element\n",
        "print(\"Sum of elements:\", sum(nums))       # Total sum\n",
        "print(\"Sorted list:\", sorted(nums))        # Returns a sorted copy\n",
        "print(\"Reversed list:\", list(reversed(nums)))  # Returns reversed iterator\n",
        "\n",
        "# Type-related\n",
        "x = 5.678\n",
        "print(\"Type of x:\", type(x))               # Data type of x\n",
        "print(\"Rounded x:\", round(x))              # Rounds to nearest integer\n",
        "print(\"Rounded x (1 decimal):\", round(x, 1))  # Rounded to 1 decimal place\n",
        "\n",
        "# Conversion\n",
        "print(\"String of 123:\", str(123))          # Converts int to string\n",
        "print(\"Integer from string '45':\", int(\"45\"))  # Converts string to int\n",
        "\n",
        "# Boolean checks\n",
        "print(\"All true?\", all([True, True, 1]))    # True if all are true\n",
        "print(\"Any true?\", any([False, 0, True]))   # True if any is true\n",
        "\n",
        "# Enumerate\n",
        "print(\"\\nEnumerating list:\")\n",
        "for index, value in enumerate(nums):\n",
        "    print(f\"Index {index} → Value {value}\")\n"
      ],
      "metadata": {
        "colab": {
          "base_uri": "https://localhost:8080/"
        },
        "id": "gdKr42-qngmA",
        "outputId": "f7bfba39-1588-496c-fd98-fafe5e06a105"
      },
      "execution_count": null,
      "outputs": [
        {
          "output_type": "stream",
          "name": "stdout",
          "text": [
            "Length of list: 5\n",
            "Maximum value: 8\n",
            "Minimum value: 2\n",
            "Sum of elements: 24\n",
            "Sorted list: [2, 3, 4, 7, 8]\n",
            "Reversed list: [4, 8, 2, 7, 3]\n",
            "Type of x: <class 'float'>\n",
            "Rounded x: 6\n",
            "Rounded x (1 decimal): 5.7\n",
            "String of 123: 123\n",
            "Integer from string '45': 45\n",
            "All true? True\n",
            "Any true? True\n",
            "\n",
            "Enumerating list:\n",
            "Index 0 → Value 3\n",
            "Index 1 → Value 7\n",
            "Index 2 → Value 2\n",
            "Index 3 → Value 8\n",
            "Index 4 → Value 4\n"
          ]
        }
      ]
    },
    {
      "cell_type": "code",
      "source": [
        "# abs, pow, divmod, bin, oct, hex\n",
        "# abs(): Absolute value\n",
        "a = -15\n",
        "print(\"abs(-15):\", abs(a))         # → 15\n",
        "\n",
        "# pow(): Exponentiation (like a ** b)\n",
        "b = 2\n",
        "e = 3\n",
        "print(\"pow(2, 3):\", pow(b, e))     # → 8\n",
        "\n",
        "# divmod(): Returns (quotient, remainder)\n",
        "num = 17\n",
        "den = 5\n",
        "q_r = divmod(num, den)\n",
        "print(\"divmod(17, 5):\", q_r)       # → (3, 2)\n",
        "\n",
        "# bin(): Binary representation\n",
        "n = 10\n",
        "print(\"bin(10):\", bin(n))          # → '0b1010'\n",
        "\n",
        "# oct(): Octal representation\n",
        "print(\"oct(10):\", oct(n))          # → '0o12'\n",
        "\n",
        "# hex(): Hexadecimal representation\n",
        "print(\"hex(10):\", hex(n))          # → '0xa'"
      ],
      "metadata": {
        "colab": {
          "base_uri": "https://localhost:8080/"
        },
        "id": "i9-gWZZEoPpz",
        "outputId": "37f77bd1-7bd7-42a3-fc6d-51c6d1e5c6e1"
      },
      "execution_count": null,
      "outputs": [
        {
          "output_type": "stream",
          "name": "stdout",
          "text": [
            "abs(-15): 15\n",
            "pow(2, 3): 8\n",
            "divmod(17, 5): (3, 2)\n",
            "bin(10): 0b1010\n",
            "oct(10): 0o12\n",
            "hex(10): 0xa\n"
          ]
        }
      ]
    },
    {
      "cell_type": "markdown",
      "source": [
        "**Built-in (standard library) Modules**\n",
        "\n",
        "Note: Each module contains many functions."
      ],
      "metadata": {
        "id": "7pH4U2copBTw"
      }
    },
    {
      "cell_type": "code",
      "source": [
        "import math # for real number math. Many useful functions available.\n",
        "\n",
        "print(\"math.sqrt(16):\", math.sqrt(16))         # Square root → 4.0\n",
        "print(\"math.factorial(5):\", math.factorial(5)) # 5! → 120\n",
        "print(\"math.pi:\", math.pi)                     # π → 3.14159...\n",
        "print(\"math.sin(math.pi / 2):\", math.sin(math.pi / 2))  # sin(90°) → 1.0"
      ],
      "metadata": {
        "colab": {
          "base_uri": "https://localhost:8080/"
        },
        "id": "Fb_os_jMpe3L",
        "outputId": "00647b48-23b9-46a2-978c-e74ca7bcc1d8"
      },
      "execution_count": null,
      "outputs": [
        {
          "output_type": "stream",
          "name": "stdout",
          "text": [
            "math.sqrt(16): 4.0\n",
            "math.factorial(5): 120\n",
            "math.pi: 3.141592653589793\n",
            "math.sin(math.pi / 2): 1.0\n"
          ]
        }
      ]
    },
    {
      "cell_type": "code",
      "source": [
        "import cmath # for complex number math\n",
        "\n",
        "z = complex(1, 2)\n",
        "print(\"cmath.sqrt(-1):\", cmath.sqrt(-1))       # → 1j\n",
        "print(\"cmath.phase(z):\", cmath.phase(z))       # Phase angle (radians)\n",
        "print(\"cmath.polar(z):\", cmath.polar(z))       # (r, θ) polar coordinates\n"
      ],
      "metadata": {
        "colab": {
          "base_uri": "https://localhost:8080/"
        },
        "id": "m357gju4p1JT",
        "outputId": "17a1650f-f3fd-492e-b3c6-5a2a0b511915"
      },
      "execution_count": null,
      "outputs": [
        {
          "output_type": "stream",
          "name": "stdout",
          "text": [
            "cmath.sqrt(-1): 1j\n",
            "cmath.phase(z): 1.1071487177940904\n",
            "cmath.polar(z): (2.23606797749979, 1.1071487177940904)\n"
          ]
        }
      ]
    },
    {
      "cell_type": "code",
      "source": [
        "import random #for generating random values\n",
        "\n",
        "print(\"random.random():\", random.random())         # Float in [0.0, 1.0)\n",
        "print(\"random.randint(1, 6):\", random.randint(1, 6))# Dice roll: 1–6\n",
        "print(\"random.choice(['red', 'blue']):\", random.choice(['red', 'blue']))\n",
        "print(\"random.shuffle([1, 2, 3, 4]):\", end=\" \")\n",
        "nums = [1, 2, 3, 4]\n",
        "random.shuffle(nums)\n",
        "print(nums)"
      ],
      "metadata": {
        "colab": {
          "base_uri": "https://localhost:8080/"
        },
        "id": "TaBxE_LJqJ2T",
        "outputId": "bb0422c0-0eb9-4973-ba84-9b8ce075eca5"
      },
      "execution_count": null,
      "outputs": [
        {
          "output_type": "stream",
          "name": "stdout",
          "text": [
            "random.random(): 0.6375630695696086\n",
            "random.randint(1, 6): 4\n",
            "random.choice(['red', 'blue']): red\n",
            "random.shuffle([1, 2, 3, 4]): [1, 3, 4, 2]\n"
          ]
        }
      ]
    },
    {
      "cell_type": "markdown",
      "source": [
        "decimal (code below) module contains functions for precise arithmetic operations.\n",
        "\n",
        "Python normally uses floating-point numbers (like float) for decimals. But these are based on binary fractions, not base-10, so they can’t always represent decimal values exactly.\n",
        "\n",
        "| Feature             | `float` (default)          | `Decimal` (from module)        |\n",
        "| ------------------- | -------------------------- | ------------------------------ |\n",
        "| Base                | Binary (base-2)            | Decimal (base-10)              |\n",
        "| Speed               | Faster                     | Slower                         |\n",
        "| Precision           | Approximate                | Exact                          |\n",
        "| Use case            | Science, graphics, general | Finance, accounting, precision |\n",
        "| Example (1.1 + 2.2) | `3.3000000000000003`       | `3.3`                          |\n"
      ],
      "metadata": {
        "id": "fcdUSQYdq1mM"
      }
    },
    {
      "cell_type": "code",
      "source": [
        "print(1.1 + 2.2)"
      ],
      "metadata": {
        "colab": {
          "base_uri": "https://localhost:8080/"
        },
        "id": "0hLnJArm7IBK",
        "outputId": "9e39f090-b92a-4831-b764-fcc25fe75f1a"
      },
      "execution_count": null,
      "outputs": [
        {
          "output_type": "stream",
          "name": "stdout",
          "text": [
            "3.3000000000000003\n"
          ]
        }
      ]
    },
    {
      "cell_type": "code",
      "source": [
        "print(1.1 + 2.2)   # Output: 3.3000000000000003\n",
        "\n",
        "from decimal import Decimal, getcontext\n",
        "\n",
        "getcontext().prec = 4\n",
        "a = Decimal('1.1')\n",
        "b = Decimal('2.2')\n",
        "print(\"Decimal('1.1') + Decimal('2.2'):\", a + b)  # Exact math: 3.3\n"
      ],
      "metadata": {
        "colab": {
          "base_uri": "https://localhost:8080/"
        },
        "id": "oGaJXl5kqrXA",
        "outputId": "50ae0f35-c2cc-41f8-fd75-a208df683186"
      },
      "execution_count": null,
      "outputs": [
        {
          "output_type": "stream",
          "name": "stdout",
          "text": [
            "3.3000000000000003\n",
            "Decimal('1.1') + Decimal('2.2'): 3.3\n"
          ]
        }
      ]
    },
    {
      "cell_type": "markdown",
      "source": [
        "**Python Container Data Types & Examples**"
      ],
      "metadata": {
        "id": "wNvbPeGOrqns"
      }
    },
    {
      "cell_type": "markdown",
      "source": [
        "| Type    | Ordered? | Mutable? | Allows duplicates?  | Access by |\n",
        "| ------- | -------- | -------- | ------------------- | --------- |\n",
        "| `list`  | ✅        | ✅        | ✅                   | Index     |\n",
        "| `tuple` | ✅        | ❌        | ✅                   | Index     |\n",
        "| `set`   | ❌        | ✅        | ❌                   | Value     |\n",
        "| `dict`  | ✅        | ✅        | Keys must be unique | Key       |\n",
        "| `str`   | ✅        | ❌        | ✅                   | Index     |\n"
      ],
      "metadata": {
        "id": "Av0SWOLJruKZ"
      }
    },
    {
      "cell_type": "code",
      "source": [
        "unique_nums = {2, 2, 3, 1}\n",
        "print(\"Set (no duplicates):\", unique_nums)"
      ],
      "metadata": {
        "colab": {
          "base_uri": "https://localhost:8080/"
        },
        "id": "uRX8wij37zfA",
        "outputId": "3483b801-9fc9-4107-a807-2cc65763bb17"
      },
      "execution_count": null,
      "outputs": [
        {
          "output_type": "stream",
          "name": "stdout",
          "text": [
            "Set (no duplicates): {1, 2, 3}\n"
          ]
        }
      ]
    },
    {
      "cell_type": "code",
      "source": [
        "# List → Ordered, changeable, allows duplicates\n",
        "fruits = [\"apple\", \"banana\", \"cherry\"]\n",
        "print(\"List:\", fruits)\n",
        "fruits.append(\"orange\")      # Add item\n",
        "print(\"Updated List:\", fruits)\n",
        "\n",
        "# Tuple → Ordered, unchangeable (immutable), allows duplicates\n",
        "coordinates = (10, 20)\n",
        "print(\"Tuple:\", coordinates)\n",
        "\n",
        "# Set → Unordered, no duplicates\n",
        "unique_nums = {1, 2, 2, 3}\n",
        "print(\"Set (no duplicates):\", unique_nums)\n",
        "unique_nums.add(4)\n",
        "print(\"Updated Set:\", unique_nums)\n",
        "\n",
        "# Dictionary → Key-value pairs, unordered (as of Python 3.6+, preserves insertion order)\n",
        "person = {\"name\": \"Alice\", \"age\": 25}\n",
        "print(\"Dictionary:\", person)\n",
        "person[\"city\"] = \"New York\"  # Add new key-value pair\n",
        "print(\"Updated Dictionary:\", person)\n",
        "\n",
        "# String → Immutable sequence of characters\n",
        "text = \"hello\"\n",
        "print(\"String:\", text)\n",
        "print(\"First character:\", text[0])\n"
      ],
      "metadata": {
        "colab": {
          "base_uri": "https://localhost:8080/"
        },
        "id": "kPZT5Fpxr1Qo",
        "outputId": "f229cb5c-1e01-4e62-945a-9dd020777af2"
      },
      "execution_count": null,
      "outputs": [
        {
          "output_type": "stream",
          "name": "stdout",
          "text": [
            "List: ['apple', 'banana', 'cherry']\n",
            "Updated List: ['apple', 'banana', 'cherry', 'orange']\n",
            "Tuple: (10, 20)\n",
            "Set (no duplicates): {1, 2, 3}\n",
            "Updated Set: {1, 2, 3, 4}\n",
            "Dictionary: {'name': 'Alice', 'age': 25}\n",
            "Updated Dictionary: {'name': 'Alice', 'age': 25, 'city': 'New York'}\n",
            "String: hello\n",
            "First character: h\n"
          ]
        }
      ]
    },
    {
      "cell_type": "code",
      "source": [
        "a=(5,)\n",
        "print(type(a))"
      ],
      "metadata": {
        "colab": {
          "base_uri": "https://localhost:8080/"
        },
        "id": "X4gPHz1l-SLe",
        "outputId": "f1a797c3-e5b5-42d5-8f01-178b7ba0d09d"
      },
      "execution_count": null,
      "outputs": [
        {
          "output_type": "stream",
          "name": "stdout",
          "text": [
            "<class 'tuple'>\n"
          ]
        }
      ]
    },
    {
      "cell_type": "markdown",
      "source": [
        "***List: Ordered, Mutable, Allows Duplicates.***"
      ],
      "metadata": {
        "id": "YWHwHhNwsi2Z"
      }
    },
    {
      "cell_type": "code",
      "source": [
        "# Ordered — index matters\n",
        "my_list = ['a', 'b', 'c']\n",
        "print(\"Original list:\", my_list)\n",
        "print(\"Element at index 1:\", my_list[1])  # → 'b'\n",
        "\n",
        "# Mutable — can change items\n",
        "my_list[1] = 'z'\n",
        "print(\"After mutation:\", my_list)         # → ['a', 'z', 'c']\n",
        "\n",
        "# Allows duplicates\n",
        "my_list.append('a')\n",
        "print(\"With duplicate:\", my_list)         # → ['a', 'z', 'c', 'a']\n"
      ],
      "metadata": {
        "colab": {
          "base_uri": "https://localhost:8080/"
        },
        "id": "NpZ_-pULtHD-",
        "outputId": "03dc5bdd-e78b-43c3-f905-ca898f7dbb16"
      },
      "execution_count": null,
      "outputs": [
        {
          "output_type": "stream",
          "name": "stdout",
          "text": [
            "Original list: ['a', 'b', 'c']\n",
            "Element at index 1: b\n",
            "After mutation: ['a', 'z', 'c']\n",
            "With duplicate: ['a', 'z', 'c', 'a']\n"
          ]
        }
      ]
    },
    {
      "cell_type": "markdown",
      "source": [
        "***Tuple & String: Ordered, NOT Mutable***"
      ],
      "metadata": {
        "id": "jnkgLq1LtQx6"
      }
    },
    {
      "cell_type": "code",
      "source": [
        "# Ordered\n",
        "my_tuple = ('x', 'y', 'z')\n",
        "print(\"Original tuple:\", my_tuple)\n",
        "print(\"Element at index 2:\", my_tuple[2])  # → 'z'"
      ],
      "metadata": {
        "colab": {
          "base_uri": "https://localhost:8080/"
        },
        "id": "ux7Z1TBisyis",
        "outputId": "94035f66-8d13-4c30-cf93-964718fee39d"
      },
      "execution_count": null,
      "outputs": [
        {
          "output_type": "stream",
          "name": "stdout",
          "text": [
            "Original tuple: ('x', 'y', 'z')\n",
            "Element at index 2: z\n"
          ]
        }
      ]
    },
    {
      "cell_type": "code",
      "source": [
        "# Not mutable — this will cause an error:\n",
        "my_tuple[1] = 'new'"
      ],
      "metadata": {
        "colab": {
          "base_uri": "https://localhost:8080/",
          "height": 164
        },
        "id": "TpVxdhfHs9dt",
        "outputId": "fac79049-d08e-4928-c95a-84fa7a9edccd"
      },
      "execution_count": null,
      "outputs": [
        {
          "output_type": "error",
          "ename": "TypeError",
          "evalue": "'tuple' object does not support item assignment",
          "traceback": [
            "\u001b[0;31m---------------------------------------------------------------------------\u001b[0m",
            "\u001b[0;31mTypeError\u001b[0m                                 Traceback (most recent call last)",
            "\u001b[0;32m/tmp/ipython-input-824663682.py\u001b[0m in \u001b[0;36m<cell line: 0>\u001b[0;34m()\u001b[0m\n\u001b[1;32m      1\u001b[0m \u001b[0;31m# Not mutable — this will cause an error:\u001b[0m\u001b[0;34m\u001b[0m\u001b[0;34m\u001b[0m\u001b[0m\n\u001b[0;32m----> 2\u001b[0;31m \u001b[0mmy_tuple\u001b[0m\u001b[0;34m[\u001b[0m\u001b[0;36m1\u001b[0m\u001b[0;34m]\u001b[0m \u001b[0;34m=\u001b[0m \u001b[0;34m'new'\u001b[0m\u001b[0;34m\u001b[0m\u001b[0;34m\u001b[0m\u001b[0m\n\u001b[0m",
            "\u001b[0;31mTypeError\u001b[0m: 'tuple' object does not support item assignment"
          ]
        }
      ]
    },
    {
      "cell_type": "code",
      "source": [
        "# Ordered\n",
        "my_str = \"hello\"\n",
        "print(\"Character at index 1:\", my_str[1])  # → 'e'\n",
        "\n",
        "# Not mutable — this will cause an error:\n",
        "# my_str[0] = 'H'      ← ❌ TypeError\n"
      ],
      "metadata": {
        "colab": {
          "base_uri": "https://localhost:8080/"
        },
        "id": "AlcHlHMvtB59",
        "outputId": "0b1aec6f-9c42-4a42-cf57-abc70de09d53"
      },
      "execution_count": null,
      "outputs": [
        {
          "output_type": "stream",
          "name": "stdout",
          "text": [
            "Character at index 1: e\n"
          ]
        }
      ]
    },
    {
      "cell_type": "markdown",
      "source": [
        "# STRINGS\n",
        "\n",
        "String Built-in Functions"
      ],
      "metadata": {
        "id": "hJ-rECu7uG_e"
      }
    },
    {
      "cell_type": "code",
      "source": [
        "s = \"hello\"\n",
        "\n",
        "print(\"Length:\", len(s))           # Count characters → 5\n",
        "print(\"Maximum char:\", max(s))    # Highest alphabetically → 'o'\n",
        "print(\"Minimum char:\", min(s))    # Lowest → 'e'\n",
        "print(\"ASCII of 'h':\", ord('h'))  # ASCII value → 104\n",
        "print(\"Char for 104:\", chr(104))  # From ASCII → 'h'"
      ],
      "metadata": {
        "colab": {
          "base_uri": "https://localhost:8080/"
        },
        "id": "yykmk1r7uOMX",
        "outputId": "47f72656-edac-4450-c892-9cd704b4aaf1"
      },
      "execution_count": null,
      "outputs": [
        {
          "output_type": "stream",
          "name": "stdout",
          "text": [
            "Length: 5\n",
            "Maximum char: o\n",
            "Minimum char: e\n",
            "ASCII of 'h': 104\n",
            "Char for 104: h\n"
          ]
        }
      ]
    },
    {
      "cell_type": "markdown",
      "source": [
        "String Methods"
      ],
      "metadata": {
        "id": "-3sXbHvMuXkB"
      }
    },
    {
      "cell_type": "code",
      "source": [
        "text = \"  Python is Fun!  \"\n",
        "\n",
        "print(\"Uppercase:\", text.upper())          # → '  PYTHON IS FUN!  '\n",
        "print(\"Lowercase:\", text.lower())          # → '  python is fun!  '\n",
        "print(\"Strip:\", text.strip())              # Removes spaces\n",
        "print(\"Replace:\", text.replace(\"Fun\", \"Awesome\"))\n",
        "print(\"Starts with 'Py':\", text.strip().startswith(\"Py\"))\n",
        "print(\"Ends with '!':\", text.strip().endswith(\"!\"))\n",
        "print(\"Split by space:\", text.split())     # → ['Python', 'is', 'Fun!']\n",
        "print(\"Find 'is':\", text.find(\"is\"))       # → index of first occurrence\n"
      ],
      "metadata": {
        "colab": {
          "base_uri": "https://localhost:8080/"
        },
        "id": "UeC0eNruuWfm",
        "outputId": "4d72a10e-3be2-49b7-c63c-0486df7c4609"
      },
      "execution_count": null,
      "outputs": [
        {
          "output_type": "stream",
          "name": "stdout",
          "text": [
            "Uppercase:   PYTHON IS FUN!  \n",
            "Lowercase:   python is fun!  \n",
            "Strip: Python is Fun!\n",
            "Replace:   Python is Awesome!  \n",
            "Starts with 'Py': True\n",
            "Ends with '!': True\n",
            "Split by space: ['Python', 'is', 'Fun!']\n",
            "Find 'is': 9\n"
          ]
        }
      ]
    },
    {
      "cell_type": "markdown",
      "source": [
        "String Conversions"
      ],
      "metadata": {
        "id": "swFGpKSEua_P"
      }
    },
    {
      "cell_type": "code",
      "source": [
        "num = 123\n",
        "flt = 3.14\n",
        "flag = True\n",
        "\n",
        "print(\"Number to string:\", str(num))       # '123'\n",
        "print(\"Float to string:\", str(flt))        # '3.14'\n",
        "print(\"Bool to string:\", str(flag))        # 'True'\n",
        "\n",
        "# String to number\n",
        "s1 = \"456\"\n",
        "print(\"String to int:\", int(s1))           # 456\n",
        "s2 = \"7.89\"\n",
        "print(\"String to float:\", float(s2))       # 7.89"
      ],
      "metadata": {
        "colab": {
          "base_uri": "https://localhost:8080/"
        },
        "id": "LvArtpe6ueAx",
        "outputId": "e64b580c-e185-4f7b-838d-f5d73b6d94fe"
      },
      "execution_count": null,
      "outputs": [
        {
          "output_type": "stream",
          "name": "stdout",
          "text": [
            "Number to string: 123\n",
            "Float to string: 3.14\n",
            "Bool to string: True\n",
            "String to int: 456\n",
            "String to float: 7.89\n"
          ]
        }
      ]
    },
    {
      "cell_type": "markdown",
      "source": [
        "String Comparison"
      ],
      "metadata": {
        "id": "ggLu2b9RusxQ"
      }
    },
    {
      "cell_type": "code",
      "source": [
        "a = \"apple\"\n",
        "b = \"banana\"\n",
        "c = \"apple\"\n",
        "\n",
        "print(\"a == b:\", a == b)         # False\n",
        "print(\"a == c:\", a == c)         # True\n",
        "print(\"a < b:\", a < b)           # True (alphabetical)\n",
        "print(\"a > b:\", a > b)           # False\n"
      ],
      "metadata": {
        "colab": {
          "base_uri": "https://localhost:8080/"
        },
        "id": "uReL5dyvuwr_",
        "outputId": "16a05b90-33e6-4376-fa5f-1619ccf74c8e"
      },
      "execution_count": null,
      "outputs": [
        {
          "output_type": "stream",
          "name": "stdout",
          "text": [
            "a == b: False\n",
            "a == c: True\n",
            "a < b: True\n",
            "a > b: False\n"
          ]
        }
      ]
    },
    {
      "cell_type": "markdown",
      "source": [
        "**Python Membership Operators**\n",
        "\n",
        "| Operator | Meaning              | Example                     |\n",
        "| -------- | -------------------- | --------------------------- |\n",
        "| `in`     | Value is present     | `'a' in 'cat'` → `True`     |\n",
        "| `not in` | Value is NOT present | `'z' not in 'cat'` → `True` |\n"
      ],
      "metadata": {
        "id": "5JvqG8fkvCQe"
      }
    },
    {
      "cell_type": "code",
      "source": [
        "# In a string\n",
        "word = \"hello\"\n",
        "print(\"'e' in word:\", 'e' in word)         # True\n",
        "print(\"'x' not in word:\", 'x' not in word) # True\n",
        "\n",
        "# In a list\n",
        "colors = [\"red\", \"blue\", \"green\"]\n",
        "print(\"'blue' in colors:\", 'blue' in colors)   # True\n",
        "\n",
        "# In a tuple\n",
        "nums = (1, 2, 3)\n",
        "print(\"2 in nums:\", 2 in nums)             # True\n",
        "\n",
        "# In a set\n",
        "vowels = {'a', 'e', 'i', 'o', 'u'}\n",
        "print(\"'i' in vowels:\", 'i' in vowels)     # True\n",
        "\n",
        "# In a dictionary (checks keys only!)\n",
        "person = {\"name\": \"Bob\", \"age\": 30}\n",
        "print(\"'name' in person:\", 'name' in person)    # True\n",
        "print(\"'Bob' in person:\", 'Bob' in person)      # False!\n"
      ],
      "metadata": {
        "colab": {
          "base_uri": "https://localhost:8080/"
        },
        "id": "e79ZmldAvGZY",
        "outputId": "d39363a8-a145-4a28-96c1-4103d2c51331"
      },
      "execution_count": null,
      "outputs": [
        {
          "output_type": "stream",
          "name": "stdout",
          "text": [
            "'e' in word: True\n",
            "'x' not in word: True\n",
            "'blue' in colors: True\n",
            "2 in nums: True\n",
            "'i' in vowels: True\n",
            "'name' in person: True\n",
            "'Bob' in person: False\n"
          ]
        }
      ]
    },
    {
      "cell_type": "markdown",
      "source": [
        "**Regular Expressions**\n",
        "\n",
        "Regular expressions are patterns used to match character combinations in strings.\n",
        "\n"
      ],
      "metadata": {
        "id": "1d2l_wVPvk5r"
      }
    },
    {
      "cell_type": "code",
      "source": [
        "import re\n",
        "\n",
        "text = \"My email is test123@example.com and I was born in 1998.\" #\"Please call me later.\"\n",
        "\n",
        "# 1. Search for a word\n",
        "match = re.search(\"email\", text)  #searches for the first occurrence of the substring \"email\" in the string text. if not found; it returns None.\n",
        "                                                                                    #AttributeError: 'NoneType' object has no attribute 'group'\n",
        "print(\"Search 'email':\", match.group()) # match.group() retrieves the actual matched string from the match object."
      ],
      "metadata": {
        "colab": {
          "base_uri": "https://localhost:8080/"
        },
        "id": "LvYy0_tUvy9V",
        "outputId": "935326ce-40e0-4c2d-a717-024a9224ea69"
      },
      "execution_count": null,
      "outputs": [
        {
          "output_type": "stream",
          "name": "stdout",
          "text": [
            "Search 'email': email\n"
          ]
        }
      ]
    },
    {
      "cell_type": "code",
      "source": [
        "#To find multiple (or specifically the second) occurrence of a substring, you need to use re.finditer() or re.findall().\n",
        "import re\n",
        "\n",
        "text = \"My email is test@example.com. Please send the email by tomorrow.\"\n",
        "\n",
        "# Find all occurrences of the substring 'email'\n",
        "matches = list(re.finditer(\"email\", text))\n",
        "print(matches)\n",
        "\n",
        "# Check if there are at least two matches\n",
        "if len(matches) >= 2:\n",
        "    print(\"Second occurrence of 'email':\", matches[1].group())  #matches[1] is the second match (index starts at 0).\n",
        "    print(\"Starts at index:\", matches[1].start())\n",
        "else:\n",
        "    print(\"Less than two occurrences found.\")\n",
        "#In output, span=(3, 8) email is between index 3 and index 8"
      ],
      "metadata": {
        "colab": {
          "base_uri": "https://localhost:8080/"
        },
        "id": "tzngWRABwY-X",
        "outputId": "074cd9d8-382c-4169-94ef-5f8bd51a8891"
      },
      "execution_count": null,
      "outputs": [
        {
          "output_type": "stream",
          "name": "stdout",
          "text": [
            "[<re.Match object; span=(3, 8), match='email'>, <re.Match object; span=(46, 51), match='email'>]\n",
            "Second occurrence of 'email': email\n",
            "Starts at index: 46\n"
          ]
        }
      ]
    },
    {
      "cell_type": "code",
      "source": [
        "#re.findall() returns only the matched substrings, not their positions.\n",
        "text = \"My email is test@example.com. Please send the email by tomorrow.\"\n",
        "\n",
        "# Find all occurrences of the substring 'email'\n",
        "matches = list(re.findall(\"email\", text))\n",
        "print(matches)"
      ],
      "metadata": {
        "colab": {
          "base_uri": "https://localhost:8080/"
        },
        "id": "uA4MEP0XyQyn",
        "outputId": "d2a9e737-eb50-429b-db66-480aabc3f3c2"
      },
      "execution_count": null,
      "outputs": [
        {
          "output_type": "stream",
          "name": "stdout",
          "text": [
            "['email', 'email']\n"
          ]
        }
      ]
    },
    {
      "cell_type": "code",
      "source": [
        "# 2. Find all digits\n",
        "import re\n",
        "#to extract all numbers (sequences of digits) from a string\n",
        "text = \"My email is test123@example.com and I was born in 1998.\"\n",
        "digits = re.findall(r\"\\d+\", text) #\\d matches any digit (0–9); + means one or more occurrences of the digits.\n",
        "print(\"All numbers:\", digits)  # → ['123', '1998']"
      ],
      "metadata": {
        "id": "RNapHWHDwdjG",
        "colab": {
          "base_uri": "https://localhost:8080/"
        },
        "outputId": "873911e2-9887-47be-a6d3-9544b6584b63"
      },
      "execution_count": null,
      "outputs": [
        {
          "output_type": "stream",
          "name": "stdout",
          "text": [
            "All numbers: ['123', '1998']\n"
          ]
        }
      ]
    },
    {
      "cell_type": "markdown",
      "source": [
        "# **Common Regex Patterns**\n",
        "\n",
        "| Pattern       | Meaning                          | Example Match         |\n",
        "| ------------- | -------------------------------- | --------------------- |\n",
        "| `.`           | Any character (except newline)   | `a.b` → matches `acb` |\n",
        "| `\\d`          | Digit                            | `\\d+` → `123`, `99`   |\n",
        "| `\\w`          | Word character (letters/numbers) | `\\w+` → `test123`     |\n",
        "| `\\s`          | Whitespace                       | `\\s+` splits words    |\n",
        "| `^` / `$`     | Start / End of string            | `^Hello` → must start |\n",
        "| `[abc]`       | a, b, or c                       | `a` in `[aeiou]`      |\n",
        "| `*`, `+`, `?` | Repeat 0+, 1+, or 0/1 times      | `a+` → `aaa`          |\n"
      ],
      "metadata": {
        "id": "AOJ9Xjxwwb5b"
      }
    },
    {
      "cell_type": "code",
      "source": [
        "# 3. Check if string starts with \"My\"\n",
        "print(\"Starts with 'My':\", bool(re.match(r\"My\", text)))\n",
        "\n",
        "#Unlike re.search(), which looks anywhere in the string, re.match() only checks the beginning.\n",
        "#The r before the string is a raw string marker — it tells Python not to interpret backslashes (so \\d, \\s, etc. work properly)."
      ],
      "metadata": {
        "colab": {
          "base_uri": "https://localhost:8080/"
        },
        "id": "c9Vp0KhThqwD",
        "outputId": "f994aab6-f3d6-4fc8-922e-4ea892105720"
      },
      "execution_count": null,
      "outputs": [
        {
          "output_type": "stream",
          "name": "stdout",
          "text": [
            "Starts with 'My': True\n"
          ]
        }
      ]
    },
    {
      "cell_type": "code",
      "source": [
        "# 4. Replace email with \"[hidden]\"\n",
        "new_text = re.sub(r\"\\S+@\\S+\", \"[hidden]\", text)\n",
        "print(\"Masked text:\", new_text)\n",
        "\n",
        "#re.sub(pattern, replacement, text);   Pattern = r\"\\S+@\\S+\"     Replacement = \"[hidden]\"   Text = \"My email is test123@example.com\"\n",
        "#\\S → any non-whitespace character (so not a space, tab, or newline)\n",
        "# t, e, s, t, 1, 2, 3 → all non-whitespace  Also, e, x, a, m, p, l, e, ., c, o, m → all non-whitespace\n",
        "#\\S+ → matches the username part (test123)    @ → matches the @        \\S+ again → matches the domain (example.com)"
      ],
      "metadata": {
        "colab": {
          "base_uri": "https://localhost:8080/"
        },
        "id": "1Fmv8yeqh4p1",
        "outputId": "a8cea826-ca27-4c12-9af8-9cf5a0f6ebbc"
      },
      "execution_count": null,
      "outputs": [
        {
          "output_type": "stream",
          "name": "stdout",
          "text": [
            "Masked text: My email is [hidden] Please send the email by tomorrow.\n"
          ]
        }
      ]
    },
    {
      "cell_type": "code",
      "source": [
        "# 5. Split on spaces\n",
        "words = re.split(r\"\\s+\", text)\n",
        "print(\"Split into words:\", words)"
      ],
      "metadata": {
        "colab": {
          "base_uri": "https://localhost:8080/"
        },
        "id": "v4YA9kgFlBik",
        "outputId": "c1c2fa29-bdf3-48a0-9ce8-681fa16ab5ab"
      },
      "execution_count": null,
      "outputs": [
        {
          "output_type": "stream",
          "name": "stdout",
          "text": [
            "Split into words: ['My', 'email', 'is', 'test@example.com.', 'Please', 'send', 'the', 'email', 'by', 'tomorrow.']\n"
          ]
        }
      ]
    },
    {
      "cell_type": "code",
      "source": [
        "import re\n",
        "\n",
        "text = \"apple banana cherry date\"\n",
        "matches = re.findall(r\"[abc]\", text)\n",
        "\n",
        "print(matches)"
      ],
      "metadata": {
        "colab": {
          "base_uri": "https://localhost:8080/"
        },
        "id": "UeuGvZ2rjQFg",
        "outputId": "ec362606-96b8-422e-ae9a-ae192de99436"
      },
      "execution_count": null,
      "outputs": [
        {
          "output_type": "stream",
          "name": "stdout",
          "text": [
            "['a', 'b', 'a', 'a', 'a', 'c', 'a']\n"
          ]
        }
      ]
    },
    {
      "cell_type": "markdown",
      "source": [
        "# **Control Statements**"
      ],
      "metadata": {
        "id": "mzBNyevbADLB"
      }
    },
    {
      "cell_type": "code",
      "source": [
        "# Basic if Statement\n",
        "x = 10\n",
        "if x > 5:\n",
        "    print(\"x is greater than 5\")"
      ],
      "metadata": {
        "colab": {
          "base_uri": "https://localhost:8080/"
        },
        "id": "Ti8SghQlwDx3",
        "outputId": "737242e4-a689-45d2-860b-8c9b6f8942b1"
      },
      "execution_count": null,
      "outputs": [
        {
          "output_type": "stream",
          "name": "stdout",
          "text": [
            "x is greater than 5\n"
          ]
        }
      ]
    },
    {
      "cell_type": "code",
      "source": [
        "#if-else Statement\n",
        "x = 3\n",
        "if x > 5:\n",
        "    print(\"x is greater than 5\")\n",
        "else:\n",
        "    print(\"x is not greater than 5\")"
      ],
      "metadata": {
        "colab": {
          "base_uri": "https://localhost:8080/"
        },
        "id": "0ZFiHuz5wyyt",
        "outputId": "8bef8b84-f840-4015-9851-99c3ffba2f6c"
      },
      "execution_count": null,
      "outputs": [
        {
          "output_type": "stream",
          "name": "stdout",
          "text": [
            "x is not greater than 5\n"
          ]
        }
      ]
    },
    {
      "cell_type": "code",
      "source": [
        "#if-elif-else Chain\n",
        "x = 5\n",
        "if x > 5:\n",
        "    print(\"x is big\")\n",
        "elif x == 5:\n",
        "    print(\"x is exactly 5\")\n",
        "else:\n",
        "    print(\"x is small\")"
      ],
      "metadata": {
        "colab": {
          "base_uri": "https://localhost:8080/"
        },
        "id": "-s8D8e-gw_yD",
        "outputId": "29f64f21-239a-4b43-9bf5-883e048203cf"
      },
      "execution_count": null,
      "outputs": [
        {
          "output_type": "stream",
          "name": "stdout",
          "text": [
            "x is exactly 5\n"
          ]
        }
      ]
    },
    {
      "cell_type": "code",
      "source": [
        "#Combining conditions\n",
        "age = 18\n",
        "has_id = True\n",
        "\n",
        "if age >= 18 and has_id:\n",
        "    print(\"Entry allowed\")\n",
        "else:\n",
        "    print(\"Access denied\")"
      ],
      "metadata": {
        "colab": {
          "base_uri": "https://localhost:8080/"
        },
        "id": "yOQRqfbpxQQm",
        "outputId": "2a4c86de-4194-4c75-fc66-b5bc920d2725"
      },
      "execution_count": null,
      "outputs": [
        {
          "output_type": "stream",
          "name": "stdout",
          "text": [
            "Entry allowed\n"
          ]
        }
      ]
    },
    {
      "cell_type": "markdown",
      "source": [
        "**FOR loop**\n",
        "\n",
        "for loop is used to iterate over items in a sequence (like a list, tuple, string, or range)."
      ],
      "metadata": {
        "id": "iGSvUsOB477g"
      }
    },
    {
      "cell_type": "code",
      "source": [
        "#Loop over a list\n",
        "fruits = [\"apple\", \"banana\", \"cherry\"]\n",
        "for fruit in fruits:\n",
        "    print(\"Fruit:\", fruit)"
      ],
      "metadata": {
        "colab": {
          "base_uri": "https://localhost:8080/"
        },
        "id": "k-BRJKQ-4xQU",
        "outputId": "b69a9952-e9b8-46ce-9854-5c6ca080b928"
      },
      "execution_count": null,
      "outputs": [
        {
          "output_type": "stream",
          "name": "stdout",
          "text": [
            "Fruit: apple\n",
            "Fruit: banana\n",
            "Fruit: cherry\n"
          ]
        }
      ]
    },
    {
      "cell_type": "code",
      "source": [
        "for i in range(5):\n",
        "    print(\"Number:\", i)"
      ],
      "metadata": {
        "colab": {
          "base_uri": "https://localhost:8080/"
        },
        "id": "GleOLxh35XT_",
        "outputId": "6035c524-22dd-4c99-c7fc-1037d1643aba"
      },
      "execution_count": null,
      "outputs": [
        {
          "output_type": "stream",
          "name": "stdout",
          "text": [
            "Number: 0\n",
            "Number: 1\n",
            "Number: 2\n",
            "Number: 3\n",
            "Number: 4\n"
          ]
        }
      ]
    },
    {
      "cell_type": "code",
      "source": [
        "for letter in \"Python\":\n",
        "    print(\"Letter:\", letter)"
      ],
      "metadata": {
        "colab": {
          "base_uri": "https://localhost:8080/"
        },
        "id": "63vmUuG_5cSw",
        "outputId": "dc1df5ac-4af3-4db8-91e7-f199c92bc2f7"
      },
      "execution_count": null,
      "outputs": [
        {
          "output_type": "stream",
          "name": "stdout",
          "text": [
            "Letter: P\n",
            "Letter: y\n",
            "Letter: t\n",
            "Letter: h\n",
            "Letter: o\n",
            "Letter: n\n"
          ]
        }
      ]
    },
    {
      "cell_type": "code",
      "source": [
        "# Using break in a for loop\n",
        "for i in range(1, 6):\n",
        "    if i == 4:\n",
        "        break\n",
        "    print(\"Break at:\", i)"
      ],
      "metadata": {
        "colab": {
          "base_uri": "https://localhost:8080/"
        },
        "id": "HTPgla5H5fNf",
        "outputId": "5e86337f-878b-4618-d5c3-cb47111b8f5c"
      },
      "execution_count": null,
      "outputs": [
        {
          "output_type": "stream",
          "name": "stdout",
          "text": [
            "Break at: 1\n",
            "Break at: 2\n",
            "Break at: 3\n"
          ]
        }
      ]
    },
    {
      "cell_type": "code",
      "source": [
        "#Using continue in a for loop\n",
        "for i in range(1, 6):\n",
        "    if i == 3:\n",
        "        continue\n",
        "    print(\"Continue skips 3:\", i)"
      ],
      "metadata": {
        "colab": {
          "base_uri": "https://localhost:8080/"
        },
        "id": "lRqPYmSh5xYq",
        "outputId": "e47c6537-4d9e-4ae0-9c9d-e83f32e5bd9a"
      },
      "execution_count": null,
      "outputs": [
        {
          "output_type": "stream",
          "name": "stdout",
          "text": [
            "Continue skips 3: 1\n",
            "Continue skips 3: 2\n",
            "Continue skips 3: 4\n",
            "Continue skips 3: 5\n"
          ]
        }
      ]
    },
    {
      "cell_type": "markdown",
      "source": [
        "**While loop**\n",
        "\n",
        "A while loop repeats a block of code as long as a condition is True."
      ],
      "metadata": {
        "id": "cy3-QPjy58BG"
      }
    },
    {
      "cell_type": "code",
      "source": [
        "#Simple Counting\n",
        "count = 1\n",
        "while count <= 5:\n",
        "    print(\"Count:\", count)\n",
        "    count += 1"
      ],
      "metadata": {
        "colab": {
          "base_uri": "https://localhost:8080/"
        },
        "id": "XPeM1yEn6Qe5",
        "outputId": "7eabca86-f4d4-459d-c5b0-1dfd17edc81f"
      },
      "execution_count": null,
      "outputs": [
        {
          "output_type": "stream",
          "name": "stdout",
          "text": [
            "Count: 1\n",
            "Count: 2\n",
            "Count: 3\n",
            "Count: 4\n",
            "Count: 5\n"
          ]
        }
      ]
    },
    {
      "cell_type": "markdown",
      "source": [
        "| Type       | Purpose                      |\n",
        "| ---------- | ---------------------------- |\n",
        "| `break`    | Exit the current loop early  |\n",
        "| `continue` | Skip the current iteration   |\n",
        "| `pass`     | Placeholder — do nothing now |\n"
      ],
      "metadata": {
        "id": "ENrzjjST69KI"
      }
    },
    {
      "cell_type": "code",
      "source": [
        "#Using break to stop early\n",
        "x = 1\n",
        "while True:\n",
        "    if x > 3:\n",
        "        break\n",
        "    print(\"x is\", x)\n",
        "    x += 1"
      ],
      "metadata": {
        "colab": {
          "base_uri": "https://localhost:8080/"
        },
        "id": "kFrp7ZZ-6V3o",
        "outputId": "3a989ab2-7ae4-4023-cc46-b15c8df9e857"
      },
      "execution_count": null,
      "outputs": [
        {
          "output_type": "stream",
          "name": "stdout",
          "text": [
            "x is 1\n",
            "x is 2\n",
            "x is 3\n"
          ]
        }
      ]
    },
    {
      "cell_type": "code",
      "source": [
        "#Using continue to skip even numbers\n",
        "n = 0\n",
        "while n < 5:\n",
        "    n += 1\n",
        "    if n % 2 == 0:\n",
        "        continue\n",
        "    print(\"Odd:\", n)"
      ],
      "metadata": {
        "colab": {
          "base_uri": "https://localhost:8080/"
        },
        "id": "Cx5AvSpn6e3-",
        "outputId": "eff72ff4-1c50-46fa-c223-a2c3f9dcd5fc"
      },
      "execution_count": null,
      "outputs": [
        {
          "output_type": "stream",
          "name": "stdout",
          "text": [
            "Odd: 1\n",
            "Odd: 3\n",
            "Odd: 5\n"
          ]
        }
      ]
    },
    {
      "cell_type": "code",
      "source": [
        "for i in range(3):\n",
        "    if i == 1:\n",
        "        pass  # Placeholder — maybe add code later\n",
        "    print(\"Loop:\", i)"
      ],
      "metadata": {
        "colab": {
          "base_uri": "https://localhost:8080/"
        },
        "id": "UOrLEMTF7K3t",
        "outputId": "b3ac25ed-f62d-40aa-8dca-c8a1339049bd"
      },
      "execution_count": null,
      "outputs": [
        {
          "output_type": "stream",
          "name": "stdout",
          "text": [
            "Loop: 0\n",
            "Loop: 1\n",
            "Loop: 2\n"
          ]
        }
      ]
    },
    {
      "cell_type": "markdown",
      "source": [
        "# **Functions**"
      ],
      "metadata": {
        "id": "SbeBy86qAIhj"
      }
    },
    {
      "cell_type": "markdown",
      "source": [
        "A function is a block of code that runs only when called.\n",
        "It can:\n",
        "\n",
        "*   Take inputs (called parameters)\n",
        "*   Return outputs\n",
        "*   Be reused as many times as needed"
      ],
      "metadata": {
        "id": "oLgPKF5H7XE1"
      }
    },
    {
      "cell_type": "code",
      "source": [
        "#Defining & Using a Function\n",
        "# 1. Define the function\n",
        "def greet(name):\n",
        "    print(\"Hello,\", name)\n",
        "\n",
        "# 2. Call the function\n",
        "greet(\"Alice\")\n",
        "greet(\"Bob\")"
      ],
      "metadata": {
        "colab": {
          "base_uri": "https://localhost:8080/"
        },
        "id": "85a6EtZh614n",
        "outputId": "b15b1317-031f-462f-d4c9-8b91b0643eae"
      },
      "execution_count": null,
      "outputs": [
        {
          "output_type": "stream",
          "name": "stdout",
          "text": [
            "Hello, Alice\n",
            "Hello, Bob\n"
          ]
        }
      ]
    },
    {
      "cell_type": "code",
      "source": [
        "#Function with Return Value\n",
        "def add(a, b):\n",
        "    return a + b\n",
        "\n",
        "result = add(3, 5)\n",
        "print(\"Sum:\", result)"
      ],
      "metadata": {
        "colab": {
          "base_uri": "https://localhost:8080/"
        },
        "id": "BcHydHfn8BRX",
        "outputId": "e06c2bae-3f1e-4d41-96d3-be1b75fc31c5"
      },
      "execution_count": null,
      "outputs": [
        {
          "output_type": "stream",
          "name": "stdout",
          "text": [
            "Sum: 8\n"
          ]
        }
      ]
    },
    {
      "cell_type": "code",
      "source": [
        "#Function with Default Parameter\n",
        "def welcome(name=\"Guest\"):\n",
        "    print(\"Welcome,\", name)\n",
        "\n",
        "welcome()           # Uses default\n",
        "welcome(\"Ramesh\")   # Uses given argument\n"
      ],
      "metadata": {
        "colab": {
          "base_uri": "https://localhost:8080/"
        },
        "id": "caXLJwkm8KxA",
        "outputId": "88f1c899-2b9f-4e3c-cb93-09512909d1e2"
      },
      "execution_count": null,
      "outputs": [
        {
          "output_type": "stream",
          "name": "stdout",
          "text": [
            "Welcome, Guest\n",
            "Welcome, Ramesh\n"
          ]
        }
      ]
    },
    {
      "cell_type": "code",
      "source": [
        "#Function with Multiple Returns\n",
        "def math_operations(x, y):\n",
        "    return x + y, x - y, x * y\n",
        "\n",
        "a, b, c = math_operations(10, 3)\n",
        "print(\"Add:\", a, \"Sub:\", b, \"Mul:\", c)"
      ],
      "metadata": {
        "colab": {
          "base_uri": "https://localhost:8080/"
        },
        "id": "quiwARvs8vWu",
        "outputId": "4078b8da-d1d5-491d-c5fb-b5e821e05bc1"
      },
      "execution_count": null,
      "outputs": [
        {
          "output_type": "stream",
          "name": "stdout",
          "text": [
            "Add: 13 Sub: 7 Mul: 30\n"
          ]
        }
      ]
    },
    {
      "cell_type": "markdown",
      "source": [
        "# **Sequences: Lists and Tuples**"
      ],
      "metadata": {
        "id": "B2gwqPFGAa7X"
      }
    },
    {
      "cell_type": "markdown",
      "source": [
        "**List**"
      ],
      "metadata": {
        "id": "dii7lxgDANyy"
      }
    },
    {
      "cell_type": "code",
      "source": [
        "c = [-45, 6, 0, 72, 1543] #Creating a List\n",
        "c"
      ],
      "metadata": {
        "colab": {
          "base_uri": "https://localhost:8080/"
        },
        "id": "qq4-AHVXAL1H",
        "outputId": "dca9709a-5b3f-4353-af63-2aa8d6b5767d"
      },
      "execution_count": null,
      "outputs": [
        {
          "output_type": "execute_result",
          "data": {
            "text/plain": [
              "[-45, 6, 0, 72, 1543]"
            ]
          },
          "metadata": {},
          "execution_count": 43
        }
      ]
    },
    {
      "cell_type": "code",
      "source": [
        "c[0] #Accessing Elements of a List"
      ],
      "metadata": {
        "colab": {
          "base_uri": "https://localhost:8080/"
        },
        "id": "FAtgl30m9H31",
        "outputId": "ee1dcf3b-29f7-493a-b348-2e1ac85ad9bd"
      },
      "execution_count": null,
      "outputs": [
        {
          "output_type": "execute_result",
          "data": {
            "text/plain": [
              "-45"
            ]
          },
          "metadata": {},
          "execution_count": 44
        }
      ]
    },
    {
      "cell_type": "code",
      "source": [
        "c[-3]#Accessing Elements from the End of the List with Negative Indices"
      ],
      "metadata": {
        "colab": {
          "base_uri": "https://localhost:8080/"
        },
        "id": "5hwyra2UBFi3",
        "outputId": "755187f5-675e-4e5f-abb9-04e7d62673d4"
      },
      "execution_count": null,
      "outputs": [
        {
          "output_type": "execute_result",
          "data": {
            "text/plain": [
              "0"
            ]
          },
          "metadata": {},
          "execution_count": 45
        }
      ]
    },
    {
      "cell_type": "code",
      "source": [
        "#Indices Must Be Integers or Integer Expressions\n",
        "a = 1\n",
        "b = 2\n",
        "c[a + b]"
      ],
      "metadata": {
        "colab": {
          "base_uri": "https://localhost:8080/"
        },
        "id": "FeoS6g4UBN7C",
        "outputId": "f27677ae-6738-4ddc-f7b3-30cf4b50041c"
      },
      "execution_count": null,
      "outputs": [
        {
          "output_type": "execute_result",
          "data": {
            "text/plain": [
              "72"
            ]
          },
          "metadata": {},
          "execution_count": 52
        }
      ]
    },
    {
      "cell_type": "code",
      "source": [
        "#Lists Are Mutable\n",
        "c[4] = 17\n",
        "c"
      ],
      "metadata": {
        "colab": {
          "base_uri": "https://localhost:8080/"
        },
        "id": "K_b6rMvCCl1u",
        "outputId": "3830d9b8-1c97-491a-d96a-5636a84eb31d"
      },
      "execution_count": null,
      "outputs": [
        {
          "output_type": "execute_result",
          "data": {
            "text/plain": [
              "[-45, 6, 0, 72, 17]"
            ]
          },
          "metadata": {},
          "execution_count": 53
        }
      ]
    },
    {
      "cell_type": "code",
      "source": [
        "#Some Sequences Are Immutable\n",
        "s = 'hello'\n",
        "s[0]"
      ],
      "metadata": {
        "colab": {
          "base_uri": "https://localhost:8080/",
          "height": 36
        },
        "id": "kKcEChhOCwAq",
        "outputId": "02fe0039-d1ce-4601-cf5d-b090e86e3634"
      },
      "execution_count": null,
      "outputs": [
        {
          "output_type": "execute_result",
          "data": {
            "text/plain": [
              "'h'"
            ],
            "application/vnd.google.colaboratory.intrinsic+json": {
              "type": "string"
            }
          },
          "metadata": {},
          "execution_count": 54
        }
      ]
    },
    {
      "cell_type": "code",
      "source": [
        "s[0] = 'H'"
      ],
      "metadata": {
        "colab": {
          "base_uri": "https://localhost:8080/",
          "height": 146
        },
        "id": "Xreq6XprC2rB",
        "outputId": "c8a1d469-0213-4cf5-b30d-482105ae5874"
      },
      "execution_count": null,
      "outputs": [
        {
          "output_type": "error",
          "ename": "TypeError",
          "evalue": "'str' object does not support item assignment",
          "traceback": [
            "\u001b[0;31m---------------------------------------------------------------------------\u001b[0m",
            "\u001b[0;31mTypeError\u001b[0m                                 Traceback (most recent call last)",
            "\u001b[0;32m/tmp/ipython-input-4062851757.py\u001b[0m in \u001b[0;36m<cell line: 0>\u001b[0;34m()\u001b[0m\n\u001b[0;32m----> 1\u001b[0;31m \u001b[0ms\u001b[0m\u001b[0;34m[\u001b[0m\u001b[0;36m0\u001b[0m\u001b[0;34m]\u001b[0m \u001b[0;34m=\u001b[0m \u001b[0;34m'H'\u001b[0m\u001b[0;34m\u001b[0m\u001b[0;34m\u001b[0m\u001b[0m\n\u001b[0m",
            "\u001b[0;31mTypeError\u001b[0m: 'str' object does not support item assignment"
          ]
        }
      ]
    },
    {
      "cell_type": "code",
      "source": [
        "c[100]"
      ],
      "metadata": {
        "colab": {
          "base_uri": "https://localhost:8080/",
          "height": 146
        },
        "id": "1YQVPh9QC-hz",
        "outputId": "b6531636-49cc-4a80-84fc-d72e85d07d44"
      },
      "execution_count": null,
      "outputs": [
        {
          "output_type": "error",
          "ename": "IndexError",
          "evalue": "list index out of range",
          "traceback": [
            "\u001b[0;31m---------------------------------------------------------------------------\u001b[0m",
            "\u001b[0;31mIndexError\u001b[0m                                Traceback (most recent call last)",
            "\u001b[0;32m/tmp/ipython-input-2687931364.py\u001b[0m in \u001b[0;36m<cell line: 0>\u001b[0;34m()\u001b[0m\n\u001b[0;32m----> 1\u001b[0;31m \u001b[0mc\u001b[0m\u001b[0;34m[\u001b[0m\u001b[0;36m100\u001b[0m\u001b[0;34m]\u001b[0m\u001b[0;34m\u001b[0m\u001b[0;34m\u001b[0m\u001b[0m\n\u001b[0m",
            "\u001b[0;31mIndexError\u001b[0m: list index out of range"
          ]
        }
      ]
    },
    {
      "cell_type": "code",
      "source": [
        "c[0] + c[1] + c[2]"
      ],
      "metadata": {
        "colab": {
          "base_uri": "https://localhost:8080/"
        },
        "id": "4-JHEudADHwc",
        "outputId": "bc0b46b6-33af-44a1-9f92-d1cbae0d10dd"
      },
      "execution_count": null,
      "outputs": [
        {
          "output_type": "execute_result",
          "data": {
            "text/plain": [
              "-39"
            ]
          },
          "metadata": {},
          "execution_count": 57
        }
      ]
    },
    {
      "cell_type": "code",
      "source": [
        "a_list = []\n",
        "for number in range(1, 6):\n",
        "    a_list += [number]\n",
        "a_list"
      ],
      "metadata": {
        "colab": {
          "base_uri": "https://localhost:8080/"
        },
        "id": "kIFkkBixDLrV",
        "outputId": "da1c0369-9667-4088-ee83-6c6ac0700e4f"
      },
      "execution_count": null,
      "outputs": [
        {
          "output_type": "execute_result",
          "data": {
            "text/plain": [
              "[1, 2, 3, 4, 5]"
            ]
          },
          "metadata": {},
          "execution_count": 58
        }
      ]
    },
    {
      "cell_type": "code",
      "source": [
        "letters = []\n",
        "letters += 'Python'\n",
        "letters"
      ],
      "metadata": {
        "colab": {
          "base_uri": "https://localhost:8080/"
        },
        "id": "bncvEEvlDbZf",
        "outputId": "ef6b8bf9-b7e7-4da2-f82e-39a52146004b"
      },
      "execution_count": null,
      "outputs": [
        {
          "output_type": "execute_result",
          "data": {
            "text/plain": [
              "['P', 'y', 't', 'h', 'o', 'n']"
            ]
          },
          "metadata": {},
          "execution_count": 59
        }
      ]
    },
    {
      "cell_type": "code",
      "source": [
        "#Concatenating Lists with +\n",
        "list1 = [10, 20, 30]\n",
        "list2 = [40, 50]\n",
        "concatenated_list = list1 + list2\n",
        "concatenated_list"
      ],
      "metadata": {
        "colab": {
          "base_uri": "https://localhost:8080/"
        },
        "id": "XyHyZD-KDrOq",
        "outputId": "35a5aa28-a7c1-4469-93d9-173e5bd661b5"
      },
      "execution_count": null,
      "outputs": [
        {
          "output_type": "execute_result",
          "data": {
            "text/plain": [
              "[10, 20, 30, 40, 50]"
            ]
          },
          "metadata": {},
          "execution_count": 60
        }
      ]
    },
    {
      "cell_type": "code",
      "source": [
        "for i in range(len(concatenated_list)):\n",
        "    print(f'{i}: {concatenated_list[i]}')"
      ],
      "metadata": {
        "colab": {
          "base_uri": "https://localhost:8080/"
        },
        "id": "YSti3V7IEJQm",
        "outputId": "2839a5f8-843e-45b2-bdbf-31615d9e9b99"
      },
      "execution_count": null,
      "outputs": [
        {
          "output_type": "stream",
          "name": "stdout",
          "text": [
            "0: 10\n",
            "1: 20\n",
            "2: 30\n",
            "3: 40\n",
            "4: 50\n"
          ]
        }
      ]
    },
    {
      "cell_type": "markdown",
      "source": [
        "**Tuples**"
      ],
      "metadata": {
        "id": "3M4L_6K0EQ5D"
      }
    },
    {
      "cell_type": "code",
      "source": [
        "#Creating Tuples\n",
        "student_tuple = ()\n",
        "student_tuple"
      ],
      "metadata": {
        "colab": {
          "base_uri": "https://localhost:8080/"
        },
        "id": "WtODNPv_EWtl",
        "outputId": "26ba452b-294f-453b-affa-ef57eb43f119"
      },
      "execution_count": null,
      "outputs": [
        {
          "output_type": "execute_result",
          "data": {
            "text/plain": [
              "()"
            ]
          },
          "metadata": {},
          "execution_count": 63
        }
      ]
    },
    {
      "cell_type": "code",
      "source": [
        "len(student_tuple)"
      ],
      "metadata": {
        "colab": {
          "base_uri": "https://localhost:8080/"
        },
        "id": "jyLKYdxREksB",
        "outputId": "a698fd73-2206-4e5f-b494-6050d0e5b03e"
      },
      "execution_count": null,
      "outputs": [
        {
          "output_type": "execute_result",
          "data": {
            "text/plain": [
              "0"
            ]
          },
          "metadata": {},
          "execution_count": 64
        }
      ]
    },
    {
      "cell_type": "code",
      "source": [
        "student_tuple = 'John', 'Green', 3.3\n",
        "print(type(student_tuple))\n",
        "student_tuple"
      ],
      "metadata": {
        "colab": {
          "base_uri": "https://localhost:8080/"
        },
        "id": "bdv44d_0Eq8Z",
        "outputId": "f2ed65be-d2ad-44ce-885b-44429829d9c6"
      },
      "execution_count": null,
      "outputs": [
        {
          "output_type": "stream",
          "name": "stdout",
          "text": [
            "<class 'tuple'>\n"
          ]
        },
        {
          "output_type": "execute_result",
          "data": {
            "text/plain": [
              "('John', 'Green', 3.3)"
            ]
          },
          "metadata": {},
          "execution_count": 67
        }
      ]
    },
    {
      "cell_type": "code",
      "source": [
        "a_singleton_tuple = ('red',)  # note the comma\n",
        "a_singleton_tuple"
      ],
      "metadata": {
        "colab": {
          "base_uri": "https://localhost:8080/"
        },
        "id": "owcZ8y5yE78h",
        "outputId": "fae77691-5fee-4262-f4f0-a79074d0aa52"
      },
      "execution_count": null,
      "outputs": [
        {
          "output_type": "execute_result",
          "data": {
            "text/plain": [
              "('red',)"
            ]
          },
          "metadata": {},
          "execution_count": 68
        }
      ]
    },
    {
      "cell_type": "code",
      "source": [
        "#Accessing Tuple Elements\n",
        "time_tuple = (9, 16, 1)\n",
        "time_tuple[0] * 3600 + time_tuple[1] * 60 + time_tuple[2]"
      ],
      "metadata": {
        "colab": {
          "base_uri": "https://localhost:8080/"
        },
        "id": "Xz5R7H6fFDQz",
        "outputId": "520f9d47-04f4-401d-83a8-879cf6603fd8"
      },
      "execution_count": null,
      "outputs": [
        {
          "output_type": "execute_result",
          "data": {
            "text/plain": [
              "33361"
            ]
          },
          "metadata": {},
          "execution_count": 69
        }
      ]
    },
    {
      "cell_type": "code",
      "source": [
        "#Adding Items to a String or Tuple\n",
        "tuple1 = (10, 20, 30)\n",
        "tuple2 = tuple1\n",
        "tuple1 += (40, 50)"
      ],
      "metadata": {
        "id": "SCg8AlhkFMQZ"
      },
      "execution_count": null,
      "outputs": []
    },
    {
      "cell_type": "code",
      "source": [
        "tuple1"
      ],
      "metadata": {
        "colab": {
          "base_uri": "https://localhost:8080/"
        },
        "id": "07dI-ZlYFyPl",
        "outputId": "d0507402-daa8-4c7f-d9a7-1088bd20eba7"
      },
      "execution_count": null,
      "outputs": [
        {
          "output_type": "execute_result",
          "data": {
            "text/plain": [
              "(10, 20, 30, 40, 50)"
            ]
          },
          "metadata": {},
          "execution_count": 71
        }
      ]
    },
    {
      "cell_type": "code",
      "source": [
        "tuple2"
      ],
      "metadata": {
        "colab": {
          "base_uri": "https://localhost:8080/"
        },
        "id": "lKHZT3hUF1bm",
        "outputId": "fc69954a-9a6a-4a44-fd11-e22a16afdc97"
      },
      "execution_count": null,
      "outputs": [
        {
          "output_type": "execute_result",
          "data": {
            "text/plain": [
              "(10, 20, 30)"
            ]
          },
          "metadata": {},
          "execution_count": 72
        }
      ]
    },
    {
      "cell_type": "code",
      "source": [
        "#Appending Tuples to Lists\n",
        "numbers = [1, 2, 3, 4, 5]\n",
        "numbers += (6, 7)\n",
        "numbers"
      ],
      "metadata": {
        "colab": {
          "base_uri": "https://localhost:8080/"
        },
        "id": "HwIKA7n4F_JK",
        "outputId": "573636b1-d89c-4577-f421-ed5baeb330b3"
      },
      "execution_count": null,
      "outputs": [
        {
          "output_type": "execute_result",
          "data": {
            "text/plain": [
              "[1, 2, 3, 4, 5, 6, 7]"
            ]
          },
          "metadata": {},
          "execution_count": 73
        }
      ]
    },
    {
      "cell_type": "code",
      "source": [
        "#Tuples May Contain Mutable Objects\n",
        "student_tuple = ('Amanda', 'Blue', [98, 75, 87])\n",
        "student_tuple[2][1] = 85\n",
        "student_tuple"
      ],
      "metadata": {
        "colab": {
          "base_uri": "https://localhost:8080/"
        },
        "id": "Yg623I4zG7ux",
        "outputId": "467138eb-8523-4699-b75e-a969fd975ab0"
      },
      "execution_count": null,
      "outputs": [
        {
          "output_type": "execute_result",
          "data": {
            "text/plain": [
              "('Amanda', 'Blue', [98, 85, 87])"
            ]
          },
          "metadata": {},
          "execution_count": 74
        }
      ]
    },
    {
      "cell_type": "markdown",
      "source": [
        "**Unpacking Sequences**"
      ],
      "metadata": {
        "id": "wuWI3eJlHa2P"
      }
    },
    {
      "cell_type": "code",
      "source": [
        "student_tuple = ('Amanda', [98, 85, 87])\n",
        "first_name, grades = student_tuple"
      ],
      "metadata": {
        "id": "JLP1SYJeHd-y"
      },
      "execution_count": null,
      "outputs": []
    },
    {
      "cell_type": "code",
      "source": [
        "first_name"
      ],
      "metadata": {
        "colab": {
          "base_uri": "https://localhost:8080/",
          "height": 36
        },
        "id": "qFAuxBsxHoAd",
        "outputId": "3dd60b72-b817-4b51-9ee4-7ebf1425e338"
      },
      "execution_count": null,
      "outputs": [
        {
          "output_type": "execute_result",
          "data": {
            "text/plain": [
              "'Amanda'"
            ],
            "application/vnd.google.colaboratory.intrinsic+json": {
              "type": "string"
            }
          },
          "metadata": {},
          "execution_count": 76
        }
      ]
    },
    {
      "cell_type": "code",
      "source": [
        "grades"
      ],
      "metadata": {
        "colab": {
          "base_uri": "https://localhost:8080/"
        },
        "id": "TUDRHSSzHqXX",
        "outputId": "69d541bf-ca4a-492b-e118-0b855f1d4b0e"
      },
      "execution_count": null,
      "outputs": [
        {
          "output_type": "execute_result",
          "data": {
            "text/plain": [
              "[98, 85, 87]"
            ]
          },
          "metadata": {},
          "execution_count": 77
        }
      ]
    },
    {
      "cell_type": "code",
      "source": [
        "first, second = 'hi'\n",
        "print(f'{first}  {second}')"
      ],
      "metadata": {
        "colab": {
          "base_uri": "https://localhost:8080/"
        },
        "id": "zPWsiWliHyf3",
        "outputId": "53ef2236-92b4-4eeb-aa6e-d611d6ac385d"
      },
      "execution_count": null,
      "outputs": [
        {
          "output_type": "stream",
          "name": "stdout",
          "text": [
            "h  i\n"
          ]
        }
      ]
    },
    {
      "cell_type": "code",
      "source": [
        "number1, number2, number3 = [2, 3, 5]\n",
        "print(f'{number1}  {number2}  {number3}')"
      ],
      "metadata": {
        "colab": {
          "base_uri": "https://localhost:8080/"
        },
        "id": "DvWnfOj_H-MS",
        "outputId": "7e288c84-02be-4d69-c3a0-dd1bf40079f3"
      },
      "execution_count": null,
      "outputs": [
        {
          "output_type": "stream",
          "name": "stdout",
          "text": [
            "2  3  5\n"
          ]
        }
      ]
    },
    {
      "cell_type": "code",
      "source": [
        "number1, number2, number3 = range(10, 40, 10)\n",
        "print(f'{number1}  {number2}  {number3}')"
      ],
      "metadata": {
        "colab": {
          "base_uri": "https://localhost:8080/"
        },
        "id": "JcS1AUpTID-X",
        "outputId": "1d4cafa2-2311-4ffb-b168-39d4f1a926ee"
      },
      "execution_count": null,
      "outputs": [
        {
          "output_type": "stream",
          "name": "stdout",
          "text": [
            "10  20  30\n"
          ]
        }
      ]
    },
    {
      "cell_type": "code",
      "source": [
        "#Swapping Values Via Packing and Unpacking\n",
        "number1 = 99\n",
        "number2 = 22\n",
        "number1, number2 = (number2, number1)"
      ],
      "metadata": {
        "id": "nSp1hOdzIPTy"
      },
      "execution_count": null,
      "outputs": []
    },
    {
      "cell_type": "code",
      "source": [
        "print(f'number1 = {number1}; number2 = {number2}')"
      ],
      "metadata": {
        "colab": {
          "base_uri": "https://localhost:8080/"
        },
        "id": "XhiCl5CSIgNz",
        "outputId": "aa0d25f6-8a19-4b6f-b96a-ba5757a524d6"
      },
      "execution_count": null,
      "outputs": [
        {
          "output_type": "stream",
          "name": "stdout",
          "text": [
            "number1 = 22; number2 = 99\n"
          ]
        }
      ]
    },
    {
      "cell_type": "code",
      "source": [
        "#Accessing Indices and Values with enumerate()\n",
        "colors = ['red', 'orange', 'yellow']\n",
        "list(enumerate(colors))"
      ],
      "metadata": {
        "colab": {
          "base_uri": "https://localhost:8080/"
        },
        "id": "6xTROvPNInY0",
        "outputId": "8ca05d65-73fa-429a-d49e-1536903d7e8e"
      },
      "execution_count": null,
      "outputs": [
        {
          "output_type": "execute_result",
          "data": {
            "text/plain": [
              "[(0, 'red'), (1, 'orange'), (2, 'yellow')]"
            ]
          },
          "metadata": {},
          "execution_count": 83
        }
      ]
    },
    {
      "cell_type": "code",
      "source": [
        "tuple(enumerate(colors))"
      ],
      "metadata": {
        "colab": {
          "base_uri": "https://localhost:8080/"
        },
        "id": "uKc5Or1kI2NR",
        "outputId": "1aeb30c1-cf1b-4bd9-91a5-46a5176506cb"
      },
      "execution_count": null,
      "outputs": [
        {
          "output_type": "execute_result",
          "data": {
            "text/plain": [
              "((0, 'red'), (1, 'orange'), (2, 'yellow'))"
            ]
          },
          "metadata": {},
          "execution_count": 84
        }
      ]
    },
    {
      "cell_type": "code",
      "source": [
        "for index, value in enumerate(colors):\n",
        "    print(f'{index}: {value}')"
      ],
      "metadata": {
        "colab": {
          "base_uri": "https://localhost:8080/"
        },
        "id": "8TQr6OJ-I5T3",
        "outputId": "230b74b9-f858-47b5-a6bc-74e1f60a3352"
      },
      "execution_count": null,
      "outputs": [
        {
          "output_type": "stream",
          "name": "stdout",
          "text": [
            "0: red\n",
            "1: orange\n",
            "2: yellow\n"
          ]
        }
      ]
    },
    {
      "cell_type": "markdown",
      "source": [
        "**Sequence Slicing**"
      ],
      "metadata": {
        "id": "kcl7rIxcJGCM"
      }
    },
    {
      "cell_type": "code",
      "source": [
        "numbers = [2, 3, 5, 7, 11, 13, 17, 19]\n",
        "numbers[2:6]"
      ],
      "metadata": {
        "colab": {
          "base_uri": "https://localhost:8080/"
        },
        "id": "wN1hEO6tJFKN",
        "outputId": "51176151-4a81-4bb5-b8e7-796835c05079"
      },
      "execution_count": null,
      "outputs": [
        {
          "output_type": "execute_result",
          "data": {
            "text/plain": [
              "[5, 7, 11, 13]"
            ]
          },
          "metadata": {},
          "execution_count": 90
        }
      ]
    },
    {
      "cell_type": "code",
      "source": [
        "numbers[:6]"
      ],
      "metadata": {
        "colab": {
          "base_uri": "https://localhost:8080/"
        },
        "id": "q4CUZ9NqJTpD",
        "outputId": "17883f8b-4d41-4017-b494-f32b99fb746c"
      },
      "execution_count": null,
      "outputs": [
        {
          "output_type": "execute_result",
          "data": {
            "text/plain": [
              "[2, 3, 5, 7, 11, 13]"
            ]
          },
          "metadata": {},
          "execution_count": 87
        }
      ]
    },
    {
      "cell_type": "code",
      "source": [
        "numbers[0:6]"
      ],
      "metadata": {
        "colab": {
          "base_uri": "https://localhost:8080/"
        },
        "id": "jSnTk9WJJWO3",
        "outputId": "39f8a5f4-9610-43a5-ba2c-aacbd42626f8"
      },
      "execution_count": null,
      "outputs": [
        {
          "output_type": "execute_result",
          "data": {
            "text/plain": [
              "[2, 3, 5, 7, 11, 13]"
            ]
          },
          "metadata": {},
          "execution_count": 88
        }
      ]
    },
    {
      "cell_type": "code",
      "source": [
        "numbers[6:]"
      ],
      "metadata": {
        "colab": {
          "base_uri": "https://localhost:8080/"
        },
        "id": "BSlNMYXWJgIT",
        "outputId": "707b5709-dcb5-4610-ea98-d485b981a765"
      },
      "execution_count": null,
      "outputs": [
        {
          "output_type": "execute_result",
          "data": {
            "text/plain": [
              "[17, 19]"
            ]
          },
          "metadata": {},
          "execution_count": 89
        }
      ]
    },
    {
      "cell_type": "code",
      "source": [
        "numbers[:]"
      ],
      "metadata": {
        "colab": {
          "base_uri": "https://localhost:8080/"
        },
        "id": "rPvWctXOJxDq",
        "outputId": "cd69bde3-09af-49a7-e682-3d502e93dbc3"
      },
      "execution_count": null,
      "outputs": [
        {
          "output_type": "execute_result",
          "data": {
            "text/plain": [
              "[2, 3, 5, 7, 11, 13, 17, 19]"
            ]
          },
          "metadata": {},
          "execution_count": 91
        }
      ]
    },
    {
      "cell_type": "code",
      "source": [
        "numbers[::2] #Slicing with Steps"
      ],
      "metadata": {
        "colab": {
          "base_uri": "https://localhost:8080/"
        },
        "id": "ItbACEaRJ2GH",
        "outputId": "de9057da-4958-4a7c-cefe-b43a9e660465"
      },
      "execution_count": null,
      "outputs": [
        {
          "output_type": "execute_result",
          "data": {
            "text/plain": [
              "[2, 5, 11, 17]"
            ]
          },
          "metadata": {},
          "execution_count": 92
        }
      ]
    },
    {
      "cell_type": "markdown",
      "source": [
        "Modifying Lists Via Slices"
      ],
      "metadata": {
        "id": "JESuw04OKL4x"
      }
    },
    {
      "cell_type": "code",
      "source": [
        "numbers[0:3] = ['two', 'three', 'five']\n",
        "numbers"
      ],
      "metadata": {
        "colab": {
          "base_uri": "https://localhost:8080/"
        },
        "id": "12uVMdG3KKJY",
        "outputId": "1218b166-1348-42d9-a484-45ea7dec8d56"
      },
      "execution_count": null,
      "outputs": [
        {
          "output_type": "execute_result",
          "data": {
            "text/plain": [
              "['two', 'three', 'five', 7, 11, 13, 17, 19]"
            ]
          },
          "metadata": {},
          "execution_count": 93
        }
      ]
    },
    {
      "cell_type": "code",
      "source": [
        "numbers = []\n",
        "numbers[0:3] = ['two', 'three', 'five']\n",
        "numbers"
      ],
      "metadata": {
        "colab": {
          "base_uri": "https://localhost:8080/"
        },
        "id": "9BOh74YOKUdI",
        "outputId": "af8cf471-50aa-4e0e-8728-5b7c753674c6"
      },
      "execution_count": null,
      "outputs": [
        {
          "output_type": "execute_result",
          "data": {
            "text/plain": [
              "['two', 'three', 'five']"
            ]
          },
          "metadata": {},
          "execution_count": 94
        }
      ]
    },
    {
      "cell_type": "code",
      "source": [
        "numbers = [2, 3, 5, 7, 11, 13, 17, 19]\n",
        "numbers[::2] = [100, 100, 100, 100]\n",
        "numbers"
      ],
      "metadata": {
        "colab": {
          "base_uri": "https://localhost:8080/"
        },
        "id": "S7gRuAsXKdCY",
        "outputId": "3ae095ce-fbb3-41dd-82f1-003c46f0806e"
      },
      "execution_count": null,
      "outputs": [
        {
          "output_type": "execute_result",
          "data": {
            "text/plain": [
              "[100, 3, 100, 7, 100, 13, 100, 19]"
            ]
          },
          "metadata": {},
          "execution_count": 99
        }
      ]
    },
    {
      "cell_type": "code",
      "source": [
        "id(numbers) #returns the memory address (or unique ID) of a Python object while the program is running."
      ],
      "metadata": {
        "colab": {
          "base_uri": "https://localhost:8080/"
        },
        "id": "JcqqAPqDKm9x",
        "outputId": "1cedacd6-4884-469c-f53e-523a29a0b4bd"
      },
      "execution_count": null,
      "outputs": [
        {
          "output_type": "execute_result",
          "data": {
            "text/plain": [
              "133605200086208"
            ]
          },
          "metadata": {},
          "execution_count": 100
        }
      ]
    },
    {
      "cell_type": "code",
      "source": [
        "id(numbers[0:5])"
      ],
      "metadata": {
        "colab": {
          "base_uri": "https://localhost:8080/"
        },
        "id": "Z473wrNjLAIL",
        "outputId": "dd96b5c6-25c9-4d48-f387-68bdc7df88fb"
      },
      "execution_count": null,
      "outputs": [
        {
          "output_type": "execute_result",
          "data": {
            "text/plain": [
              "133605200407040"
            ]
          },
          "metadata": {},
          "execution_count": 102
        }
      ]
    },
    {
      "cell_type": "code",
      "source": [
        "numbers = []\n",
        "id(numbers)"
      ],
      "metadata": {
        "colab": {
          "base_uri": "https://localhost:8080/"
        },
        "id": "pM1V_iVfK3gu",
        "outputId": "d4120109-ca05-4ada-ab30-9857ed45b00d"
      },
      "execution_count": null,
      "outputs": [
        {
          "output_type": "execute_result",
          "data": {
            "text/plain": [
              "133605200406848"
            ]
          },
          "metadata": {},
          "execution_count": 98
        }
      ]
    },
    {
      "cell_type": "markdown",
      "source": [
        "**del Statement**"
      ],
      "metadata": {
        "id": "vYGSw969LYa_"
      }
    },
    {
      "cell_type": "markdown",
      "source": [
        "Deleting the Element at a Specific List Index\n",
        "\n"
      ],
      "metadata": {
        "id": "cCIUaaYDMRCh"
      }
    },
    {
      "cell_type": "code",
      "source": [
        "numbers = list(range(0, 10))\n",
        "numbers"
      ],
      "metadata": {
        "colab": {
          "base_uri": "https://localhost:8080/"
        },
        "id": "Oow0UhuOLZuc",
        "outputId": "b56bc5a0-6ad3-43b0-b4b8-8047e5028eba"
      },
      "execution_count": null,
      "outputs": [
        {
          "output_type": "execute_result",
          "data": {
            "text/plain": [
              "[0, 1, 2, 3, 4, 5, 6, 7, 8, 9]"
            ]
          },
          "metadata": {},
          "execution_count": 12
        }
      ]
    },
    {
      "cell_type": "code",
      "source": [
        "del numbers[-1]\n",
        "numbers"
      ],
      "metadata": {
        "colab": {
          "base_uri": "https://localhost:8080/"
        },
        "id": "MiEo0D55LgkW",
        "outputId": "7cbcbb9e-11cf-4bec-da23-ae118f01c937"
      },
      "execution_count": null,
      "outputs": [
        {
          "output_type": "execute_result",
          "data": {
            "text/plain": [
              "[0, 1, 2, 3, 4, 5, 6, 7, 8]"
            ]
          },
          "metadata": {},
          "execution_count": 13
        }
      ]
    },
    {
      "cell_type": "markdown",
      "source": [
        "Deleting a Slice from a List"
      ],
      "metadata": {
        "id": "oxSgmHV0MYxY"
      }
    },
    {
      "cell_type": "code",
      "source": [
        "del numbers[0:2]\n",
        "numbers"
      ],
      "metadata": {
        "colab": {
          "base_uri": "https://localhost:8080/"
        },
        "id": "sWEqsaBgOsQQ",
        "outputId": "2fdd2314-69c9-42c7-c067-dd8442c889d0"
      },
      "execution_count": null,
      "outputs": [
        {
          "output_type": "execute_result",
          "data": {
            "text/plain": [
              "[2, 3, 4, 5, 6, 7, 8]"
            ]
          },
          "metadata": {},
          "execution_count": 14
        }
      ]
    },
    {
      "cell_type": "code",
      "source": [
        "del numbers[::2]\n",
        "numbers"
      ],
      "metadata": {
        "colab": {
          "base_uri": "https://localhost:8080/"
        },
        "id": "sjSEaUoEOyIF",
        "outputId": "12799040-7fee-4556-f53b-80ba79911545"
      },
      "execution_count": null,
      "outputs": [
        {
          "output_type": "execute_result",
          "data": {
            "text/plain": [
              "[3, 5, 7]"
            ]
          },
          "metadata": {},
          "execution_count": 15
        }
      ]
    },
    {
      "cell_type": "code",
      "source": [
        "del numbers  #Deleting a Variable from the Current Session\n",
        "numbers"
      ],
      "metadata": {
        "colab": {
          "base_uri": "https://localhost:8080/",
          "height": 164
        },
        "id": "rYVTo2a6PFA4",
        "outputId": "c0815483-58cc-4d40-9dcf-9474b92d1f22"
      },
      "execution_count": null,
      "outputs": [
        {
          "output_type": "error",
          "ename": "NameError",
          "evalue": "name 'numbers' is not defined",
          "traceback": [
            "\u001b[0;31m---------------------------------------------------------------------------\u001b[0m",
            "\u001b[0;31mNameError\u001b[0m                                 Traceback (most recent call last)",
            "\u001b[0;32m/tmp/ipython-input-3166900980.py\u001b[0m in \u001b[0;36m<cell line: 0>\u001b[0;34m()\u001b[0m\n\u001b[1;32m      1\u001b[0m \u001b[0;32mdel\u001b[0m \u001b[0mnumbers\u001b[0m  \u001b[0;31m#Deleting a Variable from the Current Session\u001b[0m\u001b[0;34m\u001b[0m\u001b[0;34m\u001b[0m\u001b[0m\n\u001b[0;32m----> 2\u001b[0;31m \u001b[0mnumbers\u001b[0m\u001b[0;34m\u001b[0m\u001b[0;34m\u001b[0m\u001b[0m\n\u001b[0m",
            "\u001b[0;31mNameError\u001b[0m: name 'numbers' is not defined"
          ]
        }
      ]
    },
    {
      "cell_type": "markdown",
      "source": [
        "**Passing Lists to Functions**"
      ],
      "metadata": {
        "id": "_BMiLGXePRuF"
      }
    },
    {
      "cell_type": "code",
      "source": [
        "def modify_elements(items):\n",
        "    \"\"\"\"Multiplies all element values in items by 2.\"\"\"\n",
        "    for i in range(len(items)):\n",
        "        items[i] *= 2"
      ],
      "metadata": {
        "id": "ZNO-qGPePZyY"
      },
      "execution_count": null,
      "outputs": []
    },
    {
      "cell_type": "code",
      "source": [
        "numbers = [10, 3, 7, 1, 9]\n",
        "modify_elements(numbers)\n",
        "numbers"
      ],
      "metadata": {
        "colab": {
          "base_uri": "https://localhost:8080/"
        },
        "id": "MWTOyeFePcXL",
        "outputId": "a92614c4-ea0b-48d0-e8fe-4881a012d376"
      },
      "execution_count": null,
      "outputs": [
        {
          "output_type": "execute_result",
          "data": {
            "text/plain": [
              "[20, 6, 14, 2, 18]"
            ]
          },
          "metadata": {},
          "execution_count": 110
        }
      ]
    },
    {
      "cell_type": "markdown",
      "source": [
        "**Passing a Tuple to a Function**"
      ],
      "metadata": {
        "id": "cifdhM_9Pno_"
      }
    },
    {
      "cell_type": "code",
      "source": [
        "numbers_tuple = (10, 20, 30)\n",
        "numbers_tuple"
      ],
      "metadata": {
        "colab": {
          "base_uri": "https://localhost:8080/"
        },
        "id": "DCqcbWq1PpKb",
        "outputId": "6c724166-de5d-4e2d-a4f9-bffa90d6d7e8"
      },
      "execution_count": null,
      "outputs": [
        {
          "output_type": "execute_result",
          "data": {
            "text/plain": [
              "(10, 20, 30)"
            ]
          },
          "metadata": {},
          "execution_count": 111
        }
      ]
    },
    {
      "cell_type": "code",
      "source": [
        "modify_elements(numbers_tuple)"
      ],
      "metadata": {
        "colab": {
          "base_uri": "https://localhost:8080/",
          "height": 236
        },
        "id": "mXXQy2giPywP",
        "outputId": "a0863bd5-575f-426c-debe-adbcc22b0e74"
      },
      "execution_count": null,
      "outputs": [
        {
          "output_type": "error",
          "ename": "TypeError",
          "evalue": "'tuple' object does not support item assignment",
          "traceback": [
            "\u001b[0;31m---------------------------------------------------------------------------\u001b[0m",
            "\u001b[0;31mTypeError\u001b[0m                                 Traceback (most recent call last)",
            "\u001b[0;32m/tmp/ipython-input-3211856685.py\u001b[0m in \u001b[0;36m<cell line: 0>\u001b[0;34m()\u001b[0m\n\u001b[0;32m----> 1\u001b[0;31m \u001b[0mmodify_elements\u001b[0m\u001b[0;34m(\u001b[0m\u001b[0mnumbers_tuple\u001b[0m\u001b[0;34m)\u001b[0m\u001b[0;34m\u001b[0m\u001b[0;34m\u001b[0m\u001b[0m\n\u001b[0m",
            "\u001b[0;32m/tmp/ipython-input-3456428931.py\u001b[0m in \u001b[0;36mmodify_elements\u001b[0;34m(items)\u001b[0m\n\u001b[1;32m      2\u001b[0m     \u001b[0;34m\"\"\"\"Multiplies all element values in items by 2.\"\"\"\u001b[0m\u001b[0;34m\u001b[0m\u001b[0;34m\u001b[0m\u001b[0m\n\u001b[1;32m      3\u001b[0m     \u001b[0;32mfor\u001b[0m \u001b[0mi\u001b[0m \u001b[0;32min\u001b[0m \u001b[0mrange\u001b[0m\u001b[0;34m(\u001b[0m\u001b[0mlen\u001b[0m\u001b[0;34m(\u001b[0m\u001b[0mitems\u001b[0m\u001b[0;34m)\u001b[0m\u001b[0;34m)\u001b[0m\u001b[0;34m:\u001b[0m\u001b[0;34m\u001b[0m\u001b[0;34m\u001b[0m\u001b[0m\n\u001b[0;32m----> 4\u001b[0;31m         \u001b[0mitems\u001b[0m\u001b[0;34m[\u001b[0m\u001b[0mi\u001b[0m\u001b[0;34m]\u001b[0m \u001b[0;34m*=\u001b[0m \u001b[0;36m2\u001b[0m\u001b[0;34m\u001b[0m\u001b[0;34m\u001b[0m\u001b[0m\n\u001b[0m",
            "\u001b[0;31mTypeError\u001b[0m: 'tuple' object does not support item assignment"
          ]
        }
      ]
    },
    {
      "cell_type": "markdown",
      "source": [
        " **Sorting Lists**"
      ],
      "metadata": {
        "id": "AyVf-PbgUFk0"
      }
    },
    {
      "cell_type": "code",
      "source": [
        "#Sorting a List in Ascending Order\n",
        "numbers = [10, 3, 7, 1, 9, 4, 2, 8, 5, 6]\n",
        "numbers.sort()\n",
        "numbers"
      ],
      "metadata": {
        "colab": {
          "base_uri": "https://localhost:8080/"
        },
        "id": "NssI3Lu5UEtr",
        "outputId": "d767b265-e4ac-4409-ecf9-44a2d65c8dcd"
      },
      "execution_count": null,
      "outputs": [
        {
          "output_type": "execute_result",
          "data": {
            "text/plain": [
              "[1, 2, 3, 4, 5, 6, 7, 8, 9, 10]"
            ]
          },
          "metadata": {},
          "execution_count": 113
        }
      ]
    },
    {
      "cell_type": "code",
      "source": [
        "numbers.sort(reverse=True)#Descending Order\n",
        "numbers"
      ],
      "metadata": {
        "colab": {
          "base_uri": "https://localhost:8080/"
        },
        "id": "nXmHS7J7UQl5",
        "outputId": "786ea970-68d0-41cc-f993-e3dd2dab5a48"
      },
      "execution_count": null,
      "outputs": [
        {
          "output_type": "execute_result",
          "data": {
            "text/plain": [
              "[10, 9, 8, 7, 6, 5, 4, 3, 2, 1]"
            ]
          },
          "metadata": {},
          "execution_count": 114
        }
      ]
    },
    {
      "cell_type": "markdown",
      "source": [
        "Built-In Function sorted"
      ],
      "metadata": {
        "id": "-NZSioa9UblG"
      }
    },
    {
      "cell_type": "code",
      "source": [
        "numbers = [10, 3, 7, 1, 9, 4, 2, 8, 5, 6]\n",
        "ascending_numbers = sorted(numbers)\n",
        "ascending_numbers"
      ],
      "metadata": {
        "colab": {
          "base_uri": "https://localhost:8080/"
        },
        "id": "jyZ6pSkIUcK7",
        "outputId": "87bd0029-205d-4f49-c1df-d876be6b2d67"
      },
      "execution_count": null,
      "outputs": [
        {
          "output_type": "execute_result",
          "data": {
            "text/plain": [
              "[1, 2, 3, 4, 5, 6, 7, 8, 9, 10]"
            ]
          },
          "metadata": {},
          "execution_count": 115
        }
      ]
    },
    {
      "cell_type": "code",
      "source": [
        "numbers"
      ],
      "metadata": {
        "colab": {
          "base_uri": "https://localhost:8080/"
        },
        "id": "liVOf47NUmhh",
        "outputId": "c69dd116-ba25-49f8-faaf-3e0d8560e011"
      },
      "execution_count": null,
      "outputs": [
        {
          "output_type": "execute_result",
          "data": {
            "text/plain": [
              "[10, 3, 7, 1, 9, 4, 2, 8, 5, 6]"
            ]
          },
          "metadata": {},
          "execution_count": 116
        }
      ]
    },
    {
      "cell_type": "code",
      "source": [
        "letters = 'fadgchjebi'\n",
        "ascending_letters = sorted(letters)\n",
        "ascending_letters"
      ],
      "metadata": {
        "colab": {
          "base_uri": "https://localhost:8080/"
        },
        "id": "-Hd-M38BUptG",
        "outputId": "5f4a5e48-eec4-4720-853c-961348f5cdf7"
      },
      "execution_count": null,
      "outputs": [
        {
          "output_type": "execute_result",
          "data": {
            "text/plain": [
              "['a', 'b', 'c', 'd', 'e', 'f', 'g', 'h', 'i', 'j']"
            ]
          },
          "metadata": {},
          "execution_count": 118
        }
      ]
    },
    {
      "cell_type": "code",
      "source": [
        "letters"
      ],
      "metadata": {
        "colab": {
          "base_uri": "https://localhost:8080/",
          "height": 36
        },
        "id": "l-jFrQh5VX2a",
        "outputId": "042b9506-65be-4e31-ed43-58d4525ffbb0"
      },
      "execution_count": null,
      "outputs": [
        {
          "output_type": "execute_result",
          "data": {
            "text/plain": [
              "'fadgchjebi'"
            ],
            "application/vnd.google.colaboratory.intrinsic+json": {
              "type": "string"
            }
          },
          "metadata": {},
          "execution_count": 119
        }
      ]
    },
    {
      "cell_type": "code",
      "source": [
        "colors = ('red', 'orange', 'yellow', 'green', 'blue')\n",
        "ascending_colors = sorted(colors)\n",
        "ascending_colors"
      ],
      "metadata": {
        "colab": {
          "base_uri": "https://localhost:8080/"
        },
        "id": "a224lGBsVbiF",
        "outputId": "df6ba6f2-d6c1-4e11-cb5b-4f4dac17e400"
      },
      "execution_count": null,
      "outputs": [
        {
          "output_type": "execute_result",
          "data": {
            "text/plain": [
              "['blue', 'green', 'orange', 'red', 'yellow']"
            ]
          },
          "metadata": {},
          "execution_count": 120
        }
      ]
    },
    {
      "cell_type": "code",
      "source": [
        "colors"
      ],
      "metadata": {
        "colab": {
          "base_uri": "https://localhost:8080/"
        },
        "id": "IDNwWF2zVizg",
        "outputId": "0284cfac-6218-47d3-a6cc-c74bb6b0ebeb"
      },
      "execution_count": null,
      "outputs": [
        {
          "output_type": "execute_result",
          "data": {
            "text/plain": [
              "('red', 'orange', 'yellow', 'green', 'blue')"
            ]
          },
          "metadata": {},
          "execution_count": 121
        }
      ]
    },
    {
      "cell_type": "markdown",
      "source": [
        " **Searching Sequences**"
      ],
      "metadata": {
        "id": "LmRxlaz2Vohn"
      }
    },
    {
      "cell_type": "code",
      "source": [
        "numbers=[]\n",
        "numbers = [3, 7, 1, 4, 2, 8, 5, 6]\n",
        "numbers.index(5) # Returns index value of 5 i.e., 6"
      ],
      "metadata": {
        "colab": {
          "base_uri": "https://localhost:8080/"
        },
        "id": "TcvvbC8TVqm1",
        "outputId": "27425626-d950-40be-f385-36dc3577ce0b"
      },
      "execution_count": null,
      "outputs": [
        {
          "output_type": "execute_result",
          "data": {
            "text/plain": [
              "6"
            ]
          },
          "metadata": {},
          "execution_count": 127
        }
      ]
    },
    {
      "cell_type": "code",
      "source": [
        "#Specifying the Starting Index of a Search\n",
        "numbers *= 2 #List duplication with *=\n",
        "numbers"
      ],
      "metadata": {
        "colab": {
          "base_uri": "https://localhost:8080/"
        },
        "id": "05hwcGE6VwqJ",
        "outputId": "e77e2935-20be-4b6b-e4ed-5966e2bc73fa"
      },
      "execution_count": null,
      "outputs": [
        {
          "output_type": "execute_result",
          "data": {
            "text/plain": [
              "[3, 7, 1, 4, 2, 8, 5, 6, 3, 7, 1, 4, 2, 8, 5, 6]"
            ]
          },
          "metadata": {},
          "execution_count": 128
        }
      ]
    },
    {
      "cell_type": "code",
      "source": [
        "numbers.index(5, 7) #list.index(value, start)"
      ],
      "metadata": {
        "colab": {
          "base_uri": "https://localhost:8080/"
        },
        "id": "NXRUY9SvWbMM",
        "outputId": "4bf5dcf4-fbdf-4aaf-a5cf-7feedb55db12"
      },
      "execution_count": null,
      "outputs": [
        {
          "output_type": "execute_result",
          "data": {
            "text/plain": [
              "14"
            ]
          },
          "metadata": {},
          "execution_count": 129
        }
      ]
    },
    {
      "cell_type": "code",
      "source": [
        "numbers.index(7, 0, 4) #list.index(value, start, stop); index 0 (inclusive) and index 4 (exclusive)"
      ],
      "metadata": {
        "colab": {
          "base_uri": "https://localhost:8080/"
        },
        "id": "VOmuXybUXF3z",
        "outputId": "3b50bf18-5271-473c-e2f2-b64684eb246b"
      },
      "execution_count": null,
      "outputs": [
        {
          "output_type": "execute_result",
          "data": {
            "text/plain": [
              "1"
            ]
          },
          "metadata": {},
          "execution_count": 130
        }
      ]
    },
    {
      "cell_type": "code",
      "source": [
        "numbers.index(8, 0, 4)"
      ],
      "metadata": {
        "colab": {
          "base_uri": "https://localhost:8080/",
          "height": 146
        },
        "id": "rOc01VOYXuwj",
        "outputId": "d51a29f1-295c-4f31-c72a-399083dcb734"
      },
      "execution_count": null,
      "outputs": [
        {
          "output_type": "error",
          "ename": "ValueError",
          "evalue": "8 is not in list",
          "traceback": [
            "\u001b[0;31m---------------------------------------------------------------------------\u001b[0m",
            "\u001b[0;31mValueError\u001b[0m                                Traceback (most recent call last)",
            "\u001b[0;32m/tmp/ipython-input-2065622881.py\u001b[0m in \u001b[0;36m<cell line: 0>\u001b[0;34m()\u001b[0m\n\u001b[0;32m----> 1\u001b[0;31m \u001b[0mnumbers\u001b[0m\u001b[0;34m.\u001b[0m\u001b[0mindex\u001b[0m\u001b[0;34m(\u001b[0m\u001b[0;36m8\u001b[0m\u001b[0;34m,\u001b[0m \u001b[0;36m0\u001b[0m\u001b[0;34m,\u001b[0m \u001b[0;36m4\u001b[0m\u001b[0;34m)\u001b[0m\u001b[0;34m\u001b[0m\u001b[0;34m\u001b[0m\u001b[0m\n\u001b[0m",
            "\u001b[0;31mValueError\u001b[0m: 8 is not in list"
          ]
        }
      ]
    },
    {
      "cell_type": "code",
      "source": [
        "#Using Operator in to Prevent a ValueError\n",
        "key = 1000\n",
        "if key in numbers:\n",
        "    print(f'found {key} at index {numbers.index(search_key)}')\n",
        "else:\n",
        "    print(f'{key} not found')"
      ],
      "metadata": {
        "colab": {
          "base_uri": "https://localhost:8080/"
        },
        "id": "Cppkz66cXxLp",
        "outputId": "c9b049b2-298a-46c0-edeb-ed9fe4572c77"
      },
      "execution_count": null,
      "outputs": [
        {
          "output_type": "stream",
          "name": "stdout",
          "text": [
            "1000 not found\n"
          ]
        }
      ]
    },
    {
      "cell_type": "markdown",
      "source": [
        "**Other List Methods**"
      ],
      "metadata": {
        "id": "AmrvCpzaZD1y"
      }
    },
    {
      "cell_type": "markdown",
      "source": [
        "| Method         | What it does                     | Example Result   |\n",
        "| -------------- | -------------------------------- | ---------------- |\n",
        "| `append(x)`    | Adds one item (any type)         | `[1, 2, [3, 4]]` |\n",
        "| `extend(x)`    | Adds all items from iterable `x` | `[1, 2, 3, 4]`   |\n",
        "| `insert(i, x)` | Inserts `x` at index `i`         | `[1, x, 2, 3]`   |\n"
      ],
      "metadata": {
        "id": "wYIXrYb1Z94v"
      }
    },
    {
      "cell_type": "code",
      "source": [
        "#insert()\n",
        "color_names = ['orange', 'yellow', 'green']\n",
        "color_names.insert(0, 'red')\n",
        "color_names"
      ],
      "metadata": {
        "colab": {
          "base_uri": "https://localhost:8080/"
        },
        "id": "N4CgfbK0ZFr-",
        "outputId": "33a73c1f-5197-4dff-b257-0f5d1ec0ec58"
      },
      "execution_count": null,
      "outputs": [
        {
          "output_type": "execute_result",
          "data": {
            "text/plain": [
              "['red', 'orange', 'yellow', 'green']"
            ]
          },
          "metadata": {},
          "execution_count": 135
        }
      ]
    },
    {
      "cell_type": "code",
      "source": [
        "#append()  Adds to the end of the list\n",
        "color_names.append('blue')\n",
        "color_names"
      ],
      "metadata": {
        "colab": {
          "base_uri": "https://localhost:8080/"
        },
        "id": "qCoBuco9ZWCa",
        "outputId": "d7087596-ead2-4077-8df1-dab6e75f0e1c"
      },
      "execution_count": null,
      "outputs": [
        {
          "output_type": "execute_result",
          "data": {
            "text/plain": [
              "['red', 'orange', 'yellow', 'green', 'blue']"
            ]
          },
          "metadata": {},
          "execution_count": 136
        }
      ]
    },
    {
      "cell_type": "code",
      "source": [
        "color_names = []\n",
        "color_names = ['orange', 'yellow', 'green']\n",
        "color_names.append(['indigo', 'violet'])\n",
        "color_names"
      ],
      "metadata": {
        "colab": {
          "base_uri": "https://localhost:8080/"
        },
        "id": "cMdItVffaSQ_",
        "outputId": "e2fe0816-afef-4ed4-d2d8-0b87a1319f6b"
      },
      "execution_count": null,
      "outputs": [
        {
          "output_type": "execute_result",
          "data": {
            "text/plain": [
              "['orange', 'yellow', 'green', ['indigo', 'violet']]"
            ]
          },
          "metadata": {},
          "execution_count": 138
        }
      ]
    },
    {
      "cell_type": "code",
      "source": [
        "color_names = []\n",
        "color_names = ['orange', 'yellow', 'green']\n",
        "color_names.extend(['indigo', 'violet'])\n",
        "color_names"
      ],
      "metadata": {
        "colab": {
          "base_uri": "https://localhost:8080/"
        },
        "id": "rqPSCXZPZsY2",
        "outputId": "e9c64f74-0257-42e8-d971-582fcb13471c"
      },
      "execution_count": null,
      "outputs": [
        {
          "output_type": "execute_result",
          "data": {
            "text/plain": [
              "['orange', 'yellow', 'green', 'indigo', 'violet']"
            ]
          },
          "metadata": {},
          "execution_count": 141
        }
      ]
    },
    {
      "cell_type": "code",
      "source": [
        "#Removing the First Occurrence of an Element in a List\n",
        "color_names.remove('green')\n",
        "color_names"
      ],
      "metadata": {
        "colab": {
          "base_uri": "https://localhost:8080/"
        },
        "id": "6s2sWeHnawSV",
        "outputId": "b4d0ce81-1f35-4dc9-c6e7-7be949d74b75"
      },
      "execution_count": null,
      "outputs": [
        {
          "output_type": "execute_result",
          "data": {
            "text/plain": [
              "['orange', 'yellow', 'indigo', 'violet']"
            ]
          },
          "metadata": {},
          "execution_count": 142
        }
      ]
    },
    {
      "cell_type": "code",
      "source": [
        "color_names.clear()\n",
        "color_names"
      ],
      "metadata": {
        "colab": {
          "base_uri": "https://localhost:8080/"
        },
        "id": "mvIuqlcGa7jJ",
        "outputId": "919e03c8-50b6-4640-a1fa-de4bc51427e7"
      },
      "execution_count": null,
      "outputs": [
        {
          "output_type": "execute_result",
          "data": {
            "text/plain": [
              "[]"
            ]
          },
          "metadata": {},
          "execution_count": 143
        }
      ]
    },
    {
      "cell_type": "code",
      "source": [
        "#Counting the Number of Occurrences of an Item\n",
        "\n",
        "responses = [1, 2, 5, 4, 3, 5, 2, 1, 3, 3, 1, 4, 3, 3, 3, 2, 3, 3, 2, 2]\n",
        "for i in range(1, 6):\n",
        "    print(f'{i} appears {responses.count(i)} times in responses')"
      ],
      "metadata": {
        "colab": {
          "base_uri": "https://localhost:8080/"
        },
        "id": "zDSEPQc_bIB7",
        "outputId": "e006fb5a-ae63-4189-fcff-10a30ec3f317"
      },
      "execution_count": null,
      "outputs": [
        {
          "output_type": "stream",
          "name": "stdout",
          "text": [
            "1 appears 3 times in responses\n",
            "2 appears 5 times in responses\n",
            "3 appears 8 times in responses\n",
            "4 appears 2 times in responses\n",
            "5 appears 2 times in responses\n"
          ]
        }
      ]
    },
    {
      "cell_type": "code",
      "source": [
        "#Reversing a List’s Elements\n",
        "color_names = ['red', 'orange', 'yellow', 'green', 'blue']\n",
        "color_names.reverse()\n",
        "color_names"
      ],
      "metadata": {
        "colab": {
          "base_uri": "https://localhost:8080/"
        },
        "id": "hkNs62mKbSyg",
        "outputId": "881d63aa-03bc-491d-dcaa-80a1a0ed3cd3"
      },
      "execution_count": null,
      "outputs": [
        {
          "output_type": "execute_result",
          "data": {
            "text/plain": [
              "['blue', 'green', 'yellow', 'orange', 'red']"
            ]
          },
          "metadata": {},
          "execution_count": 145
        }
      ]
    },
    {
      "cell_type": "code",
      "source": [
        "#Copying a List\n",
        "copied_list = color_names.copy()\n",
        "copied_list"
      ],
      "metadata": {
        "colab": {
          "base_uri": "https://localhost:8080/"
        },
        "id": "G0qrl4yIbc9K",
        "outputId": "1519ddf6-48dd-42db-a2c8-0df265a4207a"
      },
      "execution_count": null,
      "outputs": [
        {
          "output_type": "execute_result",
          "data": {
            "text/plain": [
              "['blue', 'green', 'yellow', 'orange', 'red']"
            ]
          },
          "metadata": {},
          "execution_count": 146
        }
      ]
    },
    {
      "cell_type": "markdown",
      "source": [
        "**Simulating Stacks with Lists**"
      ],
      "metadata": {
        "id": "xDMJwS1CbxYA"
      }
    },
    {
      "cell_type": "code",
      "source": [
        "stack = []\n",
        "stack.append('red')\n",
        "stack"
      ],
      "metadata": {
        "colab": {
          "base_uri": "https://localhost:8080/"
        },
        "id": "EXu6i2_-bv-S",
        "outputId": "b16a2a62-250a-4e6b-eb12-811b7a55227f"
      },
      "execution_count": null,
      "outputs": [
        {
          "output_type": "execute_result",
          "data": {
            "text/plain": [
              "['red']"
            ]
          },
          "metadata": {},
          "execution_count": 148
        }
      ]
    },
    {
      "cell_type": "code",
      "source": [
        "stack.append('green')\n",
        "stack"
      ],
      "metadata": {
        "colab": {
          "base_uri": "https://localhost:8080/"
        },
        "id": "O2wGnYeNb4u-",
        "outputId": "9e74b1cb-1f7b-471a-9a0c-18a9be237526"
      },
      "execution_count": null,
      "outputs": [
        {
          "output_type": "execute_result",
          "data": {
            "text/plain": [
              "['red', 'green']"
            ]
          },
          "metadata": {},
          "execution_count": 149
        }
      ]
    },
    {
      "cell_type": "code",
      "source": [
        "stack.pop()"
      ],
      "metadata": {
        "colab": {
          "base_uri": "https://localhost:8080/",
          "height": 36
        },
        "id": "xQl9LGoCcAqx",
        "outputId": "7cb8bebd-f0bf-4674-932e-d36c561efb53"
      },
      "execution_count": null,
      "outputs": [
        {
          "output_type": "execute_result",
          "data": {
            "text/plain": [
              "'green'"
            ],
            "application/vnd.google.colaboratory.intrinsic+json": {
              "type": "string"
            }
          },
          "metadata": {},
          "execution_count": 150
        }
      ]
    },
    {
      "cell_type": "code",
      "source": [
        "stack"
      ],
      "metadata": {
        "colab": {
          "base_uri": "https://localhost:8080/"
        },
        "id": "FmJn3Mj9cDes",
        "outputId": "eb82505b-3404-48df-df4a-b3c5389333db"
      },
      "execution_count": null,
      "outputs": [
        {
          "output_type": "execute_result",
          "data": {
            "text/plain": [
              "['red']"
            ]
          },
          "metadata": {},
          "execution_count": 151
        }
      ]
    },
    {
      "cell_type": "markdown",
      "source": [
        " **List Comprehensions**"
      ],
      "metadata": {
        "id": "8hz44qjTcMQw"
      }
    },
    {
      "cell_type": "code",
      "source": [
        "list1 = []\n",
        "for item in range(1, 6):\n",
        "    list1.append(item)\n",
        "list1"
      ],
      "metadata": {
        "colab": {
          "base_uri": "https://localhost:8080/"
        },
        "id": "boYmejW7cOhy",
        "outputId": "4cad4d26-5d96-497e-ee68-adc6e6af52af"
      },
      "execution_count": null,
      "outputs": [
        {
          "output_type": "execute_result",
          "data": {
            "text/plain": [
              "[1, 2, 3, 4, 5]"
            ]
          },
          "metadata": {},
          "execution_count": 152
        }
      ]
    },
    {
      "cell_type": "code",
      "source": [
        "#Using a List Comprehension to Create a List of Integers\n",
        "list2 = [item for item in range(1, 6)]\n",
        "list2"
      ],
      "metadata": {
        "colab": {
          "base_uri": "https://localhost:8080/"
        },
        "id": "kgGz7YBQcY6L",
        "outputId": "ca076d8b-6ddb-467e-eb37-90b4adbb7164"
      },
      "execution_count": null,
      "outputs": [
        {
          "output_type": "execute_result",
          "data": {
            "text/plain": [
              "[1, 2, 3, 4, 5]"
            ]
          },
          "metadata": {},
          "execution_count": 153
        }
      ]
    },
    {
      "cell_type": "code",
      "source": [
        "#Performing Operations in a List Comprehension’s Expression\n",
        "list3 = [item ** 3 for item in range(1, 6)]\n",
        "list3"
      ],
      "metadata": {
        "colab": {
          "base_uri": "https://localhost:8080/"
        },
        "id": "kjOgPoN2ch9p",
        "outputId": "592aabba-e8ea-4dc9-b00c-220941f037dd"
      },
      "execution_count": null,
      "outputs": [
        {
          "output_type": "execute_result",
          "data": {
            "text/plain": [
              "[1, 8, 27, 64, 125]"
            ]
          },
          "metadata": {},
          "execution_count": 154
        }
      ]
    },
    {
      "cell_type": "code",
      "source": [
        "#List Comprehensions with if Clauses\n",
        "list4 = [item for item in range(1, 11) if item % 2 == 0]\n",
        "list4"
      ],
      "metadata": {
        "colab": {
          "base_uri": "https://localhost:8080/"
        },
        "id": "c1_o560OcqQH",
        "outputId": "f80817ed-94ce-489b-eae0-0dbb6331fc57"
      },
      "execution_count": null,
      "outputs": [
        {
          "output_type": "execute_result",
          "data": {
            "text/plain": [
              "[2, 4, 6, 8, 10]"
            ]
          },
          "metadata": {},
          "execution_count": 155
        }
      ]
    },
    {
      "cell_type": "code",
      "source": [
        "#List Comprehension That Processes Another List’s Elements\n",
        "colors = ['red', 'orange', 'yellow', 'green', 'blue']\n",
        "colors2 = [item.upper() for item in colors]\n",
        "colors2\n"
      ],
      "metadata": {
        "colab": {
          "base_uri": "https://localhost:8080/"
        },
        "id": "hP_ntzJYc0_T",
        "outputId": "5fce20df-b941-4b19-a6a0-93212d915881"
      },
      "execution_count": null,
      "outputs": [
        {
          "output_type": "execute_result",
          "data": {
            "text/plain": [
              "['RED', 'ORANGE', 'YELLOW', 'GREEN', 'BLUE']"
            ]
          },
          "metadata": {},
          "execution_count": 157
        }
      ]
    },
    {
      "cell_type": "code",
      "source": [
        "colors"
      ],
      "metadata": {
        "colab": {
          "base_uri": "https://localhost:8080/"
        },
        "id": "6fpoLedVdAE5",
        "outputId": "ce775174-a3e1-41de-e6ca-712bd44ec00d"
      },
      "execution_count": null,
      "outputs": [
        {
          "output_type": "execute_result",
          "data": {
            "text/plain": [
              "['red', 'orange', 'yellow', 'green', 'blue']"
            ]
          },
          "metadata": {},
          "execution_count": 158
        }
      ]
    },
    {
      "cell_type": "markdown",
      "source": [
        " **Generator Expressions**\n",
        "\n",
        "A generator expression is similar to a list comprehension, but creates an iterable generator object that produces values *on demand*. This is known as *lazy evaluation.*\n",
        "\n",
        "List comprehensions use *greedy evaluation.*--- they create lists immediately when they execute them.\n",
        "\n"
      ],
      "metadata": {
        "id": "phc-nFLqdOgf"
      }
    },
    {
      "cell_type": "code",
      "source": [
        "numbers = [10, 3, 7, 1, 9, 4, 2, 8, 5, 6]\n",
        "for value in (x ** 2 for x in numbers if x % 2 != 0):\n",
        "    print(value, end='  ')"
      ],
      "metadata": {
        "colab": {
          "base_uri": "https://localhost:8080/"
        },
        "id": "6ywfaRJxeiMm",
        "outputId": "b615c19f-a7df-4a39-9990-d99c57886d38"
      },
      "execution_count": null,
      "outputs": [
        {
          "output_type": "stream",
          "name": "stdout",
          "text": [
            "9  49  1  81  25  "
          ]
        }
      ]
    },
    {
      "cell_type": "code",
      "source": [
        "numbers = [10, 3, 7, 1, 9, 4, 2, 8, 5, 6]\n",
        "squares_of_odds = (x ** 2 for x in numbers if x % 2 != 0)\n",
        "squares_of_odds"
      ],
      "metadata": {
        "colab": {
          "base_uri": "https://localhost:8080/"
        },
        "id": "_6qspdpje1nj",
        "outputId": "244f195f-5b3a-4180-f169-09d60c37a22b"
      },
      "execution_count": null,
      "outputs": [
        {
          "output_type": "execute_result",
          "data": {
            "text/plain": [
              "<generator object <genexpr> at 0x798362844930>"
            ]
          },
          "metadata": {},
          "execution_count": 162
        }
      ]
    },
    {
      "cell_type": "markdown",
      "source": [
        "Python is multi-paradigm → it supports imperative, object-oriented, and functional styles."
      ],
      "metadata": {
        "id": "ZJo85DF4oWMG"
      }
    },
    {
      "cell_type": "markdown",
      "source": [
        "**Functional programming tools in Python: Filter, Map and Reduce**\n",
        "\n"
      ],
      "metadata": {
        "id": "9NJxJm32fVE7"
      }
    },
    {
      "cell_type": "markdown",
      "source": [
        "Functional programming (FP) is a programming style where you build your program using functions as the main building blocks — *but not just any functions.*"
      ],
      "metadata": {
        "id": "egHbaK8YnSYL"
      }
    },
    {
      "cell_type": "code",
      "source": [
        "#Imperative style (step-by-step):\n",
        "nums = [1, 2, 3, 4]\n",
        "squares = []\n",
        "for n in nums:\n",
        "    squares.append(n**2)\n",
        "print(squares)\n",
        "\n",
        "#Functional style: “map this function to every element” rather than manually looping.\n",
        "nums = [1, 2, 3, 4]\n",
        "print(list(map(lambda x: x**2, nums)))"
      ],
      "metadata": {
        "colab": {
          "base_uri": "https://localhost:8080/"
        },
        "id": "8uvz_fuwneC-",
        "outputId": "894938fc-6723-4f8f-ca85-f861317202b4"
      },
      "execution_count": null,
      "outputs": [
        {
          "output_type": "stream",
          "name": "stdout",
          "text": [
            "[1, 4, 9, 16]\n",
            "[1, 4, 9, 16]\n"
          ]
        }
      ]
    },
    {
      "cell_type": "markdown",
      "source": [
        "Why are filter, map, and reduce called FP tools? Because they come directly from functional programming concepts"
      ],
      "metadata": {
        "id": "yd2rYdwxn23_"
      }
    },
    {
      "cell_type": "markdown",
      "source": [
        "map → transform each item without changing the original list.\n",
        "\n",
        "filter → choose only what meets the condition.\n",
        "\n",
        "reduce → condense everything into one final value."
      ],
      "metadata": {
        "id": "U3NIxX58pmDd"
      }
    },
    {
      "cell_type": "markdown",
      "source": [
        "| Tool     | What it does (in FP terms)                                                             |\n",
        "| -------- | -------------------------------------------------------------------------------------- |\n",
        "| `map`    | **Transforms** each element of a sequence using a function.                            |\n",
        "| `filter` | **Selects** only the elements that satisfy a condition (predicate function).           |\n",
        "| `reduce` | **Combines** elements into a single value by repeatedly applying a function (folding). |\n"
      ],
      "metadata": {
        "id": "4E5oF3Rqn74t"
      }
    },
    {
      "cell_type": "code",
      "source": [
        "#Filtering a Sequence’s Values with filter()\n",
        "numbers = [10, 3, 7, 1, 9, 4, 2, 8, 5, 6]\n",
        "def is_odd(x):\n",
        "    \"\"\"Returns True only if x is odd.\"\"\"\n",
        "    return x % 2 != 0\n",
        "list(filter(is_odd, numbers))"
      ],
      "metadata": {
        "colab": {
          "base_uri": "https://localhost:8080/"
        },
        "id": "QI_476eRftWF",
        "outputId": "edf1fd72-cd35-4b0b-bf4e-d813fdcb17de"
      },
      "execution_count": null,
      "outputs": [
        {
          "output_type": "execute_result",
          "data": {
            "text/plain": [
              "[3, 7, 1, 9, 5]"
            ]
          },
          "metadata": {},
          "execution_count": 163
        }
      ]
    },
    {
      "cell_type": "code",
      "source": [
        "[item for item in numbers if is_odd(item)]"
      ],
      "metadata": {
        "colab": {
          "base_uri": "https://localhost:8080/"
        },
        "id": "vg9vH7C8f7Va",
        "outputId": "83602722-3393-479d-b1e5-757fa0822c0b"
      },
      "execution_count": null,
      "outputs": [
        {
          "output_type": "execute_result",
          "data": {
            "text/plain": [
              "[3, 7, 1, 9, 5]"
            ]
          },
          "metadata": {},
          "execution_count": 164
        }
      ]
    },
    {
      "cell_type": "markdown",
      "source": [
        "**Using a lambda Rather than a Function**\n",
        "\n",
        "A lambda is a small anonymous function — you use it for quick, one-time operations, especially with map(), filter(), and sort()."
      ],
      "metadata": {
        "id": "EA-XCak8gAHs"
      }
    },
    {
      "cell_type": "markdown",
      "source": [
        "*Regular function vs. lambda function*"
      ],
      "metadata": {
        "id": "R1VvhL_GgnWB"
      }
    },
    {
      "cell_type": "code",
      "source": [
        "#Using a regular function:\n",
        "def square(x):\n",
        "    return x * x\n",
        "\n",
        "print(square(4))  # 16"
      ],
      "metadata": {
        "colab": {
          "base_uri": "https://localhost:8080/"
        },
        "id": "HkaErP0qgOvX",
        "outputId": "16e6fa4c-4b06-4cf7-9c3c-9ccdd6ca15ca"
      },
      "execution_count": null,
      "outputs": [
        {
          "output_type": "stream",
          "name": "stdout",
          "text": [
            "16\n"
          ]
        }
      ]
    },
    {
      "cell_type": "code",
      "source": [
        "#Using a lambda:\n",
        "square = lambda x: x * x\n",
        "print(square(4))  # 16"
      ],
      "metadata": {
        "colab": {
          "base_uri": "https://localhost:8080/"
        },
        "id": "-n9Op4gigVFq",
        "outputId": "7173a31c-cef8-4520-bca5-fb91f97250be"
      },
      "execution_count": null,
      "outputs": [
        {
          "output_type": "stream",
          "name": "stdout",
          "text": [
            "16\n"
          ]
        }
      ]
    },
    {
      "cell_type": "code",
      "source": [
        "list(filter(lambda x: x % 2 != 0, numbers))"
      ],
      "metadata": {
        "colab": {
          "base_uri": "https://localhost:8080/"
        },
        "id": "LsibOLweguSq",
        "outputId": "683dd680-a182-4b39-f80b-a43a286439ae"
      },
      "execution_count": null,
      "outputs": [
        {
          "output_type": "execute_result",
          "data": {
            "text/plain": [
              "[3, 7, 1, 9, 5]"
            ]
          },
          "metadata": {},
          "execution_count": 168
        }
      ]
    },
    {
      "cell_type": "code",
      "source": [
        "#map(function, iterable)\n",
        "numbers=[]\n",
        "numbers = [10, 3, 7, 1, 9, 4, 2, 8, 5, 6]\n",
        "list(map(lambda x: x ** 2, numbers))"
      ],
      "metadata": {
        "colab": {
          "base_uri": "https://localhost:8080/"
        },
        "id": "EzUxstyag9wq",
        "outputId": "3dc1bb95-157f-4e2f-c8af-87edc2c973ec"
      },
      "execution_count": null,
      "outputs": [
        {
          "output_type": "execute_result",
          "data": {
            "text/plain": [
              "[100, 9, 49, 1, 81, 16, 4, 64, 25, 36]"
            ]
          },
          "metadata": {},
          "execution_count": 169
        }
      ]
    },
    {
      "cell_type": "code",
      "source": [
        "[item ** 2 for item in numbers]"
      ],
      "metadata": {
        "colab": {
          "base_uri": "https://localhost:8080/"
        },
        "id": "E8N4uB8KhSIW",
        "outputId": "9d257668-609b-490f-cf35-6246a6604422"
      },
      "execution_count": null,
      "outputs": [
        {
          "output_type": "execute_result",
          "data": {
            "text/plain": [
              "[100, 9, 49, 1, 81, 16, 4, 64, 25, 36]"
            ]
          },
          "metadata": {},
          "execution_count": 170
        }
      ]
    },
    {
      "cell_type": "code",
      "source": [
        "#Combining filter and map\n",
        "list(map(lambda x: x ** 2,\n",
        "         filter(lambda x: x % 2 != 0, numbers)))\n",
        "#First filters out only the odd numbers and then we square each of those with map()"
      ],
      "metadata": {
        "colab": {
          "base_uri": "https://localhost:8080/"
        },
        "id": "TwbTN13whZmc",
        "outputId": "3d274e08-d4b0-4573-9055-4b16aa155c50"
      },
      "execution_count": null,
      "outputs": [
        {
          "output_type": "execute_result",
          "data": {
            "text/plain": [
              "[9, 49, 1, 81, 25]"
            ]
          },
          "metadata": {},
          "execution_count": 171
        }
      ]
    },
    {
      "cell_type": "code",
      "source": [
        "[x ** 2 for x in numbers if x % 2 != 0]"
      ],
      "metadata": {
        "colab": {
          "base_uri": "https://localhost:8080/"
        },
        "id": "Q1zUt_Ggh3pg",
        "outputId": "8eea1e53-9b39-4695-ba13-567c7c3d9298"
      },
      "execution_count": null,
      "outputs": [
        {
          "output_type": "execute_result",
          "data": {
            "text/plain": [
              "[9, 49, 1, 81, 25]"
            ]
          },
          "metadata": {},
          "execution_count": 172
        }
      ]
    },
    {
      "cell_type": "markdown",
      "source": [
        "**reduce()**\n",
        "\n",
        "It combines all the elements of a list into a single result.\n",
        "\n",
        "from functools import reduce\n",
        "\n",
        "reduce(function, iterable)\n",
        "\n",
        "| Tool       | Purpose                     | Example Result                    |\n",
        "| ---------- | --------------------------- | --------------------------------- |\n",
        "| `reduce()` | Combine all values into one | `sum`, `product`, `max`, `concat` |\n"
      ],
      "metadata": {
        "id": "-I07TpcgV6Ph"
      }
    },
    {
      "cell_type": "code",
      "source": [
        "from functools import reduce\n",
        "\n",
        "nums = [2, 3, 4]\n",
        "\n",
        "product = reduce(lambda x, y: x * y, nums)\n",
        "print(product)  # 24 → (2 * 3 = 6 → 6 * 4 = 24)\n"
      ],
      "metadata": {
        "colab": {
          "base_uri": "https://localhost:8080/"
        },
        "id": "W14Iu7p5VsRF",
        "outputId": "34908e45-22d7-46de-a29a-c07561ab7b97"
      },
      "execution_count": null,
      "outputs": [
        {
          "output_type": "stream",
          "name": "stdout",
          "text": [
            "24\n"
          ]
        }
      ]
    },
    {
      "cell_type": "code",
      "source": [
        "nums = [10, 20, 30]\n",
        "total = reduce(lambda x, y: x + y, nums)\n",
        "print(total)  # 60"
      ],
      "metadata": {
        "colab": {
          "base_uri": "https://localhost:8080/"
        },
        "id": "vaDbAaE_WRaF",
        "outputId": "92b56567-fe34-443c-f4ad-0c718fffff05"
      },
      "execution_count": null,
      "outputs": [
        {
          "output_type": "stream",
          "name": "stdout",
          "text": [
            "60\n"
          ]
        }
      ]
    },
    {
      "cell_type": "code",
      "source": [
        "#You can give a starting value (optional):\n",
        "reduce(lambda x, y: x + y, [1, 2, 3], 10)\n",
        "# 10 + 1 → 11 → 11 + 2 → 13 → 13 + 3 → 16"
      ],
      "metadata": {
        "colab": {
          "base_uri": "https://localhost:8080/"
        },
        "id": "wUdBMGReWiVW",
        "outputId": "bdc83e95-eda8-420a-c574-5198ebfceaa7"
      },
      "execution_count": null,
      "outputs": [
        {
          "output_type": "execute_result",
          "data": {
            "text/plain": [
              "16"
            ]
          },
          "metadata": {},
          "execution_count": 3
        }
      ]
    },
    {
      "cell_type": "markdown",
      "source": [
        "Note: Nowadays, Pythonistas often use list comprehensions instead of map/filter because they’re more readable, but the concepts are still pure FP."
      ],
      "metadata": {
        "id": "_iPRMGJ9ot91"
      }
    },
    {
      "cell_type": "markdown",
      "source": [
        "**Other Sequence Processing Functions**"
      ],
      "metadata": {
        "id": "TcMF70V7W2DF"
      }
    },
    {
      "cell_type": "code",
      "source": [
        "#Python compares strings character-by-character, based on ASCII (Unicode) values.\n",
        "ord('R')      # 82\n",
        "ord('o')      # 111\n",
        "\n",
        "#Since 82 < 111, we get:\n",
        "'Red' < 'orange'  # True\n",
        "\n",
        "# Note: Even though \"R\" comes after \"o\" alphabetically to us, computers see capital letters (A–Z) as less than lowercase (a–z) in ASCII.\n"
      ],
      "metadata": {
        "colab": {
          "base_uri": "https://localhost:8080/"
        },
        "id": "590BdSwqW8zp",
        "outputId": "13f8f8af-a748-49c3-a073-096586bc8677"
      },
      "execution_count": null,
      "outputs": [
        {
          "output_type": "execute_result",
          "data": {
            "text/plain": [
              "True"
            ]
          },
          "metadata": {},
          "execution_count": 5
        }
      ]
    },
    {
      "cell_type": "code",
      "source": [
        "colors = ['Red', 'orange', 'Yellow', 'green', 'Blue']\n",
        "min(colors, key=lambda s: s.lower()) #converts each word to lowercase just for comparison. After conversion, ['red', 'orange', 'yellow', 'green', 'blue']\n",
        "# and, alphabetically: 'blue' is smallest and 'yellow' is greatest"
      ],
      "metadata": {
        "colab": {
          "base_uri": "https://localhost:8080/",
          "height": 36
        },
        "id": "BdGv1RvzXIQh",
        "outputId": "5843476b-ea0f-4d9f-faae-6a5f3926f975"
      },
      "execution_count": null,
      "outputs": [
        {
          "output_type": "execute_result",
          "data": {
            "text/plain": [
              "'Blue'"
            ],
            "application/vnd.google.colaboratory.intrinsic+json": {
              "type": "string"
            }
          },
          "metadata": {},
          "execution_count": 6
        }
      ]
    },
    {
      "cell_type": "code",
      "source": [
        "max(colors, key=lambda s: s.lower())"
      ],
      "metadata": {
        "colab": {
          "base_uri": "https://localhost:8080/",
          "height": 36
        },
        "id": "HLESsk2BYFII",
        "outputId": "58983e17-fa56-43f6-a316-cc8d99ad77c3"
      },
      "execution_count": null,
      "outputs": [
        {
          "output_type": "execute_result",
          "data": {
            "text/plain": [
              "'Yellow'"
            ],
            "application/vnd.google.colaboratory.intrinsic+json": {
              "type": "string"
            }
          },
          "metadata": {},
          "execution_count": 7
        }
      ]
    },
    {
      "cell_type": "code",
      "source": [
        "#Iterating Backwards Through a Sequence: reversed()\n",
        "numbers = [10, 3, 7, 1, 9, 4, 2, 8, 5, 6]\n",
        "reversed_numbers = [item ** 2 for item in reversed(numbers)]\n",
        "reversed_numbers"
      ],
      "metadata": {
        "colab": {
          "base_uri": "https://localhost:8080/"
        },
        "id": "qeQ_lFXUYR8k",
        "outputId": "38168c61-0a6e-49c1-dc0d-0fbb681f5b64"
      },
      "execution_count": null,
      "outputs": [
        {
          "output_type": "execute_result",
          "data": {
            "text/plain": [
              "[36, 25, 64, 4, 16, 81, 1, 49, 9, 100]"
            ]
          },
          "metadata": {},
          "execution_count": 8
        }
      ]
    },
    {
      "cell_type": "code",
      "source": [
        "#Combining Iterables into Tuples of Corresponding Elements\n",
        "#zip(): It pairs items from two (or more) iterables together\n",
        "names = ['Bob', 'Sue', 'Amanda']\n",
        "grade_point_averages = [3.5, 4.0, 3.75]\n",
        "a=zip(names, grade_point_averages)\n",
        "print(a, type(a))"
      ],
      "metadata": {
        "colab": {
          "base_uri": "https://localhost:8080/"
        },
        "id": "tTyKh4eDYmvv",
        "outputId": "66429b70-34e3-4b53-b961-3458e340c19d"
      },
      "execution_count": null,
      "outputs": [
        {
          "output_type": "stream",
          "name": "stdout",
          "text": [
            "<zip object at 0x78d0b5997780> <class 'zip'>\n"
          ]
        }
      ]
    },
    {
      "cell_type": "code",
      "source": [
        "for name, gpa in zip(names, grade_point_averages):\n",
        "    print(f'Name={name}; GPA={gpa}')\n",
        "\n",
        "#Note: if lists are unequal, zip() stops at the shortest list — no error, but data may be skipped."
      ],
      "metadata": {
        "colab": {
          "base_uri": "https://localhost:8080/"
        },
        "id": "i08dOyzzZPKG",
        "outputId": "2245293d-e093-41e0-f87d-416eb46f5dd0"
      },
      "execution_count": null,
      "outputs": [
        {
          "output_type": "stream",
          "name": "stdout",
          "text": [
            "Name=Bob; GPA=3.5\n",
            "Name=Sue; GPA=4.0\n",
            "Name=Amanda; GPA=3.75\n"
          ]
        }
      ]
    },
    {
      "cell_type": "markdown",
      "source": [
        "**2D List**"
      ],
      "metadata": {
        "id": "O5vl4lz-ZsQK"
      }
    },
    {
      "cell_type": "code",
      "source": [
        "a = [[77, 68, 86, 73], [96, 87, 89, 81], [70, 90, 86, 81]]\n",
        "for row in a:\n",
        "    for item in row:\n",
        "        print(item, end=' ')\n",
        "    print()"
      ],
      "metadata": {
        "colab": {
          "base_uri": "https://localhost:8080/"
        },
        "id": "QYIToeAaZw_g",
        "outputId": "2f478eeb-51b7-42cd-b4dd-5ebab93e8ed5"
      },
      "execution_count": null,
      "outputs": [
        {
          "output_type": "stream",
          "name": "stdout",
          "text": [
            "77 68 86 73 \n",
            "96 87 89 81 \n",
            "70 90 86 81 \n"
          ]
        }
      ]
    },
    {
      "cell_type": "code",
      "source": [
        "for i, row in enumerate(a):\n",
        "    for j, item in enumerate(row):\n",
        "        print(f'a[{i}][{j}]={item} ', end=' ')\n",
        "    print()"
      ],
      "metadata": {
        "colab": {
          "base_uri": "https://localhost:8080/"
        },
        "id": "dauSS52PaB7G",
        "outputId": "e3129c76-c936-4c4f-b8d0-ee42523980fd"
      },
      "execution_count": null,
      "outputs": [
        {
          "output_type": "stream",
          "name": "stdout",
          "text": [
            "a[0][0]=77  a[0][1]=68  a[0][2]=86  a[0][3]=73  \n",
            "a[1][0]=96  a[1][1]=87  a[1][2]=89  a[1][3]=81  \n",
            "a[2][0]=70  a[2][1]=90  a[2][2]=86  a[2][3]=81  \n"
          ]
        }
      ]
    },
    {
      "cell_type": "markdown",
      "source": [
        "# **Dictionaries and Sets**"
      ],
      "metadata": {
        "id": "5bpLOkmXAmBO"
      }
    },
    {
      "cell_type": "markdown",
      "source": [
        "**Dictionary**"
      ],
      "metadata": {
        "id": "PYZ5xE0qAQ50"
      }
    },
    {
      "cell_type": "code",
      "source": [
        "country_codes = {'Finland': 'fi', 'South Africa': 'za', 'Nepal': 'np'}\n",
        "country_codes"
      ],
      "metadata": {
        "colab": {
          "base_uri": "https://localhost:8080/"
        },
        "id": "BhWMo8iwwkW2",
        "outputId": "38bd0bd0-40e8-4442-864d-83306e890400"
      },
      "execution_count": null,
      "outputs": [
        {
          "output_type": "execute_result",
          "data": {
            "text/plain": [
              "{'Finland': 'fi', 'South Africa': 'za', 'Nepal': 'np'}"
            ]
          },
          "metadata": {},
          "execution_count": 18
        }
      ]
    },
    {
      "cell_type": "code",
      "source": [
        "len(country_codes)"
      ],
      "metadata": {
        "colab": {
          "base_uri": "https://localhost:8080/"
        },
        "id": "nN_k2FJcapee",
        "outputId": "4aeb96f7-5313-4964-c94d-7534b6aafdf2"
      },
      "execution_count": null,
      "outputs": [
        {
          "output_type": "execute_result",
          "data": {
            "text/plain": [
              "3"
            ]
          },
          "metadata": {},
          "execution_count": 19
        }
      ]
    },
    {
      "cell_type": "code",
      "source": [
        "country_codes.clear()\n",
        "country_codes"
      ],
      "metadata": {
        "colab": {
          "base_uri": "https://localhost:8080/"
        },
        "id": "sOThlZ8yatmf",
        "outputId": "16f74744-c7ac-462e-9b88-311ca165a757"
      },
      "execution_count": null,
      "outputs": [
        {
          "output_type": "execute_result",
          "data": {
            "text/plain": [
              "{}"
            ]
          },
          "metadata": {},
          "execution_count": 21
        }
      ]
    },
    {
      "cell_type": "code",
      "source": [
        "days_per_month = {'January': 31, 'February': 28, 'March': 31}\n",
        "days_per_month"
      ],
      "metadata": {
        "colab": {
          "base_uri": "https://localhost:8080/"
        },
        "id": "2eMxe6MLa0uA",
        "outputId": "ed14f3db-2291-4f1b-c6ea-9f493a45d380"
      },
      "execution_count": null,
      "outputs": [
        {
          "output_type": "execute_result",
          "data": {
            "text/plain": [
              "{'January': 31, 'February': 28, 'March': 31}"
            ]
          },
          "metadata": {},
          "execution_count": 22
        }
      ]
    },
    {
      "cell_type": "code",
      "source": [
        "for month, days in days_per_month.items():\n",
        "    print(f'{month} has {days} days')"
      ],
      "metadata": {
        "colab": {
          "base_uri": "https://localhost:8080/"
        },
        "id": "4Na1lRXPa3oN",
        "outputId": "6d58e4a1-3ef1-4a21-f27a-e634e7d06c42"
      },
      "execution_count": null,
      "outputs": [
        {
          "output_type": "stream",
          "name": "stdout",
          "text": [
            "January has 31 days\n",
            "February has 28 days\n",
            "March has 31 days\n"
          ]
        }
      ]
    },
    {
      "cell_type": "markdown",
      "source": [
        "Basic Dictionary Operations"
      ],
      "metadata": {
        "id": "GOkIicsEa_Cj"
      }
    },
    {
      "cell_type": "code",
      "source": [
        "roman_numerals = {'I': 1, 'II': 2, 'III': 3, 'V': 5, 'X': 100}\n",
        "roman_numerals"
      ],
      "metadata": {
        "colab": {
          "base_uri": "https://localhost:8080/"
        },
        "id": "HgANk9i4bACc",
        "outputId": "81da4b6b-3d5e-4498-f865-a327db3e0069"
      },
      "execution_count": null,
      "outputs": [
        {
          "output_type": "execute_result",
          "data": {
            "text/plain": [
              "{'I': 1, 'II': 2, 'III': 3, 'V': 5, 'X': 100}"
            ]
          },
          "metadata": {},
          "execution_count": 31
        }
      ]
    },
    {
      "cell_type": "code",
      "source": [
        "roman_numerals['V']"
      ],
      "metadata": {
        "colab": {
          "base_uri": "https://localhost:8080/"
        },
        "id": "2zaBWPmmbKyp",
        "outputId": "d4375fea-9187-436b-df2e-77f72000df3f"
      },
      "execution_count": null,
      "outputs": [
        {
          "output_type": "execute_result",
          "data": {
            "text/plain": [
              "5"
            ]
          },
          "metadata": {},
          "execution_count": 32
        }
      ]
    },
    {
      "cell_type": "code",
      "source": [
        "roman_numerals['X'] = 10\n",
        "roman_numerals"
      ],
      "metadata": {
        "colab": {
          "base_uri": "https://localhost:8080/"
        },
        "id": "Z9M94CIhbN_N",
        "outputId": "f3a590ad-627e-44d7-860f-b0e8ea05fcd3"
      },
      "execution_count": null,
      "outputs": [
        {
          "output_type": "execute_result",
          "data": {
            "text/plain": [
              "{'I': 1, 'II': 2, 'III': 3, 'V': 5, 'X': 10}"
            ]
          },
          "metadata": {},
          "execution_count": 33
        }
      ]
    },
    {
      "cell_type": "code",
      "source": [
        "roman_numerals['L'] = 50 #Adding a New Key–Value Pair\n",
        "roman_numerals"
      ],
      "metadata": {
        "colab": {
          "base_uri": "https://localhost:8080/"
        },
        "id": "0dx1ddnHbOmz",
        "outputId": "84847558-ccd2-492f-8f44-7bdb6d6150e8"
      },
      "execution_count": null,
      "outputs": [
        {
          "output_type": "execute_result",
          "data": {
            "text/plain": [
              "{'I': 1, 'II': 2, 'III': 3, 'V': 5, 'X': 10, 'L': 50}"
            ]
          },
          "metadata": {},
          "execution_count": 34
        }
      ]
    },
    {
      "cell_type": "code",
      "source": [
        "#Removing a Key–Value Pair\n",
        "del roman_numerals['III']\n",
        "roman_numerals"
      ],
      "metadata": {
        "colab": {
          "base_uri": "https://localhost:8080/"
        },
        "id": "QBkehkRLbdaG",
        "outputId": "d4529e05-83b3-491c-e694-e292b76537db"
      },
      "execution_count": null,
      "outputs": [
        {
          "output_type": "execute_result",
          "data": {
            "text/plain": [
              "{'I': 1, 'II': 2, 'V': 5, 'X': 10, 'L': 50}"
            ]
          },
          "metadata": {},
          "execution_count": 35
        }
      ]
    },
    {
      "cell_type": "markdown",
      "source": [
        "del → just delete\n",
        "\n",
        "pop() → delete and return the value"
      ],
      "metadata": {
        "id": "VbFNgGZUc-lz"
      }
    },
    {
      "cell_type": "code",
      "source": [
        "val=roman_numerals.pop('X')\n",
        "print(val)\n",
        "roman_numerals"
      ],
      "metadata": {
        "colab": {
          "base_uri": "https://localhost:8080/"
        },
        "id": "z0Ve2XeWbk53",
        "outputId": "7849f6b2-d05e-47fe-d330-e28c653a77bb"
      },
      "execution_count": null,
      "outputs": [
        {
          "output_type": "stream",
          "name": "stdout",
          "text": [
            "10\n"
          ]
        },
        {
          "output_type": "execute_result",
          "data": {
            "text/plain": [
              "{'I': 1, 'II': 2, 'V': 5, 'L': 50}"
            ]
          },
          "metadata": {},
          "execution_count": 36
        }
      ]
    },
    {
      "cell_type": "code",
      "source": [
        "student = {'name': 'Alice', 'age': 20, 'grade': 'A'}\n",
        "value = student.pop('grade')\n",
        "print(value)     # 'A'\n",
        "print(student)   # {'name': 'Alice', 'age': 20}\n"
      ],
      "metadata": {
        "colab": {
          "base_uri": "https://localhost:8080/"
        },
        "id": "l1ku-qbEcUA2",
        "outputId": "7c7cbfe5-8109-4812-e6c2-1c769f8060b7"
      },
      "execution_count": null,
      "outputs": [
        {
          "output_type": "stream",
          "name": "stdout",
          "text": [
            "A\n",
            "{'name': 'Alice', 'age': 20}\n"
          ]
        }
      ]
    },
    {
      "cell_type": "code",
      "source": [
        "#Attempting to Access a Nonexistent Key\n",
        "roman_numerals['III']"
      ],
      "metadata": {
        "colab": {
          "base_uri": "https://localhost:8080/",
          "height": 164
        },
        "id": "jFuVfm7ndHbZ",
        "outputId": "203f603b-88d6-4f88-ee49-949c6005f5b6"
      },
      "execution_count": null,
      "outputs": [
        {
          "output_type": "error",
          "ename": "KeyError",
          "evalue": "'III'",
          "traceback": [
            "\u001b[0;31m---------------------------------------------------------------------------\u001b[0m",
            "\u001b[0;31mKeyError\u001b[0m                                  Traceback (most recent call last)",
            "\u001b[0;32m/tmp/ipython-input-2935084197.py\u001b[0m in \u001b[0;36m<cell line: 0>\u001b[0;34m()\u001b[0m\n\u001b[1;32m      1\u001b[0m \u001b[0;31m#Attempting to Access a Nonexistent Key\u001b[0m\u001b[0;34m\u001b[0m\u001b[0;34m\u001b[0m\u001b[0m\n\u001b[0;32m----> 2\u001b[0;31m \u001b[0mroman_numerals\u001b[0m\u001b[0;34m[\u001b[0m\u001b[0;34m'III'\u001b[0m\u001b[0;34m]\u001b[0m\u001b[0;34m\u001b[0m\u001b[0;34m\u001b[0m\u001b[0m\n\u001b[0m",
            "\u001b[0;31mKeyError\u001b[0m: 'III'"
          ]
        }
      ]
    },
    {
      "cell_type": "markdown",
      "source": [
        "**dictionary.get(key, default)**\n",
        "\n",
        "If the key exists → returns the value\n",
        "\n",
        "If the key doesn't exist → returns None (or your custom default)"
      ],
      "metadata": {
        "id": "c7dInClsdZnR"
      }
    },
    {
      "cell_type": "code",
      "source": [
        "roman_numerals.get('III')"
      ],
      "metadata": {
        "id": "7NHdlt_xdNl7"
      },
      "execution_count": null,
      "outputs": []
    },
    {
      "cell_type": "code",
      "source": [
        "roman_numerals.get('III', 'III not in dictionary')"
      ],
      "metadata": {
        "colab": {
          "base_uri": "https://localhost:8080/",
          "height": 36
        },
        "id": "ucjkUFqudjj-",
        "outputId": "86392ab7-4262-4f7c-9770-bd6185877473"
      },
      "execution_count": null,
      "outputs": [
        {
          "output_type": "execute_result",
          "data": {
            "text/plain": [
              "'III not in dictionary'"
            ],
            "application/vnd.google.colaboratory.intrinsic+json": {
              "type": "string"
            }
          },
          "metadata": {},
          "execution_count": 40
        }
      ]
    },
    {
      "cell_type": "code",
      "source": [
        "#Testing Whether a Dictionary Contains a Specified Key\n",
        "'V' in roman_numerals"
      ],
      "metadata": {
        "colab": {
          "base_uri": "https://localhost:8080/"
        },
        "id": "aowfPBPOdoU-",
        "outputId": "a1fbd4df-815d-4f38-de3a-4fc38dbb4e0b"
      },
      "execution_count": null,
      "outputs": [
        {
          "output_type": "execute_result",
          "data": {
            "text/plain": [
              "True"
            ]
          },
          "metadata": {},
          "execution_count": 41
        }
      ]
    },
    {
      "cell_type": "code",
      "source": [
        "'III' in roman_numerals"
      ],
      "metadata": {
        "colab": {
          "base_uri": "https://localhost:8080/"
        },
        "id": "rW-x0gYkdtVq",
        "outputId": "83c57742-d01a-464a-83fa-23c6fe30978c"
      },
      "execution_count": null,
      "outputs": [
        {
          "output_type": "execute_result",
          "data": {
            "text/plain": [
              "False"
            ]
          },
          "metadata": {},
          "execution_count": 42
        }
      ]
    },
    {
      "cell_type": "markdown",
      "source": [
        "**Dictionary Methods - keys and values**"
      ],
      "metadata": {
        "id": "wC8duHm0d0Er"
      }
    },
    {
      "cell_type": "code",
      "source": [
        "months = {'January': 1, 'February': 2, 'March': 3}\n",
        "for month_name in months.keys():\n",
        "    print(month_name, end='  ')"
      ],
      "metadata": {
        "colab": {
          "base_uri": "https://localhost:8080/"
        },
        "id": "442Ck7Sld341",
        "outputId": "4bfa8fa2-67b7-4e56-d500-33d5e7bf38b7"
      },
      "execution_count": null,
      "outputs": [
        {
          "output_type": "stream",
          "name": "stdout",
          "text": [
            "January  February  March  "
          ]
        }
      ]
    },
    {
      "cell_type": "code",
      "source": [
        "for month_number in months.values():\n",
        "    print(month_number, end='  ')"
      ],
      "metadata": {
        "colab": {
          "base_uri": "https://localhost:8080/"
        },
        "id": "NakY19dSd9Nu",
        "outputId": "e9e65de2-d92d-4de1-af23-5526d9122696"
      },
      "execution_count": null,
      "outputs": [
        {
          "output_type": "stream",
          "name": "stdout",
          "text": [
            "1  2  3  "
          ]
        }
      ]
    },
    {
      "cell_type": "markdown",
      "source": [
        "**Dictionary Comparisons**"
      ],
      "metadata": {
        "id": "iS9N7tjGeNXR"
      }
    },
    {
      "cell_type": "code",
      "source": [
        "country_capitals1 = {'Belgium': 'Brussels', 'Haiti': 'Port-au-Prince'}\n",
        "country_capitals2 = {'Nepal': 'Kathmandu','Uruguay': 'Montevideo'}"
      ],
      "metadata": {
        "id": "4vNMR_6TeQGZ"
      },
      "execution_count": null,
      "outputs": []
    },
    {
      "cell_type": "code",
      "source": [
        "country_capitals1 == country_capitals2"
      ],
      "metadata": {
        "colab": {
          "base_uri": "https://localhost:8080/"
        },
        "id": "RuSSy-1IUc8H",
        "outputId": "c5749ab6-6d31-496d-94c5-aae36584d761"
      },
      "execution_count": null,
      "outputs": [
        {
          "output_type": "execute_result",
          "data": {
            "text/plain": [
              "False"
            ]
          },
          "metadata": {},
          "execution_count": 5
        }
      ]
    },
    {
      "cell_type": "code",
      "source": [
        "country_capitals1 != country_capitals2"
      ],
      "metadata": {
        "colab": {
          "base_uri": "https://localhost:8080/"
        },
        "id": "3F-atSDEUg8p",
        "outputId": "080a061f-7bc7-4532-dd6d-23b44fef04b6"
      },
      "execution_count": null,
      "outputs": [
        {
          "output_type": "execute_result",
          "data": {
            "text/plain": [
              "True"
            ]
          },
          "metadata": {},
          "execution_count": 6
        }
      ]
    },
    {
      "cell_type": "code",
      "source": [
        "country_codes = {}\n",
        "country_codes.update({'South Africa': 'za'})\n",
        "country_codes"
      ],
      "metadata": {
        "colab": {
          "base_uri": "https://localhost:8080/"
        },
        "id": "BJMyyRcXU2Bi",
        "outputId": "367c6731-e2c3-46b9-c7a4-06355c0162ac"
      },
      "execution_count": null,
      "outputs": [
        {
          "output_type": "execute_result",
          "data": {
            "text/plain": [
              "{'South Africa': 'za'}"
            ]
          },
          "metadata": {},
          "execution_count": 7
        }
      ]
    },
    {
      "cell_type": "markdown",
      "source": [
        "**Dictionary Comprehensions**"
      ],
      "metadata": {
        "id": "rTmDzsChU-IA"
      }
    },
    {
      "cell_type": "code",
      "source": [
        "# a dictionary comprehension to reverse the keys and values.\n",
        "months = {'January': 1, 'February': 2, 'March': 3}\n",
        "months2 = {number: name for name, number in months.items()}\n",
        "months2"
      ],
      "metadata": {
        "colab": {
          "base_uri": "https://localhost:8080/"
        },
        "id": "EBSGawEeU_sD",
        "outputId": "5e31416a-e455-4493-c4dc-dfafdb557c6f"
      },
      "execution_count": null,
      "outputs": [
        {
          "output_type": "execute_result",
          "data": {
            "text/plain": [
              "{1: 'January', 2: 'February', 3: 'March'}"
            ]
          },
          "metadata": {},
          "execution_count": 9
        }
      ]
    },
    {
      "cell_type": "code",
      "source": [
        "months3 = {name: number for name, number in months.items()}\n",
        "months3"
      ],
      "metadata": {
        "colab": {
          "base_uri": "https://localhost:8080/"
        },
        "id": "hqBvc8suVnVl",
        "outputId": "476a7cd9-2f17-45f1-d10c-77ac1e457146"
      },
      "execution_count": null,
      "outputs": [
        {
          "output_type": "execute_result",
          "data": {
            "text/plain": [
              "{'January': 1, 'February': 2, 'March': 3}"
            ]
          },
          "metadata": {},
          "execution_count": 11
        }
      ]
    },
    {
      "cell_type": "code",
      "source": [
        "grades = {'Sue': [98, 87, 94], 'Bob': [84, 95, 91]}\n",
        "grades2 = {k: sum(v) / len(v) for k, v in grades.items()}\n",
        "grades2"
      ],
      "metadata": {
        "colab": {
          "base_uri": "https://localhost:8080/"
        },
        "id": "qc3Xk8muVPRV",
        "outputId": "6975604e-039b-4fc3-808b-161e3a2bbe4d"
      },
      "execution_count": null,
      "outputs": [
        {
          "output_type": "execute_result",
          "data": {
            "text/plain": [
              "{'Sue': 93.0, 'Bob': 90.0}"
            ]
          },
          "metadata": {},
          "execution_count": 12
        }
      ]
    },
    {
      "cell_type": "markdown",
      "source": [
        "**Sets**"
      ],
      "metadata": {
        "id": "ZmPyZUxQV1wK"
      }
    },
    {
      "cell_type": "code",
      "source": [
        "colors = {'red', 'orange', 'yellow', 'green', 'red', 'blue'}\n",
        "colors"
      ],
      "metadata": {
        "colab": {
          "base_uri": "https://localhost:8080/"
        },
        "id": "lV1fYKYLV397",
        "outputId": "1e739fa9-0146-4e54-b1c7-d7d6fbbd09d8"
      },
      "execution_count": null,
      "outputs": [
        {
          "output_type": "execute_result",
          "data": {
            "text/plain": [
              "{'blue', 'green', 'orange', 'red', 'yellow'}"
            ]
          },
          "metadata": {},
          "execution_count": 16
        }
      ]
    },
    {
      "cell_type": "code",
      "source": [
        "len(colors)"
      ],
      "metadata": {
        "colab": {
          "base_uri": "https://localhost:8080/"
        },
        "id": "D6lJo5juWASF",
        "outputId": "39a9c88f-9698-4d31-97f0-6cd3c9d6df64"
      },
      "execution_count": null,
      "outputs": [
        {
          "output_type": "execute_result",
          "data": {
            "text/plain": [
              "5"
            ]
          },
          "metadata": {},
          "execution_count": 17
        }
      ]
    },
    {
      "cell_type": "code",
      "source": [
        "'red' in colors"
      ],
      "metadata": {
        "colab": {
          "base_uri": "https://localhost:8080/"
        },
        "id": "xJ87EyMxWDHV",
        "outputId": "bbf5a656-630b-47c6-f6ac-f9b126af67b9"
      },
      "execution_count": null,
      "outputs": [
        {
          "output_type": "execute_result",
          "data": {
            "text/plain": [
              "True"
            ]
          },
          "metadata": {},
          "execution_count": 18
        }
      ]
    },
    {
      "cell_type": "code",
      "source": [
        "'purple' not in colors"
      ],
      "metadata": {
        "colab": {
          "base_uri": "https://localhost:8080/"
        },
        "id": "Wy2B0chjWLF_",
        "outputId": "ec6cf16a-f224-4bd1-b9e3-2564de1507ca"
      },
      "execution_count": null,
      "outputs": [
        {
          "output_type": "execute_result",
          "data": {
            "text/plain": [
              "True"
            ]
          },
          "metadata": {},
          "execution_count": 19
        }
      ]
    },
    {
      "cell_type": "code",
      "source": [
        "#Iterating Through a Set\n",
        "for color in colors:\n",
        "    print(color.upper(), end=' ')"
      ],
      "metadata": {
        "colab": {
          "base_uri": "https://localhost:8080/"
        },
        "id": "aPAKfP-dWP--",
        "outputId": "2cb7590e-1b4d-4ec2-bb9d-beca03b685f3"
      },
      "execution_count": null,
      "outputs": [
        {
          "output_type": "stream",
          "name": "stdout",
          "text": [
            "YELLOW BLUE RED ORANGE GREEN "
          ]
        }
      ]
    },
    {
      "cell_type": "code",
      "source": [
        "numbers = list(range(10)) + list(range(5))\n",
        "numbers"
      ],
      "metadata": {
        "colab": {
          "base_uri": "https://localhost:8080/"
        },
        "id": "h4rTA8mhWWbY",
        "outputId": "d4a24fb4-cae3-4bf1-ec40-961650ee9027"
      },
      "execution_count": null,
      "outputs": [
        {
          "output_type": "execute_result",
          "data": {
            "text/plain": [
              "[0, 1, 2, 3, 4, 5, 6, 7, 8, 9, 0, 1, 2, 3, 4]"
            ]
          },
          "metadata": {},
          "execution_count": 23
        }
      ]
    },
    {
      "cell_type": "code",
      "source": [
        "#Creating a Set with the Built-In set Function\n",
        "set(numbers)"
      ],
      "metadata": {
        "colab": {
          "base_uri": "https://localhost:8080/"
        },
        "id": "bI5s-NbjXKEo",
        "outputId": "c71d10f5-947d-4ef6-b7bd-b0bdf34cb117"
      },
      "execution_count": null,
      "outputs": [
        {
          "output_type": "execute_result",
          "data": {
            "text/plain": [
              "{0, 1, 2, 3, 4, 5, 6, 7, 8, 9}"
            ]
          },
          "metadata": {},
          "execution_count": 24
        }
      ]
    },
    {
      "cell_type": "code",
      "source": [
        "{1, 3, 5} == {3, 5, 1}"
      ],
      "metadata": {
        "colab": {
          "base_uri": "https://localhost:8080/"
        },
        "id": "JduC1Uc6YzDl",
        "outputId": "295f0360-8989-4de1-c5fc-233a6cd4aee3"
      },
      "execution_count": null,
      "outputs": [
        {
          "output_type": "execute_result",
          "data": {
            "text/plain": [
              "True"
            ]
          },
          "metadata": {},
          "execution_count": 25
        }
      ]
    },
    {
      "cell_type": "code",
      "source": [
        "{1, 3, 5}.issubset({3, 5, 1})"
      ],
      "metadata": {
        "colab": {
          "base_uri": "https://localhost:8080/"
        },
        "id": "rJ0tcJuXY1OD",
        "outputId": "3683e714-64e5-4781-972d-f514e22f24a9"
      },
      "execution_count": null,
      "outputs": [
        {
          "output_type": "execute_result",
          "data": {
            "text/plain": [
              "True"
            ]
          },
          "metadata": {},
          "execution_count": 26
        }
      ]
    },
    {
      "cell_type": "code",
      "source": [
        "{1, 2}.issubset({3, 5, 1}) #Are all elements in {1, 2} also in {3, 5, 1}?"
      ],
      "metadata": {
        "colab": {
          "base_uri": "https://localhost:8080/"
        },
        "id": "lOYIS8-YY6Ob",
        "outputId": "154f0a89-d798-4945-c24d-0a2abfcf39c3"
      },
      "execution_count": null,
      "outputs": [
        {
          "output_type": "execute_result",
          "data": {
            "text/plain": [
              "False"
            ]
          },
          "metadata": {},
          "execution_count": 28
        }
      ]
    },
    {
      "cell_type": "code",
      "source": [
        "{1, 3, 5}.issuperset({3, 5, 1})"
      ],
      "metadata": {
        "colab": {
          "base_uri": "https://localhost:8080/"
        },
        "id": "a1wcMCR5ZEIJ",
        "outputId": "5a6cd902-d1af-4218-e3c5-318c6a5c2302"
      },
      "execution_count": null,
      "outputs": [
        {
          "output_type": "execute_result",
          "data": {
            "text/plain": [
              "True"
            ]
          },
          "metadata": {},
          "execution_count": 29
        }
      ]
    },
    {
      "cell_type": "code",
      "source": [
        "{1, 3, 5}.issuperset({3, 5})"
      ],
      "metadata": {
        "colab": {
          "base_uri": "https://localhost:8080/"
        },
        "id": "4Y9fxGhwZHVW",
        "outputId": "6143d714-4dd8-41e3-b12c-e02a5ca19a39"
      },
      "execution_count": null,
      "outputs": [
        {
          "output_type": "execute_result",
          "data": {
            "text/plain": [
              "True"
            ]
          },
          "metadata": {},
          "execution_count": 30
        }
      ]
    },
    {
      "cell_type": "code",
      "source": [
        "{1, 3, 5}.issuperset({3, 2})"
      ],
      "metadata": {
        "colab": {
          "base_uri": "https://localhost:8080/"
        },
        "id": "44ib7creZJ7p",
        "outputId": "4ab7d3c6-4d1b-44b7-b2c0-44333df13442"
      },
      "execution_count": null,
      "outputs": [
        {
          "output_type": "execute_result",
          "data": {
            "text/plain": [
              "False"
            ]
          },
          "metadata": {},
          "execution_count": 31
        }
      ]
    },
    {
      "cell_type": "markdown",
      "source": [
        "**Mathematical Set Operations**\n",
        "\n",
        "\n",
        "\n",
        "*   Using operator\n",
        "*   Using method\n",
        "\n"
      ],
      "metadata": {
        "id": "jYY3xFwFZcpr"
      }
    },
    {
      "cell_type": "markdown",
      "source": [
        "Union"
      ],
      "metadata": {
        "id": "klueWT7VZrDE"
      }
    },
    {
      "cell_type": "code",
      "source": [
        "{1, 3, 5} | {2, 3, 4}"
      ],
      "metadata": {
        "colab": {
          "base_uri": "https://localhost:8080/"
        },
        "id": "5bvg0CzLZeAX",
        "outputId": "da88cdbb-7775-4f96-c1b7-833e90e2d113"
      },
      "execution_count": null,
      "outputs": [
        {
          "output_type": "execute_result",
          "data": {
            "text/plain": [
              "{1, 2, 3, 4, 5}"
            ]
          },
          "metadata": {},
          "execution_count": 32
        }
      ]
    },
    {
      "cell_type": "code",
      "source": [
        "{1, 3, 5}.union([20, 20, 3, 40, 40])"
      ],
      "metadata": {
        "colab": {
          "base_uri": "https://localhost:8080/"
        },
        "id": "z6blNFm9Zs5r",
        "outputId": "ddfb46f1-9220-4d6b-981e-ce6d830853a2"
      },
      "execution_count": null,
      "outputs": [
        {
          "output_type": "execute_result",
          "data": {
            "text/plain": [
              "{1, 3, 5, 20, 40}"
            ]
          },
          "metadata": {},
          "execution_count": 33
        }
      ]
    },
    {
      "cell_type": "markdown",
      "source": [
        "Intersection"
      ],
      "metadata": {
        "id": "UJYo_51mZ20J"
      }
    },
    {
      "cell_type": "code",
      "source": [
        "{1, 3, 5} & {2, 3, 4}"
      ],
      "metadata": {
        "colab": {
          "base_uri": "https://localhost:8080/"
        },
        "id": "1EhJ2J74Z5pZ",
        "outputId": "b2b107f2-6e79-4794-f98f-b9e67707ffe6"
      },
      "execution_count": null,
      "outputs": [
        {
          "output_type": "execute_result",
          "data": {
            "text/plain": [
              "{3}"
            ]
          },
          "metadata": {},
          "execution_count": 34
        }
      ]
    },
    {
      "cell_type": "code",
      "source": [
        "{1, 3, 5}.intersection([1, 2, 2, 3, 3, 4, 4])"
      ],
      "metadata": {
        "colab": {
          "base_uri": "https://localhost:8080/"
        },
        "id": "0by-uqjDZ-eD",
        "outputId": "c3a36f7e-4b21-4355-e0f9-cab85632b560"
      },
      "execution_count": null,
      "outputs": [
        {
          "output_type": "execute_result",
          "data": {
            "text/plain": [
              "{1, 3}"
            ]
          },
          "metadata": {},
          "execution_count": 35
        }
      ]
    },
    {
      "cell_type": "markdown",
      "source": [
        "Difference"
      ],
      "metadata": {
        "id": "YoewKvilaBDU"
      }
    },
    {
      "cell_type": "code",
      "source": [
        "{1, 3, 5} - {2, 3, 4}"
      ],
      "metadata": {
        "colab": {
          "base_uri": "https://localhost:8080/"
        },
        "id": "wliVa2-1fBpI",
        "outputId": "7742b008-5257-484c-fe4f-11b76390a865"
      },
      "execution_count": null,
      "outputs": [
        {
          "output_type": "execute_result",
          "data": {
            "text/plain": [
              "{1, 5}"
            ]
          },
          "metadata": {},
          "execution_count": 36
        }
      ]
    },
    {
      "cell_type": "code",
      "source": [
        "{1, 3, 5, 7}.difference([2, 2, 3, 3, 4, 4]) #the list will automatically convert to set internally"
      ],
      "metadata": {
        "colab": {
          "base_uri": "https://localhost:8080/"
        },
        "id": "6hQdLF1lfEaI",
        "outputId": "6e45097c-5656-4866-d827-903d1287c351"
      },
      "execution_count": null,
      "outputs": [
        {
          "output_type": "execute_result",
          "data": {
            "text/plain": [
              "{1, 5, 7}"
            ]
          },
          "metadata": {},
          "execution_count": 37
        }
      ]
    },
    {
      "cell_type": "markdown",
      "source": [
        "Symmetric Difference"
      ],
      "metadata": {
        "id": "YNAmK0fJfdNT"
      }
    },
    {
      "cell_type": "code",
      "source": [
        "{1, 3, 5} ^ {2, 3, 4}"
      ],
      "metadata": {
        "colab": {
          "base_uri": "https://localhost:8080/"
        },
        "id": "nAj2h4_qfg7h",
        "outputId": "eb6086ce-dd2f-4b04-f97c-899178fe619b"
      },
      "execution_count": null,
      "outputs": [
        {
          "output_type": "execute_result",
          "data": {
            "text/plain": [
              "{1, 2, 4, 5}"
            ]
          },
          "metadata": {},
          "execution_count": 38
        }
      ]
    },
    {
      "cell_type": "code",
      "source": [
        "{1, 3, 5, 7}.symmetric_difference([2, 2, 3, 3, 4, 4])  #{1, 3, 5, 7} ⊕ {2, 3, 4}\n",
        "#Elements only in A: 1,5,7  Elements only in B: 2, 4  Shared (in both):3\n",
        "# So, the result includes all elements except the one they share (3)"
      ],
      "metadata": {
        "colab": {
          "base_uri": "https://localhost:8080/"
        },
        "id": "x1XlHJQHflth",
        "outputId": "8938ed9c-e0cb-4abf-ef76-8247d19cf91b"
      },
      "execution_count": null,
      "outputs": [
        {
          "output_type": "execute_result",
          "data": {
            "text/plain": [
              "{1, 2, 4, 5, 7}"
            ]
          },
          "metadata": {},
          "execution_count": 39
        }
      ]
    },
    {
      "cell_type": "markdown",
      "source": [
        "Disjoint"
      ],
      "metadata": {
        "id": "kIwxvB_Egbdl"
      }
    },
    {
      "cell_type": "code",
      "source": [
        "{1, 3, 5}.isdisjoint({2, 4, 6})"
      ],
      "metadata": {
        "colab": {
          "base_uri": "https://localhost:8080/"
        },
        "id": "m4Je4ebHgcM-",
        "outputId": "1d8004d8-a31f-4386-a11d-648023101422"
      },
      "execution_count": null,
      "outputs": [
        {
          "output_type": "execute_result",
          "data": {
            "text/plain": [
              "True"
            ]
          },
          "metadata": {},
          "execution_count": 40
        }
      ]
    },
    {
      "cell_type": "markdown",
      "source": [
        "Mutable Mathematical Set Operations"
      ],
      "metadata": {
        "id": "UTkO5LLUgoKb"
      }
    },
    {
      "cell_type": "code",
      "source": [
        "numbers = {1, 3, 5}\n",
        "numbers |= {2, 3, 4} #Union\n",
        "numbers"
      ],
      "metadata": {
        "colab": {
          "base_uri": "https://localhost:8080/"
        },
        "id": "y_yEIGk3g16j",
        "outputId": "7d630b60-eb5c-4471-d0ed-b75ada553ac1"
      },
      "execution_count": null,
      "outputs": [
        {
          "output_type": "execute_result",
          "data": {
            "text/plain": [
              "{1, 2, 3, 4, 5}"
            ]
          },
          "metadata": {},
          "execution_count": 41
        }
      ]
    },
    {
      "cell_type": "code",
      "source": [
        "numbers.update(range(10))  #updates numbers in place by adding all elements from range(10)\n",
        "numbers"
      ],
      "metadata": {
        "colab": {
          "base_uri": "https://localhost:8080/"
        },
        "id": "9as3t8trhE31",
        "outputId": "70b662db-f1a1-4912-df9a-05ce7178b6a9"
      },
      "execution_count": null,
      "outputs": [
        {
          "output_type": "execute_result",
          "data": {
            "text/plain": [
              "{0, 1, 2, 3, 4, 5, 6, 7, 8, 9}"
            ]
          },
          "metadata": {},
          "execution_count": 42
        }
      ]
    },
    {
      "cell_type": "markdown",
      "source": [
        "Methods for Adding and Removing Elements"
      ],
      "metadata": {
        "id": "FB0c1SlShcj4"
      }
    },
    {
      "cell_type": "code",
      "source": [
        "numbers.add(17)\n",
        "numbers"
      ],
      "metadata": {
        "colab": {
          "base_uri": "https://localhost:8080/"
        },
        "id": "WOgUSNDEhbJ2",
        "outputId": "912641ba-5db4-4d96-c26f-a5ecf89f7ea1"
      },
      "execution_count": null,
      "outputs": [
        {
          "output_type": "execute_result",
          "data": {
            "text/plain": [
              "{0, 1, 2, 3, 4, 5, 6, 7, 8, 9, 17}"
            ]
          },
          "metadata": {},
          "execution_count": 43
        }
      ]
    },
    {
      "cell_type": "code",
      "source": [
        "numbers.remove(3)\n",
        "numbers"
      ],
      "metadata": {
        "colab": {
          "base_uri": "https://localhost:8080/"
        },
        "id": "iR0vzTKXhnn_",
        "outputId": "e12e037c-5ad2-4e5c-fc51-c32a01e22b44"
      },
      "execution_count": null,
      "outputs": [
        {
          "output_type": "execute_result",
          "data": {
            "text/plain": [
              "{0, 1, 2, 4, 5, 6, 7, 8, 9, 17}"
            ]
          },
          "metadata": {},
          "execution_count": 44
        }
      ]
    },
    {
      "cell_type": "code",
      "source": [
        "numbers.pop()\n",
        "numbers"
      ],
      "metadata": {
        "colab": {
          "base_uri": "https://localhost:8080/"
        },
        "id": "bcgSODA8ht1Q",
        "outputId": "19b4d35b-0e05-492b-f5ed-4ca176626cb0"
      },
      "execution_count": null,
      "outputs": [
        {
          "output_type": "execute_result",
          "data": {
            "text/plain": [
              "{1, 2, 4, 5, 6, 7, 8, 9, 17}"
            ]
          },
          "metadata": {},
          "execution_count": 45
        }
      ]
    },
    {
      "cell_type": "code",
      "source": [
        "numbers.clear()\n",
        "numbers"
      ],
      "metadata": {
        "colab": {
          "base_uri": "https://localhost:8080/"
        },
        "id": "L1TyMmG2h0f3",
        "outputId": "cb2b98f7-03b2-4947-b803-a259145fb0db"
      },
      "execution_count": null,
      "outputs": [
        {
          "output_type": "execute_result",
          "data": {
            "text/plain": [
              "set()"
            ]
          },
          "metadata": {},
          "execution_count": 46
        }
      ]
    },
    {
      "cell_type": "markdown",
      "source": [
        "**Set Comprehensions**"
      ],
      "metadata": {
        "id": "taEP4rVZh8sv"
      }
    },
    {
      "cell_type": "code",
      "source": [
        "numbers = [1, 2, 2, 3, 4, 5, 6, 6, 7, 8, 9, 10, 10]\n",
        "evens = {item for item in numbers if item % 2 == 0}\n",
        "evens"
      ],
      "metadata": {
        "id": "IyUTnaEJh93V",
        "outputId": "39b85caf-a348-4247-c9fd-5a952badc852",
        "colab": {
          "base_uri": "https://localhost:8080/"
        }
      },
      "execution_count": null,
      "outputs": [
        {
          "output_type": "execute_result",
          "data": {
            "text/plain": [
              "{2, 4, 6, 8, 10}"
            ]
          },
          "metadata": {},
          "execution_count": 47
        }
      ]
    }
  ]
}