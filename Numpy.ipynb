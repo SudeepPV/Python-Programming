{
  "nbformat": 4,
  "nbformat_minor": 0,
  "metadata": {
    "colab": {
      "provenance": []
    },
    "kernelspec": {
      "name": "python3",
      "display_name": "Python 3"
    },
    "language_info": {
      "name": "python"
    }
  },
  "cells": [
    {
      "cell_type": "markdown",
      "source": [
        "![image.png](data:image/png;base64,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)"
      ],
      "metadata": {
        "id": "mJq3JuRTiWtP"
      }
    },
    {
      "cell_type": "markdown",
      "source": [
        "Numpy is a library for working with tensors, i.e. multi-dimensional arrays. Array has values of the same underlying type, and it is simpler than dataframe, but it offers more mathematical operations, and creates less overhead."
      ],
      "metadata": {
        "id": "1w8_YUKfmumF"
      }
    },
    {
      "cell_type": "code",
      "execution_count": null,
      "metadata": {
        "colab": {
          "base_uri": "https://localhost:8080/"
        },
        "id": "VbCVt248iNYX",
        "outputId": "f58ea72d-3c20-40c0-fc27-19d2310cd456"
      },
      "outputs": [
        {
          "output_type": "stream",
          "name": "stdout",
          "text": [
            "[1 2 3 4 5]\n",
            "<class 'numpy.ndarray'>\n"
          ]
        }
      ],
      "source": [
        "import numpy as np\n",
        "\n",
        "arr = np.array([1, 2, 3, 4, 5])\n",
        "print(arr)\n",
        "print(type(arr))"
      ]
    },
    {
      "cell_type": "code",
      "source": [
        "arr = np.array((1, 2, 3, 4, 5))  #1-D\n",
        "print(arr)\n"
      ],
      "metadata": {
        "colab": {
          "base_uri": "https://localhost:8080/"
        },
        "id": "JiTuoqZ-jOaF",
        "outputId": "8d93ef51-1058-4938-ebbe-1ad660da5470"
      },
      "execution_count": null,
      "outputs": [
        {
          "output_type": "stream",
          "name": "stdout",
          "text": [
            "[1 2 3 4 5]\n"
          ]
        }
      ]
    },
    {
      "cell_type": "code",
      "source": [
        "arr = np.array(15) #0-D\n",
        "print(arr)"
      ],
      "metadata": {
        "colab": {
          "base_uri": "https://localhost:8080/"
        },
        "id": "uuPInC4jjYfn",
        "outputId": "a416f96e-0072-4bc1-922b-d2f97af368a1"
      },
      "execution_count": null,
      "outputs": [
        {
          "output_type": "stream",
          "name": "stdout",
          "text": [
            "15\n"
          ]
        }
      ]
    },
    {
      "cell_type": "code",
      "source": [
        "arr = np.array([[1, 2, 3], [4, 5, 6]])  #2-D\n",
        "print(arr)\n"
      ],
      "metadata": {
        "colab": {
          "base_uri": "https://localhost:8080/"
        },
        "id": "EQQdiiUMjh-V",
        "outputId": "48a01492-e7c5-4343-d903-8f2c54f43958"
      },
      "execution_count": null,
      "outputs": [
        {
          "output_type": "stream",
          "name": "stdout",
          "text": [
            "[[1 2 3]\n",
            " [4 5 6]]\n"
          ]
        }
      ]
    },
    {
      "cell_type": "code",
      "source": [
        "import numpy as np\n",
        "\n",
        "arr = np.array([[[1, 2, 3], [4, 5, 6]],\n",
        "                [[1, 2, 3], [4, 5, 6]]])            #3-D\n",
        "\n",
        "print(arr)\n",
        "print(arr.ndim)\n"
      ],
      "metadata": {
        "colab": {
          "base_uri": "https://localhost:8080/"
        },
        "id": "f1nx0WdJjn48",
        "outputId": "4eb767aa-6f54-4d90-c4b5-ec37975d187a"
      },
      "execution_count": null,
      "outputs": [
        {
          "output_type": "stream",
          "name": "stdout",
          "text": [
            "[[[1 2 3]\n",
            "  [4 5 6]]\n",
            "\n",
            " [[1 2 3]\n",
            "  [4 5 6]]]\n",
            "3\n"
          ]
        }
      ]
    },
    {
      "cell_type": "markdown",
      "source": [
        "| Attribute           | Meaning                                    | Output (in this case)                        |\n",
        "| ------------------- | ------------------------------------------ | -------------------------------------------- |\n",
        "| `integers.dtype`    | Data type of the elements                  | `int64` (or `int32`, depends on your system) |\n",
        "| `integers.ndim`     | Number of dimensions (axes)                | `2`                                          |\n",
        "| `integers.shape`    | Shape of the array (rows, columns)         | `(2, 3)`                                     |\n",
        "| `integers.size`     | Total number of elements                   | `6`                                          |\n",
        "| `integers.itemsize` | Size (in bytes) of each individual element | `8` (for `int64`) or `4` (for `int32`)       |\n"
      ],
      "metadata": {
        "id": "-SVMyDzM6N3c"
      }
    },
    {
      "cell_type": "code",
      "source": [
        "integers = np.array([[1, 2, 3], [4, 5, 6]])\n",
        "print('integers',integers)\n",
        "print('integers.dtype',integers.dtype)\n",
        "print('integers.ndim',integers.ndim)\n",
        "print('integers.shape',integers.shape)\n",
        "print('integers.size',integers.size)\n",
        "print('integers.itemsize',integers.itemsize)"
      ],
      "metadata": {
        "colab": {
          "base_uri": "https://localhost:8080/"
        },
        "id": "Uj-FHcKM4ozt",
        "outputId": "49bbe72b-1ce3-491f-a240-b008d008e3a8"
      },
      "execution_count": null,
      "outputs": [
        {
          "output_type": "stream",
          "name": "stdout",
          "text": [
            "integers [[1 2 3]\n",
            " [4 5 6]]\n",
            "integers.dtype int64\n",
            "integers.ndim 2\n",
            "integers.shape (2, 3)\n",
            "integers.size 6\n",
            "integers.itemsize 8\n"
          ]
        }
      ]
    },
    {
      "cell_type": "code",
      "source": [
        "floats = np.array([0.0, 0.1, 0.2, 0.3, 0.4])\n",
        "print('floats',floats)\n",
        "print('floats.dtype',floats.dtype)\n",
        "print('floats.ndim',floats.ndim)\n",
        "print('floats.shape',floats.shape)\n",
        "print('floats.size',floats.size)\n",
        "print('floats.itemsize',floats.itemsize)"
      ],
      "metadata": {
        "colab": {
          "base_uri": "https://localhost:8080/"
        },
        "id": "kPhenMLd5g50",
        "outputId": "89f5bc1c-8343-4991-94c6-2b5ed019f32f"
      },
      "execution_count": null,
      "outputs": [
        {
          "output_type": "stream",
          "name": "stdout",
          "text": [
            "floats [0.  0.1 0.2 0.3 0.4]\n",
            "floats.dtype float64\n",
            "floats.ndim 1\n",
            "floats.shape (5,)\n",
            "floats.size 5\n",
            "floats.itemsize 8\n"
          ]
        }
      ]
    },
    {
      "cell_type": "code",
      "source": [
        "for row in integers:\n",
        "    for column in row:\n",
        "        print(column, end='  ')\n",
        "    print()"
      ],
      "metadata": {
        "colab": {
          "base_uri": "https://localhost:8080/"
        },
        "id": "S-8QxD1C6f3n",
        "outputId": "7b5546a6-746d-45df-ffda-2e648f39df38"
      },
      "execution_count": null,
      "outputs": [
        {
          "output_type": "stream",
          "name": "stdout",
          "text": [
            "1  2  3  \n",
            "4  5  6  \n"
          ]
        }
      ]
    },
    {
      "cell_type": "code",
      "source": [
        "for i in integers.flat:\n",
        "    print(i, end='  ')"
      ],
      "metadata": {
        "colab": {
          "base_uri": "https://localhost:8080/"
        },
        "id": "vPq4MCNg6jb0",
        "outputId": "9e6aceda-4ec8-46a8-dd72-da9e533cbe3c"
      },
      "execution_count": null,
      "outputs": [
        {
          "output_type": "stream",
          "name": "stdout",
          "text": [
            "1  2  3  4  5  6  "
          ]
        }
      ]
    },
    {
      "cell_type": "code",
      "source": [
        "np.zeros(5)"
      ],
      "metadata": {
        "colab": {
          "base_uri": "https://localhost:8080/"
        },
        "id": "rK86ldI76pri",
        "outputId": "46ffa7bd-fa8e-4047-b260-a407fa950d09"
      },
      "execution_count": null,
      "outputs": [
        {
          "output_type": "execute_result",
          "data": {
            "text/plain": [
              "array([0., 0., 0., 0., 0.])"
            ]
          },
          "metadata": {},
          "execution_count": 12
        }
      ]
    },
    {
      "cell_type": "code",
      "source": [
        "np.ones((2, 4), dtype=int)"
      ],
      "metadata": {
        "colab": {
          "base_uri": "https://localhost:8080/"
        },
        "id": "I5kY24hq6sQc",
        "outputId": "3b138a78-f54d-4e26-e72f-43c4bc105c37"
      },
      "execution_count": null,
      "outputs": [
        {
          "output_type": "execute_result",
          "data": {
            "text/plain": [
              "array([[1, 1, 1, 1],\n",
              "       [1, 1, 1, 1]])"
            ]
          },
          "metadata": {},
          "execution_count": 13
        }
      ]
    },
    {
      "cell_type": "code",
      "source": [
        "np.full((3, 5), 13)"
      ],
      "metadata": {
        "colab": {
          "base_uri": "https://localhost:8080/"
        },
        "id": "LgTNJFFp6vBQ",
        "outputId": "d708418b-ddcf-41b9-ff06-99e56e487ac5"
      },
      "execution_count": null,
      "outputs": [
        {
          "output_type": "execute_result",
          "data": {
            "text/plain": [
              "array([[13, 13, 13, 13, 13],\n",
              "       [13, 13, 13, 13, 13],\n",
              "       [13, 13, 13, 13, 13]])"
            ]
          },
          "metadata": {},
          "execution_count": 14
        }
      ]
    },
    {
      "cell_type": "markdown",
      "source": [
        "Creating Integer Ranges with arange()"
      ],
      "metadata": {
        "id": "3u2vMpCI7Fx4"
      }
    },
    {
      "cell_type": "code",
      "source": [
        "np.arange(5)"
      ],
      "metadata": {
        "colab": {
          "base_uri": "https://localhost:8080/"
        },
        "id": "uG4-7Kgr64TC",
        "outputId": "9381e077-687b-4a17-bc0d-1c629ded0eb3"
      },
      "execution_count": null,
      "outputs": [
        {
          "output_type": "execute_result",
          "data": {
            "text/plain": [
              "array([0, 1, 2, 3, 4])"
            ]
          },
          "metadata": {},
          "execution_count": 15
        }
      ]
    },
    {
      "cell_type": "code",
      "source": [
        "np.arange(5, 10)"
      ],
      "metadata": {
        "colab": {
          "base_uri": "https://localhost:8080/"
        },
        "id": "moNPTgaG68G0",
        "outputId": "844f2eb6-d8e0-4def-abc8-749192e02851"
      },
      "execution_count": null,
      "outputs": [
        {
          "output_type": "execute_result",
          "data": {
            "text/plain": [
              "array([5, 6, 7, 8, 9])"
            ]
          },
          "metadata": {},
          "execution_count": 16
        }
      ]
    },
    {
      "cell_type": "code",
      "source": [
        "np.arange(10, 1, -2)"
      ],
      "metadata": {
        "colab": {
          "base_uri": "https://localhost:8080/"
        },
        "id": "NODa-j-O6_Fy",
        "outputId": "9f8fa91b-966a-4ab6-88bb-792c2b735c55"
      },
      "execution_count": null,
      "outputs": [
        {
          "output_type": "execute_result",
          "data": {
            "text/plain": [
              "array([10,  8,  6,  4,  2])"
            ]
          },
          "metadata": {},
          "execution_count": 17
        }
      ]
    },
    {
      "cell_type": "markdown",
      "source": [
        "Creating Floating-Point Ranges with linspace"
      ],
      "metadata": {
        "id": "hPeAlQ537IN7"
      }
    },
    {
      "cell_type": "code",
      "source": [
        "np.linspace(0.0, 1.0, num=5)"
      ],
      "metadata": {
        "colab": {
          "base_uri": "https://localhost:8080/"
        },
        "id": "nlRIH__F7KjN",
        "outputId": "6e2ec7b4-ebd1-435b-d7f0-e44797c621e4"
      },
      "execution_count": null,
      "outputs": [
        {
          "output_type": "execute_result",
          "data": {
            "text/plain": [
              "array([0.  , 0.25, 0.5 , 0.75, 1.  ])"
            ]
          },
          "metadata": {},
          "execution_count": 18
        }
      ]
    },
    {
      "cell_type": "code",
      "source": [
        "np.arange(1, 21).reshape(4, 5)"
      ],
      "metadata": {
        "colab": {
          "base_uri": "https://localhost:8080/"
        },
        "id": "7yE1Dps97Q5Q",
        "outputId": "44b07d78-01d5-43c0-f0f6-72d44f1f0b0d"
      },
      "execution_count": null,
      "outputs": [
        {
          "output_type": "execute_result",
          "data": {
            "text/plain": [
              "array([[ 1,  2,  3,  4,  5],\n",
              "       [ 6,  7,  8,  9, 10],\n",
              "       [11, 12, 13, 14, 15],\n",
              "       [16, 17, 18, 19, 20]])"
            ]
          },
          "metadata": {},
          "execution_count": 19
        }
      ]
    },
    {
      "cell_type": "code",
      "source": [
        "np.arange(1, 100001).reshape(4, 25000)"
      ],
      "metadata": {
        "colab": {
          "base_uri": "https://localhost:8080/"
        },
        "id": "9WD1qmh17U2L",
        "outputId": "52fd82d2-f762-487a-cff9-d44ed7bc53f0"
      },
      "execution_count": null,
      "outputs": [
        {
          "output_type": "execute_result",
          "data": {
            "text/plain": [
              "array([[     1,      2,      3, ...,  24998,  24999,  25000],\n",
              "       [ 25001,  25002,  25003, ...,  49998,  49999,  50000],\n",
              "       [ 50001,  50002,  50003, ...,  74998,  74999,  75000],\n",
              "       [ 75001,  75002,  75003, ...,  99998,  99999, 100000]])"
            ]
          },
          "metadata": {},
          "execution_count": 20
        }
      ]
    },
    {
      "cell_type": "code",
      "source": [
        "np.arange(1, 100001).reshape(100, 1000)"
      ],
      "metadata": {
        "colab": {
          "base_uri": "https://localhost:8080/"
        },
        "id": "D2n6I9BU7cQd",
        "outputId": "30595c82-c81f-4118-dee6-e2b6147ff156"
      },
      "execution_count": null,
      "outputs": [
        {
          "output_type": "execute_result",
          "data": {
            "text/plain": [
              "array([[     1,      2,      3, ...,    998,    999,   1000],\n",
              "       [  1001,   1002,   1003, ...,   1998,   1999,   2000],\n",
              "       [  2001,   2002,   2003, ...,   2998,   2999,   3000],\n",
              "       ...,\n",
              "       [ 97001,  97002,  97003, ...,  97998,  97999,  98000],\n",
              "       [ 98001,  98002,  98003, ...,  98998,  98999,  99000],\n",
              "       [ 99001,  99002,  99003, ...,  99998,  99999, 100000]])"
            ]
          },
          "metadata": {},
          "execution_count": 21
        }
      ]
    },
    {
      "cell_type": "markdown",
      "source": [
        "# **List vs. array Performance: Introducing %timeit**"
      ],
      "metadata": {
        "id": "8mYf8ImD7ko1"
      }
    },
    {
      "cell_type": "code",
      "source": [
        "import random\n",
        "%timeit rolls_list = \\\n",
        "   [random.randrange(1, 7) for i in range(0, 6_000_000)]"
      ],
      "metadata": {
        "colab": {
          "base_uri": "https://localhost:8080/"
        },
        "id": "nEaoNryT7o6v",
        "outputId": "5b11c767-dc17-4899-c668-de5949368849"
      },
      "execution_count": null,
      "outputs": [
        {
          "output_type": "stream",
          "name": "stdout",
          "text": [
            "1.78 s ± 160 ms per loop (mean ± std. dev. of 7 runs, 1 loop each)\n"
          ]
        }
      ]
    },
    {
      "cell_type": "code",
      "source": [
        "%timeit rolls_array = np.random.randint(1, 7, 6_000_000)\n",
        "#%timeit runs the line multiple times and gives you the average execution time.\n",
        "#np.random.randint(1, 7, 6_000_000) generates a NumPy array of 6 million random integers, each between 1 and 6 (like simulating 6 million dice rolls)."
      ],
      "metadata": {
        "colab": {
          "base_uri": "https://localhost:8080/"
        },
        "id": "YS6437-u71nw",
        "outputId": "f64e4015-d069-4c31-981e-96fb611aeccc"
      },
      "execution_count": null,
      "outputs": [
        {
          "output_type": "stream",
          "name": "stdout",
          "text": [
            "57.5 ms ± 2.1 ms per loop (mean ± std. dev. of 7 runs, 10 loops each)\n"
          ]
        }
      ]
    },
    {
      "cell_type": "markdown",
      "source": [
        "**Operators**"
      ],
      "metadata": {
        "id": "6qOZDd0K8ft2"
      }
    },
    {
      "cell_type": "code",
      "source": [
        "numbers = np.arange(1, 6)\n",
        "numbers"
      ],
      "metadata": {
        "colab": {
          "base_uri": "https://localhost:8080/"
        },
        "id": "TBmtXSRA8hEE",
        "outputId": "25c2fc99-c1e9-4f5d-c9a7-6669439ba44d"
      },
      "execution_count": null,
      "outputs": [
        {
          "output_type": "execute_result",
          "data": {
            "text/plain": [
              "array([1, 2, 3, 4, 5])"
            ]
          },
          "metadata": {},
          "execution_count": 26
        }
      ]
    },
    {
      "cell_type": "code",
      "source": [
        "numbers * 2"
      ],
      "metadata": {
        "colab": {
          "base_uri": "https://localhost:8080/"
        },
        "id": "s1MNgU1k8n1n",
        "outputId": "9e00e792-cf3c-4b0b-c9ee-7cc84d117e20"
      },
      "execution_count": null,
      "outputs": [
        {
          "output_type": "execute_result",
          "data": {
            "text/plain": [
              "array([ 2,  4,  6,  8, 10])"
            ]
          },
          "metadata": {},
          "execution_count": 28
        }
      ]
    },
    {
      "cell_type": "code",
      "source": [
        "numbers ** 3"
      ],
      "metadata": {
        "colab": {
          "base_uri": "https://localhost:8080/"
        },
        "id": "dIC0QgBS8paN",
        "outputId": "d9d6ddcd-9d69-4f41-c1e2-a6e8c7dd566c"
      },
      "execution_count": null,
      "outputs": [
        {
          "output_type": "execute_result",
          "data": {
            "text/plain": [
              "array([  1,   8,  27,  64, 125])"
            ]
          },
          "metadata": {},
          "execution_count": 29
        }
      ]
    },
    {
      "cell_type": "code",
      "source": [
        "numbers=[]\n",
        "numbers = np.arange(1, 6)\n",
        "numbers += 10\n",
        "numbers"
      ],
      "metadata": {
        "colab": {
          "base_uri": "https://localhost:8080/"
        },
        "id": "5oS8BdZt8rnD",
        "outputId": "f1e47ab4-575b-4355-8697-2efc3ec77243"
      },
      "execution_count": null,
      "outputs": [
        {
          "output_type": "execute_result",
          "data": {
            "text/plain": [
              "array([11, 12, 13, 14, 15])"
            ]
          },
          "metadata": {},
          "execution_count": 34
        }
      ]
    },
    {
      "cell_type": "code",
      "source": [
        "numbers2 = np.linspace(1.1, 5.5, 5)"
      ],
      "metadata": {
        "id": "uHX22ose8u9m"
      },
      "execution_count": null,
      "outputs": []
    },
    {
      "cell_type": "code",
      "source": [
        "numbers2"
      ],
      "metadata": {
        "colab": {
          "base_uri": "https://localhost:8080/"
        },
        "id": "HOWse6Nj9V_P",
        "outputId": "a5f7bbb4-94ec-40dc-9e7d-c775f4e0c0b0"
      },
      "execution_count": null,
      "outputs": [
        {
          "output_type": "execute_result",
          "data": {
            "text/plain": [
              "array([1.1, 2.2, 3.3, 4.4, 5.5])"
            ]
          },
          "metadata": {},
          "execution_count": 36
        }
      ]
    },
    {
      "cell_type": "code",
      "source": [
        "print(numbers * numbers2)"
      ],
      "metadata": {
        "colab": {
          "base_uri": "https://localhost:8080/"
        },
        "id": "wDOZPd358xja",
        "outputId": "8013c16e-dc91-429d-9389-148f4f453e05"
      },
      "execution_count": null,
      "outputs": [
        {
          "output_type": "stream",
          "name": "stdout",
          "text": [
            "[12.1 26.4 42.9 61.6 82.5]\n"
          ]
        }
      ]
    },
    {
      "cell_type": "code",
      "source": [
        "numbers >= 13"
      ],
      "metadata": {
        "colab": {
          "base_uri": "https://localhost:8080/"
        },
        "id": "cJHazUgr9dMc",
        "outputId": "a55d19d2-0dbf-47d6-93a3-c50c64afebec"
      },
      "execution_count": null,
      "outputs": [
        {
          "output_type": "execute_result",
          "data": {
            "text/plain": [
              "array([False, False,  True,  True,  True])"
            ]
          },
          "metadata": {},
          "execution_count": 38
        }
      ]
    },
    {
      "cell_type": "code",
      "source": [
        "grades = np.array([[87, 96, 70], [100, 87, 90],\n",
        "                   [94, 77, 90], [100, 81, 82]])\n",
        "grades"
      ],
      "metadata": {
        "colab": {
          "base_uri": "https://localhost:8080/"
        },
        "id": "uKi4_9089ktM",
        "outputId": "7e37cb2b-1699-4b08-9613-1a52958fc45c"
      },
      "execution_count": null,
      "outputs": [
        {
          "output_type": "execute_result",
          "data": {
            "text/plain": [
              "array([[ 87,  96,  70],\n",
              "       [100,  87,  90],\n",
              "       [ 94,  77,  90],\n",
              "       [100,  81,  82]])"
            ]
          },
          "metadata": {},
          "execution_count": 39
        }
      ]
    },
    {
      "cell_type": "code",
      "source": [
        "print('grades.sum()',grades.sum() )\n",
        "print('grades.min()',grades.min() )\n",
        "print('grades.mean()',grades.mean() )\n",
        "print('grades.std()',grades.std() )\n",
        "print('grades.var()', grades.var())"
      ],
      "metadata": {
        "colab": {
          "base_uri": "https://localhost:8080/"
        },
        "id": "zrSZa1Nt9rE2",
        "outputId": "3352d2ba-2f76-47e7-9ed4-bf5d3d8b5cf5"
      },
      "execution_count": null,
      "outputs": [
        {
          "output_type": "stream",
          "name": "stdout",
          "text": [
            "grades.sum() 1054\n",
            "grades.min() 70\n",
            "grades.mean() 87.83333333333333\n",
            "grades.std() 8.792357792739987\n",
            "grades.var() 77.30555555555556\n"
          ]
        }
      ]
    },
    {
      "cell_type": "code",
      "source": [
        "grades.mean(axis=0)\n",
        "#axis=0 means compute the mean of each column"
      ],
      "metadata": {
        "colab": {
          "base_uri": "https://localhost:8080/"
        },
        "id": "kbsILQ2Y-Bms",
        "outputId": "e9592c91-f17a-4ace-8942-bb05cc1c596c"
      },
      "execution_count": null,
      "outputs": [
        {
          "output_type": "execute_result",
          "data": {
            "text/plain": [
              "array([95.25, 85.25, 83.  ])"
            ]
          },
          "metadata": {},
          "execution_count": 42
        }
      ]
    },
    {
      "cell_type": "code",
      "source": [
        "grades.mean(axis=1)"
      ],
      "metadata": {
        "colab": {
          "base_uri": "https://localhost:8080/"
        },
        "id": "ybG0NtAD-Yjw",
        "outputId": "82c3a8c7-87a7-4d69-c9a2-d1a7e6fae8f4"
      },
      "execution_count": null,
      "outputs": [
        {
          "output_type": "execute_result",
          "data": {
            "text/plain": [
              "array([84.33333333, 92.33333333, 87.        , 87.66666667])"
            ]
          },
          "metadata": {},
          "execution_count": 43
        }
      ]
    },
    {
      "cell_type": "markdown",
      "source": [
        "**Universal Functions**"
      ],
      "metadata": {
        "id": "d9kWgldo-frC"
      }
    },
    {
      "cell_type": "code",
      "source": [
        "numbers = np.array([1, 4, 9, 16, 25, 36])\n",
        "np.sqrt(numbers)"
      ],
      "metadata": {
        "colab": {
          "base_uri": "https://localhost:8080/"
        },
        "id": "knXWMZ0w-h8a",
        "outputId": "f33d49a8-a111-464b-c888-0c4fb3cecb1f"
      },
      "execution_count": null,
      "outputs": [
        {
          "output_type": "execute_result",
          "data": {
            "text/plain": [
              "array([1., 2., 3., 4., 5., 6.])"
            ]
          },
          "metadata": {},
          "execution_count": 45
        }
      ]
    },
    {
      "cell_type": "code",
      "source": [
        "numbers2 = np.arange(1, 7) * 10\n",
        "numbers2"
      ],
      "metadata": {
        "colab": {
          "base_uri": "https://localhost:8080/"
        },
        "id": "Q9eGGRT0-tIU",
        "outputId": "e0b9f3a4-1d3f-4f99-8785-362dac3a8ab2"
      },
      "execution_count": null,
      "outputs": [
        {
          "output_type": "execute_result",
          "data": {
            "text/plain": [
              "array([10, 20, 30, 40, 50, 60])"
            ]
          },
          "metadata": {},
          "execution_count": 49
        }
      ]
    },
    {
      "cell_type": "code",
      "source": [
        "np.add(numbers, numbers2)"
      ],
      "metadata": {
        "colab": {
          "base_uri": "https://localhost:8080/"
        },
        "id": "JIHX2FTd-zc5",
        "outputId": "4e2ddd36-62b5-4cf1-baa5-445baea6349d"
      },
      "execution_count": null,
      "outputs": [
        {
          "output_type": "execute_result",
          "data": {
            "text/plain": [
              "array([11, 24, 39, 56, 75, 96])"
            ]
          },
          "metadata": {},
          "execution_count": 47
        }
      ]
    },
    {
      "cell_type": "code",
      "source": [
        "np.multiply(numbers2, 5)"
      ],
      "metadata": {
        "colab": {
          "base_uri": "https://localhost:8080/"
        },
        "id": "b0qtzE6n-8Ym",
        "outputId": "171e1133-572b-4fe5-fec0-8b5971b41b6d"
      },
      "execution_count": null,
      "outputs": [
        {
          "output_type": "execute_result",
          "data": {
            "text/plain": [
              "array([ 50, 100, 150, 200, 250, 300])"
            ]
          },
          "metadata": {},
          "execution_count": 50
        }
      ]
    },
    {
      "cell_type": "code",
      "source": [
        "numbers3 = numbers2.reshape(2, 3)\n",
        "numbers4 = np.array([2, 4, 6])\n",
        "print(numbers3)\n",
        "print(numbers4)"
      ],
      "metadata": {
        "colab": {
          "base_uri": "https://localhost:8080/"
        },
        "id": "TtDU3-K4_B3H",
        "outputId": "72497ecd-e34e-44a6-b26e-d97fd09df779"
      },
      "execution_count": null,
      "outputs": [
        {
          "output_type": "stream",
          "name": "stdout",
          "text": [
            "[[10 20 30]\n",
            " [40 50 60]]\n",
            "[2 4 6]\n"
          ]
        }
      ]
    },
    {
      "cell_type": "code",
      "source": [
        "np.multiply(numbers3, numbers4)"
      ],
      "metadata": {
        "colab": {
          "base_uri": "https://localhost:8080/"
        },
        "id": "3tbK3inh_NYp",
        "outputId": "90c6fe73-dc4c-416d-872d-eab9ffb963e7"
      },
      "execution_count": null,
      "outputs": [
        {
          "output_type": "execute_result",
          "data": {
            "text/plain": [
              "array([[ 20,  80, 180],\n",
              "       [ 80, 200, 360]])"
            ]
          },
          "metadata": {},
          "execution_count": 52
        }
      ]
    },
    {
      "cell_type": "markdown",
      "source": [
        "**Indexing and Slicing**"
      ],
      "metadata": {
        "id": "ebxBSt5m_VF6"
      }
    },
    {
      "cell_type": "code",
      "source": [
        "grades = np.array([[87, 96, 70], [100, 87, 90],\n",
        "                   [94, 77, 90], [100, 81, 82]])\n",
        "grades[0, 1]  # row 0, column 1"
      ],
      "metadata": {
        "colab": {
          "base_uri": "https://localhost:8080/"
        },
        "id": "3mzwq7jR_Wi2",
        "outputId": "71488e89-90ef-41fb-ed80-327fcd4f41b8"
      },
      "execution_count": null,
      "outputs": [
        {
          "output_type": "execute_result",
          "data": {
            "text/plain": [
              "np.int64(96)"
            ]
          },
          "metadata": {},
          "execution_count": 53
        }
      ]
    },
    {
      "cell_type": "code",
      "source": [
        "print('grades[1]', grades[1])\n",
        "print('grades[0:2]', grades[0:2])\n",
        "print('grades[[1, 3]]', grades[[1, 3]])\n",
        "\n",
        "print('grades[:, 0]', grades[:, 0])\n",
        "print('grades[:, 1:3]', grades[:, 1:3])\n",
        "print('grades[:, [0, 2]]', grades[:, [0, 2]])\n"
      ],
      "metadata": {
        "colab": {
          "base_uri": "https://localhost:8080/"
        },
        "id": "2m0knvLR_mFq",
        "outputId": "9476d346-5fd2-4949-c7c0-c4a51b43cfd2"
      },
      "execution_count": null,
      "outputs": [
        {
          "output_type": "stream",
          "name": "stdout",
          "text": [
            "grades[1] [100  87  90]\n",
            "grades[0:2] [[ 87  96  70]\n",
            " [100  87  90]]\n",
            "grades[[1, 3]] [[100  87  90]\n",
            " [100  81  82]]\n",
            "grades[:, 0] [ 87 100  94 100]\n",
            "grades[:, 1:3] [[96 70]\n",
            " [87 90]\n",
            " [77 90]\n",
            " [81 82]]\n",
            "grades[:, [0, 2]] [[ 87  70]\n",
            " [100  90]\n",
            " [ 94  90]\n",
            " [100  82]]\n"
          ]
        }
      ]
    },
    {
      "cell_type": "markdown",
      "source": [
        "# Shallow Copy\n",
        " shallow copy means that two variables share the same underlying data.\n",
        " So:\n",
        "*  If you change one, the other also changes\n",
        "*   It's just a new view or reference, not a new array\n",
        "\n",
        "Because both variables point to the same memory (To check, np.shares_memory(a, b)).\n",
        "\n",
        "\n",
        "| Method     | Type         | Shares memory? | Example                       |\n",
        "| ---------- | ------------ | -------------- | ----------------------------- |\n",
        "| `b = a`    | Shallow copy | ✅ Yes          | Assignment                    |\n",
        "| `a.view()` | Shallow copy | ✅ Yes          | Different object, shared data |\n",
        "| `a.copy()` | Deep copy    | ❌ No           | New array, separate data      |\n"
      ],
      "metadata": {
        "id": "CJYKDJIMAlKe"
      }
    },
    {
      "cell_type": "code",
      "source": [
        "a = np.array([1, 2, 3])\n",
        "b = a  # Shallow copy\n",
        "b[0] = 99\n",
        "\n",
        "print(\"a:\", a)  # a will also be [99, 2, 3]\n"
      ],
      "metadata": {
        "colab": {
          "base_uri": "https://localhost:8080/"
        },
        "id": "EJPcHWNGAIXi",
        "outputId": "f8390a74-a91b-468a-8b1c-d05018ed5c9f"
      },
      "execution_count": null,
      "outputs": [
        {
          "output_type": "stream",
          "name": "stdout",
          "text": [
            "a: [99  2  3]\n"
          ]
        }
      ]
    },
    {
      "cell_type": "code",
      "source": [
        "np.shares_memory(a, b)  # True"
      ],
      "metadata": {
        "colab": {
          "base_uri": "https://localhost:8080/"
        },
        "id": "I5daS_q1Ba0B",
        "outputId": "66486ad6-3a74-48ab-9083-43aa18d48c19"
      },
      "execution_count": null,
      "outputs": [
        {
          "output_type": "execute_result",
          "data": {
            "text/plain": [
              "True"
            ]
          },
          "metadata": {},
          "execution_count": 56
        }
      ]
    },
    {
      "cell_type": "code",
      "source": [
        "c = a.view()\n",
        "c[1] = 42\n",
        "\n",
        "print(\"a:\", a)  # a = [99, 42, 3]\n",
        "#Even though c = a.view() creates a \"copy\", it's still shallow — it shares data with a."
      ],
      "metadata": {
        "colab": {
          "base_uri": "https://localhost:8080/"
        },
        "id": "xJGPWGS4BgCA",
        "outputId": "f0ded2e9-aa09-4052-85c2-46020f56bc23"
      },
      "execution_count": null,
      "outputs": [
        {
          "output_type": "stream",
          "name": "stdout",
          "text": [
            "a: [99 42  3]\n"
          ]
        }
      ]
    },
    {
      "cell_type": "code",
      "source": [
        "a = np.array([1, 2, 3])\n",
        "b = a.copy()  # Deep copy\n",
        "b[0] = 99\n",
        "\n",
        "print(\"Original a:\", a)  # [1, 2, 3] — stays unchanged\n",
        "print(\"New b:\", b)       # [99, 2, 3] — independent\n"
      ],
      "metadata": {
        "colab": {
          "base_uri": "https://localhost:8080/"
        },
        "id": "kIDuQ-LXB0R2",
        "outputId": "4e8c0da0-f95e-4fa3-babd-1f28481dbd26"
      },
      "execution_count": null,
      "outputs": [
        {
          "output_type": "stream",
          "name": "stdout",
          "text": [
            "Original a: [1 2 3]\n",
            "New b: [99  2  3]\n"
          ]
        }
      ]
    },
    {
      "cell_type": "markdown",
      "source": [
        "Reshaping and Transposing"
      ],
      "metadata": {
        "id": "APHDohQoCPWV"
      }
    },
    {
      "cell_type": "code",
      "source": [
        "grades = np.array([[87, 96, 70], [100, 87, 90]])\n",
        "print('Before\\n',grades)\n",
        "grades = grades.reshape(1, 6)\n",
        "print('After\\n', grades)"
      ],
      "metadata": {
        "colab": {
          "base_uri": "https://localhost:8080/"
        },
        "id": "w_YK3vByCOTs",
        "outputId": "eb95534e-b58a-4488-c034-0b2d210113c7"
      },
      "execution_count": null,
      "outputs": [
        {
          "output_type": "stream",
          "name": "stdout",
          "text": [
            "Before\n",
            " [[ 87  96  70]\n",
            " [100  87  90]]\n",
            "After\n",
            " [[ 87  96  70 100  87  90]]\n"
          ]
        }
      ]
    },
    {
      "cell_type": "code",
      "source": [
        "grades = np.array([[87, 96, 70], [100, 87, 90]])\n",
        "print(grades.resize(1, 6))\n",
        "#.resize() returns None, because it doesn't create a new array — it just changes the original."
      ],
      "metadata": {
        "colab": {
          "base_uri": "https://localhost:8080/"
        },
        "id": "XzfgE5nHC6Nj",
        "outputId": "d723da13-98a9-462f-cfa4-658da29040e5"
      },
      "execution_count": null,
      "outputs": [
        {
          "output_type": "stream",
          "name": "stdout",
          "text": [
            "None\n"
          ]
        }
      ]
    },
    {
      "cell_type": "code",
      "source": [
        "grades = np.array([[87, 96, 70], [100, 87, 90]])\n",
        "grades.resize(1, 6)\n",
        "print(grades)"
      ],
      "metadata": {
        "colab": {
          "base_uri": "https://localhost:8080/"
        },
        "id": "ebWlG9WBDfoz",
        "outputId": "692713db-1b7c-431f-eba8-dc8fa4368b60"
      },
      "execution_count": null,
      "outputs": [
        {
          "output_type": "stream",
          "name": "stdout",
          "text": [
            "[[ 87  96  70 100  87  90]]\n"
          ]
        }
      ]
    },
    {
      "cell_type": "markdown",
      "source": [
        "| Method       | Changes original?   | Returns new array? | Returns what?      |\n",
        "| ------------ | ------------------- | ------------------ | ------------------ |\n",
        "| `.reshape()` | ❌ (unless assigned) | ✅                  | New reshaped array |\n",
        "| `.resize()`  | ✅ (in-place)        | ❌                  | `None`             |\n"
      ],
      "metadata": {
        "id": "0dSzXaD7EM_o"
      }
    },
    {
      "cell_type": "markdown",
      "source": [
        "**flatten vs. ravel**"
      ],
      "metadata": {
        "id": "fovI60eDDola"
      }
    },
    {
      "cell_type": "code",
      "source": [
        "grades = np.array([[87, 96, 70], [100, 87, 90]])\n",
        "flattened = grades.flatten()\n",
        "print(flattened)\n",
        "flattened[0] = 100\n",
        "print(flattened)\n",
        "print(\"grades:\", grades)"
      ],
      "metadata": {
        "colab": {
          "base_uri": "https://localhost:8080/"
        },
        "id": "NkkQOeImDqX3",
        "outputId": "a0a6d0b1-1e1e-4220-a914-f949d1fb7127"
      },
      "execution_count": null,
      "outputs": [
        {
          "output_type": "stream",
          "name": "stdout",
          "text": [
            "[ 87  96  70 100  87  90]\n",
            "[100  96  70 100  87  90]\n",
            "grades: [[ 87  96  70]\n",
            " [100  87  90]]\n"
          ]
        }
      ]
    },
    {
      "cell_type": "code",
      "source": [
        "grades = np.array([[87, 96, 70], [100, 87, 90]])\n",
        "raveled = grades.ravel()\n",
        "print(raveled)\n",
        "raveled[0]=100\n",
        "print(raveled)\n",
        "print(\"grades:\", grades)"
      ],
      "metadata": {
        "colab": {
          "base_uri": "https://localhost:8080/"
        },
        "id": "2i_d6IRDD6pC",
        "outputId": "cd9d217c-9436-453e-effc-f3a02c55c784"
      },
      "execution_count": null,
      "outputs": [
        {
          "output_type": "stream",
          "name": "stdout",
          "text": [
            "[ 87  96  70 100  87  90]\n",
            "[100  96  70 100  87  90]\n",
            "grades: [[100  96  70]\n",
            " [100  87  90]]\n"
          ]
        }
      ]
    },
    {
      "cell_type": "markdown",
      "source": [
        "| Method      | Returns          | Shares memory? | Affects original? |\n",
        "| ----------- | ---------------- | -------------- | ----------------- |\n",
        "| `flatten()` | New array        | ❌ No           | ❌ No              |\n",
        "| `ravel()`   | View if possible | ✅ Maybe        | ✅ Maybe           |\n"
      ],
      "metadata": {
        "id": "GPufy3R2E6cE"
      }
    },
    {
      "cell_type": "code",
      "source": [
        "#Transposing Rows and Columns\n",
        "grades = np.array([[87, 96, 70], [100, 87, 90]])\n",
        "grades.T"
      ],
      "metadata": {
        "colab": {
          "base_uri": "https://localhost:8080/"
        },
        "id": "wgaxnwlTEsPs",
        "outputId": "7d42a512-26fa-4fdb-99f4-35ad0e59c7b2"
      },
      "execution_count": null,
      "outputs": [
        {
          "output_type": "execute_result",
          "data": {
            "text/plain": [
              "array([[ 87, 100],\n",
              "       [ 96,  87],\n",
              "       [ 70,  90]])"
            ]
          },
          "metadata": {},
          "execution_count": 78
        }
      ]
    },
    {
      "cell_type": "code",
      "source": [
        "grades2 = np.array([[94, 77, 90], [100, 81, 82]])\n",
        "np.hstack((grades, grades2))"
      ],
      "metadata": {
        "colab": {
          "base_uri": "https://localhost:8080/"
        },
        "id": "5UtTrAidFJMo",
        "outputId": "611b8ba4-bbec-4684-fd08-831c4d8ab22a"
      },
      "execution_count": null,
      "outputs": [
        {
          "output_type": "execute_result",
          "data": {
            "text/plain": [
              "array([[ 87,  96,  70,  94,  77,  90],\n",
              "       [100,  87,  90, 100,  81,  82]])"
            ]
          },
          "metadata": {},
          "execution_count": 80
        }
      ]
    },
    {
      "cell_type": "code",
      "source": [
        "np.vstack((grades, grades2))"
      ],
      "metadata": {
        "id": "RMyjrf2MFQRE",
        "outputId": "2b7a138c-4a22-4fad-c083-b12272c2ea64",
        "colab": {
          "base_uri": "https://localhost:8080/"
        }
      },
      "execution_count": null,
      "outputs": [
        {
          "output_type": "execute_result",
          "data": {
            "text/plain": [
              "array([[ 87,  96,  70],\n",
              "       [100,  87,  90],\n",
              "       [ 94,  77,  90],\n",
              "       [100,  81,  82]])"
            ]
          },
          "metadata": {},
          "execution_count": 81
        }
      ]
    },
    {
      "cell_type": "markdown",
      "source": [
        "# Create an array with 5 dimensions and verify that it has 5 dimensions:\n"
      ],
      "metadata": {
        "id": "UuPldQ8bEgfV"
      }
    },
    {
      "cell_type": "code",
      "source": [
        "import numpy as np\n",
        "\n",
        "arr = np.array([1, 2, 3, 4], ndmin=5)\n",
        "print(arr)\n",
        "print('Number of dimensions:', arr.ndim)\n",
        "#Each level of square brackets [] represents one dimension of the array\n"
      ],
      "metadata": {
        "id": "E7ufLS1mcUwx",
        "colab": {
          "base_uri": "https://localhost:8080/"
        },
        "outputId": "22f759ee-b296-4527-bff6-0ed2535ad177"
      },
      "execution_count": null,
      "outputs": [
        {
          "output_type": "stream",
          "name": "stdout",
          "text": [
            "[[[[[1 2 3 4]]]]]\n",
            "Number of dimensions: 5\n"
          ]
        }
      ]
    },
    {
      "cell_type": "code",
      "source": [
        "print(\"Shape:\", arr.shape)         # Shape: (1, 1, 1, 1, 4)\n"
      ],
      "metadata": {
        "colab": {
          "base_uri": "https://localhost:8080/"
        },
        "id": "cDsH0ZlaEWdV",
        "outputId": "73fc1c90-8694-41bf-f09c-d11e37fcab88"
      },
      "execution_count": null,
      "outputs": [
        {
          "output_type": "stream",
          "name": "stdout",
          "text": [
            "Shape: (1, 1, 1, 1, 4)\n"
          ]
        }
      ]
    },
    {
      "cell_type": "markdown",
      "source": [
        "**Array Indexing**"
      ],
      "metadata": {
        "id": "vBLCGQjEEmvn"
      }
    },
    {
      "cell_type": "code",
      "source": [
        "arr = np.array([1, 2, 3, 4])\n",
        "\n",
        "print(arr[0])\n",
        "print(arr[2] + arr[3])"
      ],
      "metadata": {
        "colab": {
          "base_uri": "https://localhost:8080/"
        },
        "id": "oYzP3okCErV_",
        "outputId": "1f27da20-9109-45d1-9689-92df719995b7"
      },
      "execution_count": null,
      "outputs": [
        {
          "output_type": "stream",
          "name": "stdout",
          "text": [
            "1\n",
            "7\n"
          ]
        }
      ]
    },
    {
      "cell_type": "code",
      "source": [
        "arr = np.array([[1, 2, 3, 4, 5],\n",
        "                [6, 7, 8, 9, 10]])\n",
        "\n",
        "print('2nd element on 1st row:', arr[0, 1])\n"
      ],
      "metadata": {
        "colab": {
          "base_uri": "https://localhost:8080/"
        },
        "id": "FfBw8vlQFETa",
        "outputId": "779536da-3bfa-40c4-f814-07c8d0a578eb"
      },
      "execution_count": null,
      "outputs": [
        {
          "output_type": "stream",
          "name": "stdout",
          "text": [
            "2nd element on 1st row: 2\n"
          ]
        }
      ]
    },
    {
      "cell_type": "code",
      "source": [
        "arr = np.array([[[1, 2, 3],\n",
        "                 [4, 5, 6]],\n",
        "\n",
        "                [[7, 8, 9],\n",
        "                 [10, 11, 12]]])\n",
        "\n",
        "print(arr[0, 1, 2])\n",
        "# arr[block_index, row_index, column_index]"
      ],
      "metadata": {
        "colab": {
          "base_uri": "https://localhost:8080/"
        },
        "id": "nppI2ZEQFJ_Z",
        "outputId": "5d2629e4-6514-4647-d394-858e20aafa89"
      },
      "execution_count": null,
      "outputs": [
        {
          "output_type": "stream",
          "name": "stdout",
          "text": [
            "6\n"
          ]
        }
      ]
    },
    {
      "cell_type": "markdown",
      "source": [
        "Bracket Decoding (3D):\n",
        "*   The outermost brackets enclose the first axis (blocks).\n",
        "*   The middle brackets group rows in each block.\n",
        "*   The innermost brackets are individual 1D arrays (rows).\n",
        "\n",
        "\n",
        "\n",
        "\n",
        "\n",
        "\n",
        "\n",
        "\n"
      ],
      "metadata": {
        "id": "vbl3gGPIFYpc"
      }
    },
    {
      "cell_type": "code",
      "source": [
        "arr[0] #Selects the first block"
      ],
      "metadata": {
        "colab": {
          "base_uri": "https://localhost:8080/"
        },
        "id": "2NBkAQqDF1e4",
        "outputId": "109476ef-fdca-4116-de43-a48e7db83bec"
      },
      "execution_count": null,
      "outputs": [
        {
          "output_type": "execute_result",
          "data": {
            "text/plain": [
              "array([[1, 2, 3],\n",
              "       [4, 5, 6]])"
            ]
          },
          "metadata": {},
          "execution_count": 7
        }
      ]
    },
    {
      "cell_type": "code",
      "source": [
        "arr[0,1] #From that block, selects the second row"
      ],
      "metadata": {
        "colab": {
          "base_uri": "https://localhost:8080/"
        },
        "id": "zks6TL_AF9R7",
        "outputId": "eea147d4-1532-4e93-eaf5-511162110d10"
      },
      "execution_count": null,
      "outputs": [
        {
          "output_type": "execute_result",
          "data": {
            "text/plain": [
              "array([4, 5, 6])"
            ]
          },
          "metadata": {},
          "execution_count": 8
        }
      ]
    },
    {
      "cell_type": "code",
      "source": [
        "arr[0,1,2] # From that row, selects the third element"
      ],
      "metadata": {
        "colab": {
          "base_uri": "https://localhost:8080/"
        },
        "id": "tYsnWYvHGbTO",
        "outputId": "88186544-0308-4943-9784-884519e997a9"
      },
      "execution_count": null,
      "outputs": [
        {
          "output_type": "execute_result",
          "data": {
            "text/plain": [
              "np.int64(6)"
            ]
          },
          "metadata": {},
          "execution_count": 10
        }
      ]
    },
    {
      "cell_type": "markdown",
      "source": [
        "Use negative indexing to access an array from the end"
      ],
      "metadata": {
        "id": "bEha0KS0F5mU"
      }
    },
    {
      "cell_type": "code",
      "source": [
        "import numpy as np\n",
        "\n",
        "arr = np.array([[1,2,3,4,5], [6,7,8,9,10]])\n",
        "print('Last element from 2nd dim: ', arr[1, -1])\n"
      ],
      "metadata": {
        "colab": {
          "base_uri": "https://localhost:8080/"
        },
        "id": "7X1pdNc4Gqqq",
        "outputId": "411620ec-b83f-4221-ce15-444844725b56"
      },
      "execution_count": 2,
      "outputs": [
        {
          "output_type": "stream",
          "name": "stdout",
          "text": [
            "Last element from 2nd dim:  10\n"
          ]
        }
      ]
    },
    {
      "cell_type": "markdown",
      "source": [
        "Slicing arrays\n",
        "\n",
        "[start:end:step]\n",
        "\n",
        "Note: The result includes the start index, but excludes the end index."
      ],
      "metadata": {
        "id": "AmkIBovtG6CC"
      }
    },
    {
      "cell_type": "code",
      "source": [
        "arr = np.array([1, 2, 3, 4, 5, 6, 7])\n",
        "print('arr[1:5]',arr[1:5])\n",
        "print('arr[4:]',arr[4:])\n",
        "print('arr[:4]',arr[:4])\n",
        "print('arr[-3:-1]',arr[-3:-1])\n",
        "print('arr[1:5:2]',arr[1:5:2])\n"
      ],
      "metadata": {
        "colab": {
          "base_uri": "https://localhost:8080/"
        },
        "id": "pXN4VJE_G438",
        "outputId": "e414c624-38ea-436f-dcac-3c361a58f10d"
      },
      "execution_count": null,
      "outputs": [
        {
          "output_type": "stream",
          "name": "stdout",
          "text": [
            "arr[1:5] [2 3 4 5]\n",
            "arr[4:] [5 6 7]\n",
            "arr[:4] [1 2 3 4]\n",
            "arr[-3:-1] [5 6]\n",
            "arr[1:5:2] [2 4]\n"
          ]
        }
      ]
    },
    {
      "cell_type": "markdown",
      "source": [
        "2D Slicing"
      ],
      "metadata": {
        "id": "RmBGGgVYH1wi"
      }
    },
    {
      "cell_type": "code",
      "source": [
        "arr = np.array([[1, 2, 3, 4, 5], [6, 7, 8, 9, 10]])\n",
        "\n",
        "print(arr[1, 1:4])    # Output: [7 8 9]\n",
        "#arr[1] accesses the second row.\n",
        "#arr[1, 1:4] gives you the middle three elements of the second row.\n",
        "\n",
        "print(arr[0:2, 2])    # Output: [3 8]\n",
        "#arr[0:2, 2] gives you the third element from each row (as a column vector)."
      ],
      "metadata": {
        "colab": {
          "base_uri": "https://localhost:8080/"
        },
        "id": "XUoalqjVH9i2",
        "outputId": "3d59cdb7-b3db-4ce7-fc52-41c19e77bace"
      },
      "execution_count": null,
      "outputs": [
        {
          "output_type": "stream",
          "name": "stdout",
          "text": [
            "[7 8 9]\n",
            "[3 8]\n"
          ]
        }
      ]
    },
    {
      "cell_type": "markdown",
      "source": [
        "Data Types in NumPy:\n",
        "\n",
        "*  i - integer\n",
        "*  b - boolean\n",
        "*  u - unsigned integer\n",
        "*  f - float\n",
        "*  c - complex float\n",
        "*  m - timedelta\n",
        "*  M - datetime\n",
        "*  O - object\n",
        "*  S - string\n",
        "*  U - unicode string\n",
        "*  V - fixed chunk of memory for other type ( void )\n",
        "\n",
        "\n",
        "\n",
        "\n",
        "\n",
        "\n",
        "\n",
        "\n",
        "\n"
      ],
      "metadata": {
        "id": "5e_xh0uLIs5p"
      }
    },
    {
      "cell_type": "code",
      "source": [
        "arr = np.array([1, 2, 3, 4])\n",
        "print(arr.dtype)"
      ],
      "metadata": {
        "colab": {
          "base_uri": "https://localhost:8080/"
        },
        "id": "sVsJAlzoJbOE",
        "outputId": "71643616-bcb6-4b5b-c5c5-112df818d16e"
      },
      "execution_count": null,
      "outputs": [
        {
          "output_type": "stream",
          "name": "stdout",
          "text": [
            "int64\n"
          ]
        }
      ]
    },
    {
      "cell_type": "code",
      "source": [
        "arr = np.array(['apple', 'banana', 'cherry'])\n",
        "print(arr.dtype)\n"
      ],
      "metadata": {
        "colab": {
          "base_uri": "https://localhost:8080/"
        },
        "id": "gocTCjXAJ1OA",
        "outputId": "8148fa45-f84c-43a2-e51d-92d57f40616d"
      },
      "execution_count": null,
      "outputs": [
        {
          "output_type": "stream",
          "name": "stdout",
          "text": [
            "<U6\n"
          ]
        }
      ]
    },
    {
      "cell_type": "markdown",
      "source": [
        "< → little-endian byte order (not too relevant for strings),\n",
        "\n",
        "U → Unicode string,\n",
        "\n",
        "6 → maximum length of each string in the array is 6 characters."
      ],
      "metadata": {
        "id": "aDwzZQp5Jxwh"
      }
    },
    {
      "cell_type": "markdown",
      "source": [
        "**Creating Arrays With a Defined Data Type**"
      ],
      "metadata": {
        "id": "yfnlsceqKBIr"
      }
    },
    {
      "cell_type": "code",
      "source": [
        "arr = np.array([1, 2, 3, 4], dtype='S')\n",
        "print(arr)\n",
        "print(arr.dtype)\n",
        "#1, 2, 3, and 4 (integers) are converted to byte strings: b'1', b'2', b'3', b'4'.\n",
        "#|S1 → byte string of length 1 per element (because '1', '2', etc., are all one character long)."
      ],
      "metadata": {
        "colab": {
          "base_uri": "https://localhost:8080/"
        },
        "id": "LA1O8A__KCAE",
        "outputId": "32ca9453-d144-4d70-c1f6-bf8835a4332d"
      },
      "execution_count": null,
      "outputs": [
        {
          "output_type": "stream",
          "name": "stdout",
          "text": [
            "[b'1' b'2' b'3' b'4']\n",
            "|S1\n"
          ]
        }
      ]
    },
    {
      "cell_type": "code",
      "source": [
        "arr = np.array([1, 2, 3, 9], dtype='S')\n",
        "print(arr)\n",
        "print(arr.dtype)"
      ],
      "metadata": {
        "colab": {
          "base_uri": "https://localhost:8080/"
        },
        "id": "T-vhT1Q_KbYL",
        "outputId": "26ccfb27-9c15-4525-bd2f-6e59469e148e"
      },
      "execution_count": 3,
      "outputs": [
        {
          "output_type": "stream",
          "name": "stdout",
          "text": [
            "[b'1' b'2' b'3' b'9']\n",
            "|S1\n"
          ]
        }
      ]
    },
    {
      "cell_type": "code",
      "source": [
        "arr = np.array([1, 2, 3, 14], dtype='S')\n",
        "print(arr)\n",
        "print(arr.dtype)"
      ],
      "metadata": {
        "colab": {
          "base_uri": "https://localhost:8080/"
        },
        "id": "2qK0-eigKn70",
        "outputId": "9e9147e4-ea89-4177-b4df-083c1793612a"
      },
      "execution_count": 4,
      "outputs": [
        {
          "output_type": "stream",
          "name": "stdout",
          "text": [
            "[b'1' b'2' b'3' b'14']\n",
            "|S2\n"
          ]
        }
      ]
    },
    {
      "cell_type": "markdown",
      "source": [
        "Convert 1D array with 8 elements to 3D array with 2x2 elements"
      ],
      "metadata": {
        "id": "Vrqt-nHLRrKU"
      }
    },
    {
      "cell_type": "code",
      "source": [
        "# 1D array with 8 elements\n",
        "arr = np.array([1, 2, 3, 4, 5, 6, 7, 8])\n",
        "\n",
        "# Reshape to 3D array with 2x2 elements\n",
        "arr = arr.reshape((2, 2, 2))\n",
        "\n",
        "print(arr)"
      ],
      "metadata": {
        "colab": {
          "base_uri": "https://localhost:8080/"
        },
        "id": "G10BcKOXKsWI",
        "outputId": "81992985-7760-45ef-fdb0-3511082c9d4c"
      },
      "execution_count": 5,
      "outputs": [
        {
          "output_type": "stream",
          "name": "stdout",
          "text": [
            "[[[1 2]\n",
            "  [3 4]]\n",
            "\n",
            " [[5 6]\n",
            "  [7 8]]]\n"
          ]
        }
      ]
    },
    {
      "cell_type": "markdown",
      "source": [
        "**Take a 2D NumPy array and flattens it into a 1D array**\n",
        "\n",
        "Flattening array means converting a multidimensional array into a 1D array.\n",
        "\n",
        "We can use reshape(-1) to do this.\n"
      ],
      "metadata": {
        "id": "I4RRUXMJSEe5"
      }
    },
    {
      "cell_type": "code",
      "source": [
        "arr = np.array([[1, 2, 3], [4, 5, 6]])\n",
        "newarr = arr.reshape(-1)  # -1 means \"figure out the size automatically\"\n",
        "print(newarr)"
      ],
      "metadata": {
        "colab": {
          "base_uri": "https://localhost:8080/"
        },
        "id": "t9rGuJXbSDwH",
        "outputId": "97a08546-bd90-4c75-cc30-9c2cfcdb4c0f"
      },
      "execution_count": 6,
      "outputs": [
        {
          "output_type": "stream",
          "name": "stdout",
          "text": [
            "[1 2 3 4 5 6]\n"
          ]
        }
      ]
    },
    {
      "cell_type": "markdown",
      "source": [
        "*There are a lot of functions for changing the shapes of arrays in numpy flatten, ravel and also for rearranging the elements rot90, flip, fliplr, flipud etc.*"
      ],
      "metadata": {
        "id": "ezjUmNWtSxco"
      }
    },
    {
      "cell_type": "code",
      "source": [
        "arr = np.array([[1, 2], [3, 4]])\n",
        "flat = arr.flatten()\n",
        "flat[0] = 99  # Change won't affect original\n",
        "print(\"flatten:\", flat)\n",
        "print(\"original:\", arr)\n",
        "\n",
        "#Returns a new array (copy), so changes don’t affect the original."
      ],
      "metadata": {
        "colab": {
          "base_uri": "https://localhost:8080/"
        },
        "id": "LWcaYt-mSwg6",
        "outputId": "55ce0bc7-8888-472d-8fb0-dee9257bc4b8"
      },
      "execution_count": 8,
      "outputs": [
        {
          "output_type": "stream",
          "name": "stdout",
          "text": [
            "flatten: [99  2  3  4]\n",
            "original: [[1 2]\n",
            " [3 4]]\n"
          ]
        }
      ]
    },
    {
      "cell_type": "code",
      "source": [
        "r = arr.ravel()\n",
        "r[0] = 88  # Change will affect original\n",
        "print(\"ravel:\", r)\n",
        "print(\"original:\", arr)"
      ],
      "metadata": {
        "colab": {
          "base_uri": "https://localhost:8080/"
        },
        "id": "J2Efu24gTHTI",
        "outputId": "f4fc23dd-e251-47f1-e7a0-281cd883eaed"
      },
      "execution_count": 9,
      "outputs": [
        {
          "output_type": "stream",
          "name": "stdout",
          "text": [
            "ravel: [88  2  3  4]\n",
            "original: [[88  2]\n",
            " [ 3  4]]\n"
          ]
        }
      ]
    },
    {
      "cell_type": "code",
      "source": [
        "arr = np.array([[1, 2], [3, 4]])\n",
        "print(\"rot90:\\n\", np.rot90(arr))\n",
        "\n",
        "#Rotates the array 90° counterclockwise."
      ],
      "metadata": {
        "colab": {
          "base_uri": "https://localhost:8080/"
        },
        "id": "dQTlFBLhTfC0",
        "outputId": "eb04eef2-6d97-4470-f71a-f15aa02a2646"
      },
      "execution_count": 10,
      "outputs": [
        {
          "output_type": "stream",
          "name": "stdout",
          "text": [
            "rot90:\n",
            " [[2 4]\n",
            " [1 3]]\n"
          ]
        }
      ]
    },
    {
      "cell_type": "code",
      "source": [
        "arr = np.array([[1, 2], [3, 4]])\n",
        "print(\"flip axis 0:\\n\", np.flip(arr, axis=0))  # flip vertically\n",
        "print(\"flip axis 1:\\n\", np.flip(arr, axis=1))  # flip horizontally\n",
        "\n",
        "#Reverses the order of elements along a given axis."
      ],
      "metadata": {
        "colab": {
          "base_uri": "https://localhost:8080/"
        },
        "id": "YcAWoI3jTqQg",
        "outputId": "8d7512f8-127b-4a75-ddc3-909a3f4c0ec9"
      },
      "execution_count": 11,
      "outputs": [
        {
          "output_type": "stream",
          "name": "stdout",
          "text": [
            "flip axis 0:\n",
            " [[3 4]\n",
            " [1 2]]\n",
            "flip axis 1:\n",
            " [[2 1]\n",
            " [4 3]]\n"
          ]
        }
      ]
    },
    {
      "cell_type": "code",
      "source": [
        "print(\"fliplr:\\n\", np.fliplr(arr))\n",
        "#Flips array left-to-right (columns reversed). Works only on 2D arrays.\n",
        "\n",
        "print(\"flipud:\\n\", np.flipud(arr))\n",
        "#Flips array upside-down (rows reversed)."
      ],
      "metadata": {
        "colab": {
          "base_uri": "https://localhost:8080/"
        },
        "id": "IwyVvuJHTyOd",
        "outputId": "43f0ad45-721c-473f-a89e-91ba11d8e454"
      },
      "execution_count": 13,
      "outputs": [
        {
          "output_type": "stream",
          "name": "stdout",
          "text": [
            "fliplr:\n",
            " [[2 1]\n",
            " [4 3]]\n",
            "flipud:\n",
            " [[3 4]\n",
            " [1 2]]\n"
          ]
        }
      ]
    },
    {
      "cell_type": "markdown",
      "source": [
        "**Joining NumPy Arrays**"
      ],
      "metadata": {
        "id": "9qZk4QPQUTB5"
      }
    },
    {
      "cell_type": "markdown",
      "source": [
        "numpy.concatenate((array1, array2, ...), axis=0)\n",
        "1.   axis=0 → join rows (vertical stacking) for 2D arrays\n",
        "2.   axis=1 → join columns (horizontal stacking) for 2D arrays\n",
        "\n",
        "Arrays must have the same shape except in the axis along which they’re joined."
      ],
      "metadata": {
        "id": "40n34gHEUaTf"
      }
    },
    {
      "cell_type": "code",
      "source": [
        "a = np.array([1, 2, 3])\n",
        "b = np.array([4, 5, 6])\n",
        "\n",
        "result = np.concatenate((a, b))\n",
        "print(result)\n"
      ],
      "metadata": {
        "colab": {
          "base_uri": "https://localhost:8080/"
        },
        "id": "Nwja9bPuUUpJ",
        "outputId": "ac305176-45e9-45d6-f8f0-d681acd4445d"
      },
      "execution_count": 14,
      "outputs": [
        {
          "output_type": "stream",
          "name": "stdout",
          "text": [
            "[1 2 3 4 5 6]\n"
          ]
        }
      ]
    },
    {
      "cell_type": "code",
      "source": [
        "a = np.array([[1, 2], [3, 4]])\n",
        "b = np.array([[5, 6]])\n",
        "\n",
        "result = np.concatenate((a, b), axis=0)\n",
        "print(result)\n"
      ],
      "metadata": {
        "colab": {
          "base_uri": "https://localhost:8080/"
        },
        "id": "Btx7UH-LU0Yn",
        "outputId": "07976482-8d15-40f7-9e97-9c093b79f3f2"
      },
      "execution_count": 15,
      "outputs": [
        {
          "output_type": "stream",
          "name": "stdout",
          "text": [
            "[[1 2]\n",
            " [3 4]\n",
            " [5 6]]\n"
          ]
        }
      ]
    },
    {
      "cell_type": "code",
      "source": [
        "a = np.array([[1, 2], [3, 4]])\n",
        "b = np.array([[5], [6]])\n",
        "\n",
        "result = np.concatenate((a, b), axis=1)\n",
        "print(result)"
      ],
      "metadata": {
        "colab": {
          "base_uri": "https://localhost:8080/"
        },
        "id": "hSMIgNexU3AL",
        "outputId": "6cc4ebcf-8c9d-402a-d34a-947b5e3f285e"
      },
      "execution_count": 16,
      "outputs": [
        {
          "output_type": "stream",
          "name": "stdout",
          "text": [
            "[[1 2 5]\n",
            " [3 4 6]]\n"
          ]
        }
      ]
    },
    {
      "cell_type": "markdown",
      "source": [
        "**Splitting NumPy Arrays**"
      ],
      "metadata": {
        "id": "aE5vJQEJVGsE"
      }
    },
    {
      "cell_type": "markdown",
      "source": [
        "numpy.split(array, sections, axis=0)\n",
        "\n",
        "\n",
        "\n",
        "1.   array → the array to split\n",
        "1.   sections → either an integer (equal splits) or a list of indices (split positions)\n",
        "2.   axis → axis along which to split (default 0)"
      ],
      "metadata": {
        "id": "UYoCGWCPVQrA"
      }
    },
    {
      "cell_type": "code",
      "source": [
        "arr = np.array([1, 2, 3, 4, 5, 6])\n",
        "\n",
        "# Split into 3 equal parts\n",
        "result = np.split(arr, 3)\n",
        "print(result)"
      ],
      "metadata": {
        "colab": {
          "base_uri": "https://localhost:8080/"
        },
        "id": "JUhrDrhaVFma",
        "outputId": "123fcbb1-0379-48ea-8295-d57a25fc1ca9"
      },
      "execution_count": 18,
      "outputs": [
        {
          "output_type": "stream",
          "name": "stdout",
          "text": [
            "[array([1, 2]), array([3, 4]), array([5, 6])]\n"
          ]
        }
      ]
    },
    {
      "cell_type": "code",
      "source": [
        "arr = np.array([1, 2, 3, 4, 5, 6])\n",
        "\n",
        "# Split at positions 2 and 5\n",
        "result = np.split(arr, [2, 5])\n",
        "print(result)"
      ],
      "metadata": {
        "colab": {
          "base_uri": "https://localhost:8080/"
        },
        "id": "vwm-op4yV3Pq",
        "outputId": "4080731b-dc31-400f-8e78-9c6f45318f32"
      },
      "execution_count": 19,
      "outputs": [
        {
          "output_type": "stream",
          "name": "stdout",
          "text": [
            "[array([1, 2]), array([3, 4, 5]), array([6])]\n"
          ]
        }
      ]
    },
    {
      "cell_type": "code",
      "source": [
        "arr = np.array([[1, 2], [3, 4], [5, 6]])\n",
        "\n",
        "# Split into 3 equal row parts\n",
        "result = np.split(arr, 3, axis=0)\n",
        "print(result)"
      ],
      "metadata": {
        "colab": {
          "base_uri": "https://localhost:8080/"
        },
        "id": "B74p_T5wWEWg",
        "outputId": "f5ed78dd-c66a-46d5-914a-c6a0d47e26c3"
      },
      "execution_count": 20,
      "outputs": [
        {
          "output_type": "stream",
          "name": "stdout",
          "text": [
            "[array([[1, 2]]), array([[3, 4]]), array([[5, 6]])]\n"
          ]
        }
      ]
    },
    {
      "cell_type": "code",
      "source": [
        "arr = np.array([[1, 2, 3], [4, 5, 6]])\n",
        "\n",
        "# Split into 3 equal column parts\n",
        "result = np.split(arr, 3, axis=1)\n",
        "print(result)"
      ],
      "metadata": {
        "colab": {
          "base_uri": "https://localhost:8080/"
        },
        "id": "U4RVwB04WOto",
        "outputId": "0bb8a4fa-40d8-404e-d6cd-3f7c1ac44782"
      },
      "execution_count": 21,
      "outputs": [
        {
          "output_type": "stream",
          "name": "stdout",
          "text": [
            "[array([[1],\n",
            "       [4]]), array([[2],\n",
            "       [5]]), array([[3],\n",
            "       [6]])]\n"
          ]
        }
      ]
    },
    {
      "cell_type": "markdown",
      "source": [
        "**NumPy Searching Arrays**"
      ],
      "metadata": {
        "id": "Gt9d-xWyWjEB"
      }
    },
    {
      "cell_type": "code",
      "source": [
        "arr = np.array([1, 2, 3, 4, 4, 5])\n",
        "\n",
        "# Find indexes where value == 4\n",
        "indexes = np.where(arr == 4)\n",
        "print(indexes)       # tuple of arrays\n",
        "print(indexes[0])    # actual index positions\n"
      ],
      "metadata": {
        "colab": {
          "base_uri": "https://localhost:8080/"
        },
        "id": "gIQdSgViWmNT",
        "outputId": "f6e2ad5a-3c57-4c9b-8dde-11796b0ddbc2"
      },
      "execution_count": 22,
      "outputs": [
        {
          "output_type": "stream",
          "name": "stdout",
          "text": [
            "(array([3, 4]),)\n",
            "[3 4]\n"
          ]
        }
      ]
    },
    {
      "cell_type": "code",
      "source": [
        "arr = np.array([[1, 4, 3],\n",
        "                [4, 5, 6],\n",
        "                [7, 8, 4]])\n",
        "\n",
        "indexes = np.where(arr == 4)\n",
        "print(indexes)  # (row_indices, col_indices)\n",
        "\n",
        "# Combine into coordinate pairs\n",
        "coords = list(zip(indexes[0], indexes[1]))\n",
        "print(coords)"
      ],
      "metadata": {
        "colab": {
          "base_uri": "https://localhost:8080/"
        },
        "id": "a2CmJFl9W1l7",
        "outputId": "96ee0bae-9824-4315-a90c-adef7d51824c"
      },
      "execution_count": 23,
      "outputs": [
        {
          "output_type": "stream",
          "name": "stdout",
          "text": [
            "(array([0, 1, 2]), array([1, 0, 2]))\n",
            "[(np.int64(0), np.int64(1)), (np.int64(1), np.int64(0)), (np.int64(2), np.int64(2))]\n"
          ]
        }
      ]
    },
    {
      "cell_type": "markdown",
      "source": [
        "**Sorting in NumPy**\n",
        "\n",
        "Note: NumPy handles a bit differently than Python’s built-in sort"
      ],
      "metadata": {
        "id": "IngHrFf_XGR7"
      }
    },
    {
      "cell_type": "code",
      "source": [
        "arr = np.array([3, 1, 4, 1, 5, 9])\n",
        "sorted_arr = np.sort(arr)\n",
        "\n",
        "print(\"Original:\", arr)\n",
        "print(\"Sorted:\", sorted_arr)\n"
      ],
      "metadata": {
        "colab": {
          "base_uri": "https://localhost:8080/"
        },
        "id": "oz7kNhuUXH9I",
        "outputId": "905f89fa-67c7-4b92-e14c-6aadad285e68"
      },
      "execution_count": 24,
      "outputs": [
        {
          "output_type": "stream",
          "name": "stdout",
          "text": [
            "Original: [3 1 4 1 5 9]\n",
            "Sorted: [1 1 3 4 5 9]\n"
          ]
        }
      ]
    },
    {
      "cell_type": "code",
      "source": [
        "arr = np.array([[3, 1, 2],\n",
        "                [9, 5, 4]])\n",
        "\n",
        "# Sort each row\n",
        "print(np.sort(arr, axis=1))\n",
        "\n",
        "# Sort each column\n",
        "print(np.sort(arr, axis=0))"
      ],
      "metadata": {
        "colab": {
          "base_uri": "https://localhost:8080/"
        },
        "id": "QAUrTydvXZKU",
        "outputId": "cc15d53e-5076-4c69-8144-baab7cff1ed7"
      },
      "execution_count": 25,
      "outputs": [
        {
          "output_type": "stream",
          "name": "stdout",
          "text": [
            "[[1 2 3]\n",
            " [4 5 9]]\n",
            "[[3 1 2]\n",
            " [9 5 4]]\n"
          ]
        }
      ]
    },
    {
      "cell_type": "code",
      "source": [
        "arr = np.array([40, 10, 20])\n",
        "indices = np.argsort(arr)  #Useful if you need sorted order and the original positions.\n",
        "print(indices)         # [1 2 0]\n",
        "print(arr[indices])    # [10 20 40]"
      ],
      "metadata": {
        "colab": {
          "base_uri": "https://localhost:8080/"
        },
        "id": "IGItLs_vXhwR",
        "outputId": "33026ad1-fa31-4706-a6f3-29335c3aedd4"
      },
      "execution_count": 26,
      "outputs": [
        {
          "output_type": "stream",
          "name": "stdout",
          "text": [
            "[1 2 0]\n",
            "[10 20 40]\n"
          ]
        }
      ]
    },
    {
      "cell_type": "code",
      "source": [
        "#In-place sort\n",
        "arr = np.array([3, 1, 4])\n",
        "arr.sort()\n",
        "print(arr)  # [1 3 4]"
      ],
      "metadata": {
        "colab": {
          "base_uri": "https://localhost:8080/"
        },
        "id": "OUqUz3EDXu2d",
        "outputId": "538209b9-d29a-4a2b-cff6-da4cfbc9c543"
      },
      "execution_count": 28,
      "outputs": [
        {
          "output_type": "stream",
          "name": "stdout",
          "text": [
            "[1 3 4]\n"
          ]
        }
      ]
    },
    {
      "cell_type": "code",
      "source": [
        "data = np.array([(3, 'pear'), (1, 'apple'), (2, 'banana')],\n",
        "                dtype=[('id', int), ('fruit', 'U10')])\n",
        "\n",
        "#dtype=[('id', int), ('fruit', 'U10')]  i.e., id → integer &  fruit → string (max length 10)\n",
        "\n",
        "print(np.sort(data, order='id'))  #sorted_by_id\n",
        "print(np.sort(data, order='fruit'))  #sorted_by_fruit;  Here, sorting by fruit gives alphabetical order."
      ],
      "metadata": {
        "colab": {
          "base_uri": "https://localhost:8080/"
        },
        "id": "5MWNdemjX3Zu",
        "outputId": "42de4aeb-9c5c-4fa3-f9c0-830eaafe0e0c"
      },
      "execution_count": 29,
      "outputs": [
        {
          "output_type": "stream",
          "name": "stdout",
          "text": [
            "[(1, 'apple') (2, 'banana') (3, 'pear')]\n",
            "[(1, 'apple') (2, 'banana') (3, 'pear')]\n"
          ]
        }
      ]
    },
    {
      "cell_type": "code",
      "source": [
        "#Sort by multiple fields\n",
        "sorted_multi = np.sort(data, order=['fruit', 'id'])\n",
        "print(sorted_multi)\n",
        "#This first sorts by fruit alphabetically, and if there’s a tie, it sorts by id"
      ],
      "metadata": {
        "colab": {
          "base_uri": "https://localhost:8080/"
        },
        "id": "EgUaUVPbZU2R",
        "outputId": "32ff284c-9b9d-46f9-ded4-056f35f20523"
      },
      "execution_count": 30,
      "outputs": [
        {
          "output_type": "stream",
          "name": "stdout",
          "text": [
            "[(1, 'apple') (2, 'banana') (3, 'pear')]\n"
          ]
        }
      ]
    },
    {
      "cell_type": "markdown",
      "source": [
        "**Filtering Arrays**"
      ],
      "metadata": {
        "id": "J1TP9JcCZxgF"
      }
    },
    {
      "cell_type": "code",
      "source": [
        "arr = np.array([41, 42, 43, 44])\n",
        "\n",
        "# Boolean mask\n",
        "x = [True, False, True, False]\n",
        "\n",
        "# Filter: take elements where mask is True\n",
        "newarr = arr[x]\n",
        "print(newarr)\n"
      ],
      "metadata": {
        "colab": {
          "base_uri": "https://localhost:8080/"
        },
        "id": "hlyOZMq2Zz1w",
        "outputId": "69272012-46b5-4b0b-c3e4-817d10e23072"
      },
      "execution_count": 31,
      "outputs": [
        {
          "output_type": "stream",
          "name": "stdout",
          "text": [
            "[41 43]\n"
          ]
        }
      ]
    },
    {
      "cell_type": "code",
      "source": [
        "arr = np.array([1, 2, 3, 4, 5, 6])\n",
        "\n",
        "mask = arr > 4           # Boolean mask\n",
        "result = arr[mask]       # Apply mask to array\n",
        "print(mask)              # [False False False False  True  True]\n",
        "print(result)            # [5 6]\n"
      ],
      "metadata": {
        "colab": {
          "base_uri": "https://localhost:8080/"
        },
        "id": "wWIdBNC3aQ_3",
        "outputId": "f49db79d-c0ad-48e8-8a14-d3cc950a2059"
      },
      "execution_count": 32,
      "outputs": [
        {
          "output_type": "stream",
          "name": "stdout",
          "text": [
            "[False False False False  True  True]\n",
            "[5 6]\n"
          ]
        }
      ]
    },
    {
      "cell_type": "code",
      "source": [
        "# Keep values > 2 AND even\n",
        "result = arr[(arr > 2) & (arr % 2 == 0)]\n",
        "print(result)  # [4 6]"
      ],
      "metadata": {
        "colab": {
          "base_uri": "https://localhost:8080/"
        },
        "id": "o-BzGPfEaZkS",
        "outputId": "a11360f6-2ca4-4fce-c330-4b27b14b2a5b"
      },
      "execution_count": 33,
      "outputs": [
        {
          "output_type": "stream",
          "name": "stdout",
          "text": [
            "[4 6]\n"
          ]
        }
      ]
    },
    {
      "cell_type": "code",
      "source": [
        "arr2d = np.array([[1, 5, 3],\n",
        "                  [4, 2, 6]])\n",
        "\n",
        "# Elements greater than 3\n",
        "result = arr2d[arr2d > 3]\n",
        "print(result)  # [5 4 6]"
      ],
      "metadata": {
        "colab": {
          "base_uri": "https://localhost:8080/"
        },
        "id": "WSaL5sx-afb0",
        "outputId": "52777d30-d428-4303-a405-e5c6c02c1809"
      },
      "execution_count": 36,
      "outputs": [
        {
          "output_type": "stream",
          "name": "stdout",
          "text": [
            "[5 4 6]\n"
          ]
        }
      ]
    },
    {
      "cell_type": "markdown",
      "source": [
        "Using np.where()"
      ],
      "metadata": {
        "id": "JLaRR-RMapQX"
      }
    },
    {
      "cell_type": "code",
      "source": [
        "indexes = np.where(arr > 4)\n",
        "print(indexes)   # (array([4, 5]),)\n",
        "print(arr[indexes])  # [5 6]"
      ],
      "metadata": {
        "colab": {
          "base_uri": "https://localhost:8080/"
        },
        "id": "RjDv_Lnfap1T",
        "outputId": "121224f9-7140-4225-c6f1-b874d4f90364"
      },
      "execution_count": 35,
      "outputs": [
        {
          "output_type": "stream",
          "name": "stdout",
          "text": [
            "(array([4, 5]),)\n",
            "[5 6]\n"
          ]
        }
      ]
    },
    {
      "cell_type": "code",
      "source": [
        "arr = np.array([1, 2, 3, 4, 5, 6, 7])\n",
        "\n",
        "# Create boolean mask: True where arr elements are divisible by 2\n",
        "filter_arr = arr % 2 == 0\n",
        "\n",
        "# Apply mask to get only even numbers\n",
        "newarr = arr[filter_arr]\n",
        "\n",
        "print(filter_arr)  # Boolean mask\n",
        "print(newarr)      # Filtered array\n"
      ],
      "metadata": {
        "colab": {
          "base_uri": "https://localhost:8080/"
        },
        "id": "n-CWJpf5a5hQ",
        "outputId": "54395e91-d0b8-4fb0-ac47-fb4d18c5cbd1"
      },
      "execution_count": 37,
      "outputs": [
        {
          "output_type": "stream",
          "name": "stdout",
          "text": [
            "[False  True False  True False  True False]\n",
            "[2 4 6]\n"
          ]
        }
      ]
    },
    {
      "cell_type": "markdown",
      "source": [
        "**Iterating over NumPy arrays**"
      ],
      "metadata": {
        "id": "1CggnZyObJ4D"
      }
    },
    {
      "cell_type": "code",
      "source": [
        "arr = np.array([1, 2, 3])\n",
        "\n",
        "for x in arr:\n",
        "    print(x)\n"
      ],
      "metadata": {
        "colab": {
          "base_uri": "https://localhost:8080/"
        },
        "id": "8Cc-eFepbMGT",
        "outputId": "0ecd8cf5-7a93-430a-a661-513fa707d26e"
      },
      "execution_count": 38,
      "outputs": [
        {
          "output_type": "stream",
          "name": "stdout",
          "text": [
            "1\n",
            "2\n",
            "3\n"
          ]
        }
      ]
    },
    {
      "cell_type": "code",
      "source": [
        "arr = np.array([[1, 2, 3], [4, 5, 6]])\n",
        "\n",
        "for row in arr:\n",
        "    print(row)  # Each row is a 1D array"
      ],
      "metadata": {
        "colab": {
          "base_uri": "https://localhost:8080/"
        },
        "id": "fC03gFylbPyz",
        "outputId": "0709b499-d2be-4bd4-cdf1-2695df5ebc03"
      },
      "execution_count": 39,
      "outputs": [
        {
          "output_type": "stream",
          "name": "stdout",
          "text": [
            "[1 2 3]\n",
            "[4 5 6]\n"
          ]
        }
      ]
    },
    {
      "cell_type": "code",
      "source": [
        "for row in arr:\n",
        "    for elem in row:\n",
        "        print(elem)"
      ],
      "metadata": {
        "colab": {
          "base_uri": "https://localhost:8080/"
        },
        "id": "0gIk4IiPbbDC",
        "outputId": "ffbc840d-a21f-4c92-e2b9-eeee21a85b66"
      },
      "execution_count": 41,
      "outputs": [
        {
          "output_type": "stream",
          "name": "stdout",
          "text": [
            "1\n",
            "2\n",
            "3\n",
            "4\n",
            "5\n",
            "6\n"
          ]
        }
      ]
    },
    {
      "cell_type": "code",
      "source": [
        "import numpy as np\n",
        "\n",
        "arr = np.array([\n",
        "    [[1, 2, 3], [4, 5, 6]],\n",
        "    [[7, 8, 9], [10, 11, 12]]\n",
        "])\n",
        "\n",
        "for x in arr:\n",
        "    print(x)\n"
      ],
      "metadata": {
        "colab": {
          "base_uri": "https://localhost:8080/"
        },
        "id": "dnyNmX58cKPf",
        "outputId": "a3a259c4-e797-4746-c445-fc0ab0ae122f"
      },
      "execution_count": 46,
      "outputs": [
        {
          "output_type": "stream",
          "name": "stdout",
          "text": [
            "[[1 2 3]\n",
            " [4 5 6]]\n",
            "[[ 7  8  9]\n",
            " [10 11 12]]\n"
          ]
        }
      ]
    },
    {
      "cell_type": "markdown",
      "source": [
        "In basic for loops, iterating through each scalar of an array, we need to use n for loops, which can be difficult to write for arrays with very high dimensionality.\n"
      ],
      "metadata": {
        "id": "FGFK-_mIcSJm"
      }
    },
    {
      "cell_type": "code",
      "source": [
        "#Iterating using np.nditer()\n",
        "for x in np.nditer(arr):\n",
        "    print(x)\n",
        "\n",
        "#np.nditer() flattens the array and iterates element by element (regardless of dimensionality)."
      ],
      "metadata": {
        "colab": {
          "base_uri": "https://localhost:8080/"
        },
        "id": "EczOtJ-EbgRm",
        "outputId": "59624693-b556-4c37-8adc-2d2dd51d80f1"
      },
      "execution_count": 43,
      "outputs": [
        {
          "output_type": "stream",
          "name": "stdout",
          "text": [
            "1\n",
            "2\n",
            "3\n",
            "4\n",
            "5\n",
            "6\n"
          ]
        }
      ]
    },
    {
      "cell_type": "code",
      "source": [
        "arr = np.array([[1, 2, 3, 4],\n",
        "                [5, 6, 7, 8]])\n",
        "\n",
        "for x in np.nditer(arr[:, ::2]):\n",
        "    print(x)\n",
        "#arr[:, ::2]  select columns 0 and 2 from each row.\n",
        "# Also, np.nditer iterates in row-major order by default."
      ],
      "metadata": {
        "colab": {
          "base_uri": "https://localhost:8080/"
        },
        "id": "F5q4mQKvci7Q",
        "outputId": "9b7e9661-285e-4864-f8e7-4126019a14bb"
      },
      "execution_count": 48,
      "outputs": [
        {
          "output_type": "stream",
          "name": "stdout",
          "text": [
            "1\n",
            "3\n",
            "5\n",
            "7\n"
          ]
        }
      ]
    },
    {
      "cell_type": "code",
      "source": [
        "print(\"\\nColumn-major order:\")\n",
        "for x in np.nditer(arr, order='F'):\n",
        "    print(x, end=\" \")\n",
        "\n",
        "#order='C' → row-major (default)     order='F' → column-major"
      ],
      "metadata": {
        "colab": {
          "base_uri": "https://localhost:8080/"
        },
        "id": "AgtZtiTAdO1V",
        "outputId": "bc87ee9d-8493-4a5e-8b55-90ebcb3c6916"
      },
      "execution_count": 50,
      "outputs": [
        {
          "output_type": "stream",
          "name": "stdout",
          "text": [
            "\n",
            "Column-major order:\n",
            "1 5 2 6 3 7 4 8 "
          ]
        }
      ]
    },
    {
      "cell_type": "code",
      "source": [
        "# Iterating with index using np.ndenumerate()\n",
        "for idx, val in np.ndenumerate(arr):\n",
        "    print(idx, val)"
      ],
      "metadata": {
        "colab": {
          "base_uri": "https://localhost:8080/"
        },
        "id": "_0EGXJdbbuhy",
        "outputId": "2aaa0ee2-18cf-4612-a1e8-f2f7ede51dd5"
      },
      "execution_count": 45,
      "outputs": [
        {
          "output_type": "stream",
          "name": "stdout",
          "text": [
            "(0, 0) 1\n",
            "(0, 1) 2\n",
            "(0, 2) 3\n",
            "(1, 0) 4\n",
            "(1, 1) 5\n",
            "(1, 2) 6\n"
          ]
        }
      ]
    },
    {
      "cell_type": "markdown",
      "source": [
        "np.ndenumerate() to iterate over a 1D NumPy array with both index and value, which is very useful for tracking positions during iteration."
      ],
      "metadata": {
        "id": "az0d8UIgdnek"
      }
    },
    {
      "cell_type": "code",
      "source": [
        "arr = np.array([1, 2, 3])\n",
        "\n",
        "for idx, x in np.ndenumerate(arr):\n",
        "    print(idx, x)\n"
      ],
      "metadata": {
        "colab": {
          "base_uri": "https://localhost:8080/"
        },
        "id": "8dXoNQMEduKp",
        "outputId": "47fa387d-1a73-4730-af7f-ccc45d32e365"
      },
      "execution_count": 51,
      "outputs": [
        {
          "output_type": "stream",
          "name": "stdout",
          "text": [
            "(0,) 1\n",
            "(1,) 2\n",
            "(2,) 3\n"
          ]
        }
      ]
    },
    {
      "cell_type": "code",
      "source": [
        "arr = np.array([[1, 2, 3, 4],\n",
        "                [5, 6, 7, 8]])\n",
        "\n",
        "for idx, x in np.ndenumerate(arr):\n",
        "    print(idx, x)\n"
      ],
      "metadata": {
        "colab": {
          "base_uri": "https://localhost:8080/"
        },
        "id": "urAjeFXWd3KC",
        "outputId": "8556e290-2f51-44dc-ecf4-51d80327cb73"
      },
      "execution_count": 52,
      "outputs": [
        {
          "output_type": "stream",
          "name": "stdout",
          "text": [
            "(0, 0) 1\n",
            "(0, 1) 2\n",
            "(0, 2) 3\n",
            "(0, 3) 4\n",
            "(1, 0) 5\n",
            "(1, 1) 6\n",
            "(1, 2) 7\n",
            "(1, 3) 8\n"
          ]
        }
      ]
    },
    {
      "cell_type": "markdown",
      "source": [
        "**Random Numbers in NumPy**\n",
        "\n",
        "Random number does NOT mean a different number every time. Random means something that can not be predicted logically.\n"
      ],
      "metadata": {
        "id": "LlFRnAcqeRl9"
      }
    },
    {
      "cell_type": "markdown",
      "source": [
        "1. Generate a random integer from 0 to 100\n",
        "\n",
        "2. Generate a random float from 0 to 1   \n",
        "\n",
        "3. Generate a 1-D array containing 5 random integers from 0 to 100:"
      ],
      "metadata": {
        "id": "1kzBXCz4etrw"
      }
    },
    {
      "cell_type": "code",
      "source": [
        "import numpy as np\n",
        "\n",
        "# 1. Random integer from 0 to 100 (inclusive)\n",
        "rand_int = np.random.randint(0, 101)\n",
        "print(\"Random Integer:\", rand_int)\n",
        "\n",
        "# 2. Random float from 0 to 1\n",
        "rand_float = np.random.rand()\n",
        "print(\"Random Float:\", rand_float)\n",
        "\n",
        "# 3. 1-D array with 5 random integers from 0 to 100 (inclusive)\n",
        "rand_array = np.random.randint(0, 101, size=5)\n",
        "print(\"Random Integer Array:\", rand_array)\n"
      ],
      "metadata": {
        "colab": {
          "base_uri": "https://localhost:8080/"
        },
        "id": "uD7VT6VoeTki",
        "outputId": "9d7debfc-9b6d-45d0-dd9b-9e1490a66528"
      },
      "execution_count": 53,
      "outputs": [
        {
          "output_type": "stream",
          "name": "stdout",
          "text": [
            "Random Integer: 2\n",
            "Random Float: 0.5684820807185182\n",
            "Random Integer Array: [79 56 68 56 27]\n"
          ]
        }
      ]
    },
    {
      "cell_type": "code",
      "source": [
        "# Choose from [3, 5, 7, 9] with the given probabilities\n",
        "x=[]\n",
        "from numpy import random\n",
        "x = random.choice(\n",
        "    [3, 5, 7, 9],          # values to choose from\n",
        "    p=[0.1, 0.3, 0.6, 0.0],# probabilities for each value\n",
        "    size=(100)             # number of elements in output\n",
        ")\n",
        "\n",
        "print(x)\n"
      ],
      "metadata": {
        "colab": {
          "base_uri": "https://localhost:8080/"
        },
        "id": "GO4hpI3JfLKs",
        "outputId": "fec01949-e004-4813-f1db-31421ac736ce"
      },
      "execution_count": 55,
      "outputs": [
        {
          "output_type": "stream",
          "name": "stdout",
          "text": [
            "[5 5 7 5 7 7 7 7 3 7 7 7 7 5 7 5 7 5 7 7 7 7 7 7 7 7 5 7 3 5 5 7 3 3 5 3 5\n",
            " 7 7 5 7 7 7 5 7 7 7 5 7 7 7 5 5 7 7 7 7 3 3 5 7 7 5 5 7 7 5 7 7 7 7 7 7 5\n",
            " 7 3 7 7 7 5 5 7 3 5 7 7 5 7 7 7 7 7 5 7 7 3 7 7 7 7]\n"
          ]
        }
      ]
    },
    {
      "cell_type": "markdown",
      "source": [
        "Generate a random normal distribution of size 2x3 with mean at 1 and standard deviation of 2.\n",
        "\n",
        "loc=1 → mean of distribution = 1\n",
        "\n",
        "scale=2 → standard deviation = 2\n",
        "\n",
        "size=(2, 3) → 2 rows × 3 columns"
      ],
      "metadata": {
        "id": "bU8cDzHgf2nk"
      }
    },
    {
      "cell_type": "code",
      "source": [
        "from numpy import random\n",
        "\n",
        "# mean = 1, std dev = 2, shape = (2, 3)\n",
        "x = random.normal(loc=1, scale=2, size=(2, 3))\n",
        "\n",
        "print(x)\n"
      ],
      "metadata": {
        "colab": {
          "base_uri": "https://localhost:8080/"
        },
        "id": "eLs52n0Af4PJ",
        "outputId": "eebce5ed-dd7e-4c70-bcee-fd24427d8989"
      },
      "execution_count": 58,
      "outputs": [
        {
          "output_type": "stream",
          "name": "stdout",
          "text": [
            "[[ 3.32037062  0.10842865  1.97790778]\n",
            " [-2.08378886  0.58433148 -0.13357675]]\n"
          ]
        }
      ]
    },
    {
      "cell_type": "code",
      "source": [
        "import matplotlib.pyplot as plt\n",
        "\n",
        "data=x\n",
        "plt.hist(data.flatten(), bins=10, color='skyblue', edgecolor='black')\n",
        "plt.title(\"Histogram of Normal Distribution\")\n",
        "plt.xlabel(\"Value\")\n",
        "plt.ylabel(\"Frequency\")\n",
        "plt.grid(True, linestyle='--', alpha=0.6)\n",
        "plt.show()"
      ],
      "metadata": {
        "colab": {
          "base_uri": "https://localhost:8080/",
          "height": 472
        },
        "id": "PI9khqasgjBn",
        "outputId": "bf9ac689-fa46-4636-b567-be965904dfd3"
      },
      "execution_count": 59,
      "outputs": [
        {
          "output_type": "display_data",
          "data": {
            "text/plain": [
              "<Figure size 640x480 with 1 Axes>"
            ],
            "image/png": "[encoded data removed]"
          },
          "metadata": {}
        }
      ]
    },
    {
      "cell_type": "markdown",
      "source": [
        "**KDE - Kernel Density Estimate** (smooth probability curve)"
      ],
      "metadata": {
        "id": "ZH6GsW-nhGLU"
      }
    },
    {
      "cell_type": "markdown",
      "source": [
        "**Normal distribution**"
      ],
      "metadata": {
        "id": "ua7nUdVqit4q"
      }
    },
    {
      "cell_type": "code",
      "source": [
        "from numpy import random\n",
        "import matplotlib.pyplot as plt\n",
        "import seaborn as sns\n",
        "\n",
        "# Generate 1000 random numbers from standard normal distribution\n",
        "data = random.normal(size=1000)\n",
        "\n",
        "# Create a KDE (smooth probability curve)\n",
        "sns.displot(data, kind=\"kde\")\n",
        "\n",
        "# Display the plot\n",
        "plt.show()\n"
      ],
      "metadata": {
        "colab": {
          "base_uri": "https://localhost:8080/",
          "height": 506
        },
        "id": "2EX4BQ3_hFRh",
        "outputId": "bc53ce5c-ddc3-4933-e3f7-8488010bb419"
      },
      "execution_count": 60,
      "outputs": [
        {
          "output_type": "display_data",
          "data": {
            "text/plain": [
              "<Figure size 500x500 with 1 Axes>"
            ],
            "image/png": "[encoded data removed]"
          },
          "metadata": {}
        }
      ]
    },
    {
      "cell_type": "markdown",
      "source": [
        "**Binomial distribution**"
      ],
      "metadata": {
        "id": "b9nckRIPipFp"
      }
    },
    {
      "cell_type": "code",
      "source": [
        "from numpy import random\n",
        "import matplotlib.pyplot as plt\n",
        "import seaborn as sns\n",
        "\n",
        "# Generate binomial distribution samples\n",
        "data = random.binomial(n=10, p=0.5, size=1000)\n",
        "\n",
        "# Plot histogram\n",
        "sns.displot(data, kde=False)  # kde=False keeps it as bars\n",
        "plt.show()\n",
        "\n",
        "#binomial(n=10, p=0.5, size=10) means:\n",
        "#You're conducting 10 Bernoulli trials per sample (n=10),\n",
        "#Each trial has a success probability of 0.5 (p=0.5),\n",
        "#You're generating 10 such samples (size=10)."
      ],
      "metadata": {
        "colab": {
          "base_uri": "https://localhost:8080/",
          "height": 506
        },
        "id": "b6nazKbUhVox",
        "outputId": "5d4de78b-cf37-4ed0-d482-57c42c2c3c2f"
      },
      "execution_count": 65,
      "outputs": [
        {
          "output_type": "display_data",
          "data": {
            "text/plain": [
              "<Figure size 500x500 with 1 Axes>"
            ],
            "image/png": "[encoded data removed]"
          },
          "metadata": {}
        }
      ]
    },
    {
      "cell_type": "code",
      "source": [
        "# Plot histogram\n",
        "sns.displot(data, kde=True)\n",
        "plt.show()"
      ],
      "metadata": {
        "colab": {
          "base_uri": "https://localhost:8080/",
          "height": 506
        },
        "id": "mMaQJWl6hnwo",
        "outputId": "7828599b-025a-4d3d-d816-6c80458659bd"
      },
      "execution_count": 66,
      "outputs": [
        {
          "output_type": "display_data",
          "data": {
            "text/plain": [
              "<Figure size 500x500 with 1 Axes>"
            ],
            "image/png": "[encoded data removed]"
          },
          "metadata": {}
        }
      ]
    },
    {
      "cell_type": "markdown",
      "source": [
        "**Poisson distribution**\n",
        "\n",
        "It has two parameters:\n",
        "\n",
        "lam - rate or known number of occurrences (\\lambda).\n",
        "\n",
        "size - The shape of the returned array."
      ],
      "metadata": {
        "id": "gmTmOUixikHO"
      }
    },
    {
      "cell_type": "code",
      "source": [
        "from numpy import random\n",
        "\n",
        "# Generate 1x10 Poisson distribution with λ = 2\n",
        "data = random.poisson(lam=2, size=(1, 10))\n",
        "\n",
        "print(data)\n",
        "\n",
        "#Each number represents how many events occurred in one trial, and they are centered around the average value of 2."
      ],
      "metadata": {
        "colab": {
          "base_uri": "https://localhost:8080/"
        },
        "id": "ZaVMmXHbihdK",
        "outputId": "15504087-3514-41a3-dd90-507d79c1c468"
      },
      "execution_count": 68,
      "outputs": [
        {
          "output_type": "stream",
          "name": "stdout",
          "text": [
            "[[3 0 2 1 1 3 2 1 3 1]]\n"
          ]
        }
      ]
    },
    {
      "cell_type": "markdown",
      "source": [
        "**Difference Between Normal, Binomial, and Poisson Distribution**\n",
        "\n",
        "The main difference is that a normal distribution is continuous, whereas a binomial distribution is discrete. However, with enough data points, it will be quite similar to a normal distribution with a certain location and scale.\n",
        "\n",
        "Normal distribution is continuous whereas Poisson is discrete. But we can see that, similar to binomial for a large enough Poisson distribution, it will become similar to normal distribution with certain std dev and mean.\n",
        "\n",
        "\n",
        "| Feature             | **Normal Distribution**                                        | **Binomial Distribution**                        | **Poisson Distribution**                       |\n",
        "| ------------------- | -------------------------------------------------------------- | ------------------------------------------------ | ---------------------------------------------- |\n",
        "| **Type**            | Continuous                                                     | Discrete                                         | Discrete                                       |\n",
        "| **Shape**           | Symmetrical, bell-shaped                                       | Symmetrical if p=0.5, skewed otherwise           | Skewed for small λ, approx. normal for large λ |\n",
        "| **Parameters**      | Mean (μ), Standard Deviation (σ)                               | Number of trials (n), Probability of success (p) | Average rate of occurrence (λ)                 |\n",
        "| **Possible Values** | Any real number                                                | Integers from 0 to n                             | Integers from 0 to ∞                           |\n",
        "| **Use Case**        | Heights, weights, IQ scores                                    | Coin tosses, pass/fail tests                     | Number of events in a time/space interval      |\n",
        "| **Example**         | Weight of bread loaves                                         | Number of heads in 10 coin flips                 | Number of emails per hour                      |\n",
        "| **Formula**         | $\\frac{1}{\\sigma\\sqrt{2\\pi}} e^{-\\frac{(x-\\mu)^2}{2\\sigma^2}}$ | $P(X = k) = \\binom{n}{k} p^k (1-p)^{n-k}$        | $P(X = k) = \\frac{e^{-\\lambda} \\lambda^k}{k!}$ |\n",
        "| **Key Notes**       | Approximates many real-world continuous datasets               | Fixed number of independent trials               | Focus on rate, events happen independently     |\n",
        "\n"
      ],
      "metadata": {
        "id": "lPJmXpu5jXPw"
      }
    },
    {
      "cell_type": "code",
      "source": [
        "from numpy import random\n",
        "import matplotlib.pyplot as plt\n",
        "import seaborn as sns\n",
        "import pandas as pd\n",
        "\n",
        "# Generate data\n",
        "data = {\n",
        "    \"Distribution\": [\"Normal\"] * 1000 + [\"Binomial\"] * 1000 + [\"Poisson\"] * 1000,\n",
        "    \"Value\": list(random.normal(loc=50, scale=5, size=1000)) +\n",
        "             list(random.binomial(n=100, p=0.5, size=1000)) +\n",
        "             list(random.poisson(lam=50, size=1000))\n",
        "}\n",
        "\n",
        "df = pd.DataFrame(data)\n",
        "\n",
        "# KDE Plot\n",
        "sns.displot(df, x=\"Value\", hue=\"Distribution\", kind=\"kde\", fill=True)\n",
        "plt.show()\n"
      ],
      "metadata": {
        "colab": {
          "base_uri": "https://localhost:8080/",
          "height": 506
        },
        "id": "TXGBeXrokBQ1",
        "outputId": "223c35b0-9937-4633-b5b6-4a32f2dcb492"
      },
      "execution_count": 70,
      "outputs": [
        {
          "output_type": "display_data",
          "data": {
            "text/plain": [
              "<Figure size 610.625x500 with 1 Axes>"
            ],
            "image/png": "[encoded data removed]"
          },
          "metadata": {}
        }
      ]
    },
    {
      "cell_type": "markdown",
      "source": [
        "**Rayleigh Distribution & Chi-square distribution**\n",
        "\n",
        "*Rayleigh distribution* has two parameters:\n",
        "\n",
        "1. scale - (standard deviation) decides how flat the distribution will be default 1.0).\n",
        "\n",
        "2. size - The shape of the returned array.\n",
        "\n",
        "*Chi Square distribution* has two parameters:\n",
        "\n",
        "1. df - (degree of freedom).\n",
        "\n",
        "2. size - The shape of the returned array.\n",
        "\n"
      ],
      "metadata": {
        "id": "SXCQVeW7kUjT"
      }
    },
    {
      "cell_type": "code",
      "source": [
        "from numpy import random\n",
        "import matplotlib.pyplot as plt\n",
        "import seaborn as sns\n",
        "import pandas as pd\n",
        "\n",
        "# Generate data\n",
        "data = {\n",
        "    \"Distribution\": [\"Rayleigh\"] * 1000 + [\"Chisquare\"] * 1000,\n",
        "    \"Value\": list(random.rayleigh(size=1000)) +\n",
        "             list(random.chisquare(df=1, size=1000))\n",
        "}\n",
        "\n",
        "df = pd.DataFrame(data)\n",
        "\n",
        "# KDE plot\n",
        "sns.displot(df, x=\"Value\", hue=\"Distribution\", kind=\"kde\", fill=True)\n",
        "plt.show()\n"
      ],
      "metadata": {
        "colab": {
          "base_uri": "https://localhost:8080/",
          "height": 506
        },
        "id": "z2vYKfuNkU7Z",
        "outputId": "ea3a63df-7fb7-4e31-ae2d-8085bec3c540"
      },
      "execution_count": 71,
      "outputs": [
        {
          "output_type": "display_data",
          "data": {
            "text/plain": [
              "<Figure size 619.75x500 with 1 Axes>"
            ],
            "image/png": "[encoded data removed]"
          },
          "metadata": {}
        }
      ]
    },
    {
      "cell_type": "markdown",
      "source": [
        "NumPy’s arithmetic functions (add, subtract, multiply, divide, etc.) **for element-wise operations.**"
      ],
      "metadata": {
        "id": "u7fbJlJulJPu"
      }
    },
    {
      "cell_type": "code",
      "source": [
        "import numpy as np\n",
        "\n",
        "arr1 = np.array([10, 20, 30, 40, 50, 60])\n",
        "arr2 = np.array([3, 5, 10, 8, 2, 33])\n",
        "\n",
        "newarr_add = np.add(arr1, arr2)       # Addition\n",
        "newarr_sub = np.subtract(arr1, arr2)  # Subtraction\n",
        "newarr_mul = np.multiply(arr1, arr2)  # Multiplication\n",
        "newarr_div = np.divide(arr1, arr2)    # Division\n",
        "newarr_pow = np.power(arr1, arr2)     # Power\n",
        "newarr_rem = np.mod(arr1, arr2)       # Modulus\n",
        "newarr_quotient_mod = np.divmod(arr1, arr2)  # Quotient + Remainder\n",
        "\n",
        "print(\"Addition:\", newarr_add)\n",
        "print(\"Subtraction:\", newarr_sub)\n",
        "print(\"Multiplication:\", newarr_mul)\n",
        "print(\"Division:\", newarr_div)\n",
        "print(\"Power:\", newarr_pow)\n",
        "print(\"Remainder:\", newarr_rem)\n",
        "print(\"Quotient & Remainder:\", newarr_quotient_mod)"
      ],
      "metadata": {
        "colab": {
          "base_uri": "https://localhost:8080/"
        },
        "id": "WEYi1YNdlLl8",
        "outputId": "523a1ade-e1ba-4170-8037-7d24a1be6b0e"
      },
      "execution_count": 72,
      "outputs": [
        {
          "output_type": "stream",
          "name": "stdout",
          "text": [
            "Addition: [13 25 40 48 52 93]\n",
            "Subtraction: [ 7 15 20 32 48 27]\n",
            "Multiplication: [  30  100  300  320  100 1980]\n",
            "Division: [ 3.33333333  4.          3.          5.         25.          1.81818182]\n",
            "Power: [           1000         3200000 590490000000000   6553600000000\n",
            "            2500               0]\n",
            "Remainder: [ 1  0  0  0  0 27]\n",
            "Quotient & Remainder: (array([ 3,  4,  3,  5, 25,  1]), array([ 1,  0,  0,  0,  0, 27]))\n"
          ]
        }
      ]
    },
    {
      "cell_type": "markdown",
      "source": [
        "| Function      | Action                                             |\n",
        "| ------------- | -------------------------------------------------- |\n",
        "| `np.trunc()`  | Removes fractional part (toward zero).             |\n",
        "| `np.fix()`    | Same as trunc, but explicitly \"round toward zero\". |\n",
        "| `np.around()` | Rounds to nearest, with option for decimal places. |\n",
        "| `np.floor()`  | Rounds down to the nearest integer.                |\n",
        "| `np.ceil()`   | Rounds up to the nearest integer.                  |\n"
      ],
      "metadata": {
        "id": "_Q7ctfG9lbIW"
      }
    },
    {
      "cell_type": "code",
      "source": [
        "import numpy as np\n",
        "\n",
        "arr1 = np.trunc([-3.1666, 3.6667])        # Truncate: remove fractional part → [-3.,  3.]\n",
        "arr2 = np.fix([-3.1666, 3.6667])          # Fix: round toward zero → [-3.,  3.]\n",
        "arr3 = np.around(3.1666, 2)               # Round to 2 decimal places → 3.17\n",
        "arr4 = np.floor([-3.1666, 3.6667])        # Floor: round down → [-4.,  3.]\n",
        "arr5 = np.ceil([-3.1666, 3.6667])         # Ceil: round up → [-3.,  4.]\n",
        "\n",
        "print(\"Trunc:\", arr1)\n",
        "print(\"Fix:\", arr2)\n",
        "print(\"Around:\", arr3)\n",
        "print(\"Floor:\", arr4)\n",
        "print(\"Ceil:\", arr5)"
      ],
      "metadata": {
        "colab": {
          "base_uri": "https://localhost:8080/"
        },
        "id": "GmEdbDK1lcEm",
        "outputId": "bc1f9bd1-7d1f-40c8-ef0f-bd595923f56a"
      },
      "execution_count": 73,
      "outputs": [
        {
          "output_type": "stream",
          "name": "stdout",
          "text": [
            "Trunc: [-3.  3.]\n",
            "Fix: [-3.  3.]\n",
            "Around: 3.17\n",
            "Floor: [-4.  3.]\n",
            "Ceil: [-3.  4.]\n"
          ]
        }
      ]
    }
  ]
}